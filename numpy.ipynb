{
 "cells": [
  {
   "cell_type": "code",
   "execution_count": 2,
   "metadata": {},
   "outputs": [],
   "source": [
    "# numpy: python.org-->pypi.org --> 200000+ Lakh \n",
    "\n"
   ]
  },
  {
   "cell_type": "code",
   "execution_count": 3,
   "metadata": {},
   "outputs": [
    {
     "name": "stdout",
     "output_type": "stream",
     "text": [
      "Requirement already satisfied: numpy in c:\\users\\ducat\\appdata\\local\\programs\\python\\python311\\lib\\site-packages (1.24.3)\n",
      "Note: you may need to restart the kernel to use updated packages.\n"
     ]
    }
   ],
   "source": [
    "pip install numpy"
   ]
  },
  {
   "cell_type": "code",
   "execution_count": 5,
   "metadata": {},
   "outputs": [],
   "source": [
    "import numpy as np\n",
    "a=np.array([[3,2,1],[4,3,2],[1,2,1]])"
   ]
  },
  {
   "cell_type": "code",
   "execution_count": 7,
   "metadata": {},
   "outputs": [
    {
     "name": "stdout",
     "output_type": "stream",
     "text": [
      "[[3 2 1]\n",
      " [4 3 2]\n",
      " [1 2 1]]\n"
     ]
    },
    {
     "data": {
      "text/plain": [
       "(3, 3)"
      ]
     },
     "execution_count": 7,
     "metadata": {},
     "output_type": "execute_result"
    }
   ],
   "source": [
    "print(a)\n",
    "a.shape"
   ]
  },
  {
   "cell_type": "code",
   "execution_count": 8,
   "metadata": {},
   "outputs": [
    {
     "name": "stdout",
     "output_type": "stream",
     "text": [
      "[1 2 1]\n",
      "(3,)\n"
     ]
    }
   ],
   "source": [
    "b=np.array([1,2,1])\n",
    "print(b)\n",
    "print(b.shape)"
   ]
  },
  {
   "cell_type": "code",
   "execution_count": 9,
   "metadata": {},
   "outputs": [
    {
     "data": {
      "text/plain": [
       "array([[3, 4, 1],\n",
       "       [4, 6, 2],\n",
       "       [1, 4, 1]])"
      ]
     },
     "execution_count": 9,
     "metadata": {},
     "output_type": "execute_result"
    }
   ],
   "source": [
    "a*b"
   ]
  },
  {
   "cell_type": "code",
   "execution_count": 10,
   "metadata": {},
   "outputs": [],
   "source": [
    "# scaler --> 0 Dimensional array"
   ]
  },
  {
   "cell_type": "code",
   "execution_count": 24,
   "metadata": {},
   "outputs": [
    {
     "name": "stdout",
     "output_type": "stream",
     "text": [
      "1\n"
     ]
    }
   ],
   "source": [
    "a=np.array(1)   # 0 Dimensional array\n",
    "print(a)"
   ]
  },
  {
   "cell_type": "code",
   "execution_count": 18,
   "metadata": {},
   "outputs": [
    {
     "name": "stdout",
     "output_type": "stream",
     "text": [
      "[1 2 3 4 5]\n"
     ]
    }
   ],
   "source": [
    "b=np.array([1,2,3,4,5])\n",
    "print(b)"
   ]
  },
  {
   "cell_type": "code",
   "execution_count": 21,
   "metadata": {},
   "outputs": [
    {
     "name": "stdout",
     "output_type": "stream",
     "text": [
      "[[1 2 3]\n",
      " [3 4 1]]\n"
     ]
    }
   ],
   "source": [
    "c=np.array([[1,2,3],[3,4,1]])  # 2 Dimension array\n",
    "print(c)"
   ]
  },
  {
   "cell_type": "code",
   "execution_count": 23,
   "metadata": {},
   "outputs": [
    {
     "name": "stdout",
     "output_type": "stream",
     "text": [
      "[[[1 3 4]\n",
      "  [1 2 3]]]\n"
     ]
    }
   ],
   "source": [
    "d=np.array([[[1,3,4],[1,2,3]]])\n",
    "print(d)"
   ]
  },
  {
   "cell_type": "code",
   "execution_count": 26,
   "metadata": {},
   "outputs": [
    {
     "data": {
      "text/plain": [
       "16386810"
      ]
     },
     "execution_count": 26,
     "metadata": {},
     "output_type": "execute_result"
    }
   ],
   "source": [
    "255*254*253"
   ]
  },
  {
   "cell_type": "code",
   "execution_count": 27,
   "metadata": {},
   "outputs": [
    {
     "data": {
      "text/plain": [
       "8294400"
      ]
     },
     "execution_count": 27,
     "metadata": {},
     "output_type": "execute_result"
    }
   ],
   "source": [
    "1440*1920*3"
   ]
  },
  {
   "cell_type": "code",
   "execution_count": 1,
   "metadata": {},
   "outputs": [],
   "source": [
    "import numpy as np"
   ]
  },
  {
   "cell_type": "code",
   "execution_count": 7,
   "metadata": {},
   "outputs": [
    {
     "name": "stdout",
     "output_type": "stream",
     "text": [
      "10\n",
      "<class 'numpy.ndarray'>\n",
      "0\n",
      "()\n"
     ]
    }
   ],
   "source": [
    "a=np.array(10)\n",
    "print(a)\n",
    "print(type(a))\n",
    "print(a.ndim)\n",
    "print(a.shape)"
   ]
  },
  {
   "cell_type": "code",
   "execution_count": 13,
   "metadata": {},
   "outputs": [
    {
     "name": "stdout",
     "output_type": "stream",
     "text": [
      "[1 2 3 4]\n",
      "1\n",
      "(4,)\n"
     ]
    }
   ],
   "source": [
    "b=np.array([1,2,3,4])\n",
    "print(b)\n",
    "print(b.ndim)\n",
    "print(b.shape)"
   ]
  },
  {
   "cell_type": "code",
   "execution_count": 14,
   "metadata": {},
   "outputs": [
    {
     "name": "stdout",
     "output_type": "stream",
     "text": [
      "[[1 2 3 4]]\n",
      "2\n",
      "(1, 4)\n"
     ]
    }
   ],
   "source": [
    "c=np.array([[1,2,3,4]])\n",
    "print(c)\n",
    "print(c.ndim)\n",
    "print(c.shape)"
   ]
  },
  {
   "cell_type": "code",
   "execution_count": 15,
   "metadata": {},
   "outputs": [
    {
     "name": "stdout",
     "output_type": "stream",
     "text": [
      "[[[1 2 3 4]]]\n",
      "3\n",
      "(1, 1, 4)\n"
     ]
    }
   ],
   "source": [
    "d=np.array([[[1,2,3,4]]])\n",
    "print(d)\n",
    "print(d.ndim)\n",
    "print(d.shape)"
   ]
  },
  {
   "cell_type": "code",
   "execution_count": 16,
   "metadata": {},
   "outputs": [
    {
     "name": "stdout",
     "output_type": "stream",
     "text": [
      "[[[[1 2 3 4]]]]\n",
      "4\n",
      "(1, 1, 1, 4)\n"
     ]
    }
   ],
   "source": [
    "d=np.array([[[[1,2,3,4]]]])\n",
    "print(d)    #[[[[1 2 3 4]]]]\n",
    "print(d.ndim)   #4\n",
    "print(d.shape)  #(1, 1, 1, 4)"
   ]
  },
  {
   "cell_type": "code",
   "execution_count": 4,
   "metadata": {},
   "outputs": [
    {
     "name": "stdout",
     "output_type": "stream",
     "text": [
      "[[1, 3], [2, 3, 4], [3, 5, 6]]\n",
      "<class 'list'>\n"
     ]
    }
   ],
   "source": [
    "a=[[1,3],[2,3,4],[3,5,6]]\n",
    "print(a)\n",
    "print(type(a))"
   ]
  },
  {
   "cell_type": "code",
   "execution_count": 10,
   "metadata": {},
   "outputs": [
    {
     "name": "stdout",
     "output_type": "stream",
     "text": [
      "[[1 2 3]\n",
      " [2 3 0]]\n",
      "<class 'numpy.ndarray'>\n"
     ]
    }
   ],
   "source": [
    "import numpy as np\n",
    "a=np.array([[1,2,3],[2,3,0]])\n",
    "print(a)\n",
    "print(type(a))"
   ]
  },
  {
   "cell_type": "code",
   "execution_count": 14,
   "metadata": {},
   "outputs": [
    {
     "data": {
      "text/plain": [
       "array([[[[0., 0., 0., 0.],\n",
       "         [0., 0., 0., 0.]],\n",
       "\n",
       "        [[0., 0., 0., 0.],\n",
       "         [0., 0., 0., 0.]]],\n",
       "\n",
       "\n",
       "       [[[0., 0., 0., 0.],\n",
       "         [0., 0., 0., 0.]],\n",
       "\n",
       "        [[0., 0., 0., 0.],\n",
       "         [0., 0., 0., 0.]]]])"
      ]
     },
     "execution_count": 14,
     "metadata": {},
     "output_type": "execute_result"
    }
   ],
   "source": [
    "np.zeros((2,2,2,4))"
   ]
  },
  {
   "cell_type": "code",
   "execution_count": 1,
   "metadata": {},
   "outputs": [],
   "source": [
    "# Date : 3/5/2023"
   ]
  },
  {
   "cell_type": "code",
   "execution_count": 2,
   "metadata": {},
   "outputs": [],
   "source": [
    "import numpy as np"
   ]
  },
  {
   "cell_type": "code",
   "execution_count": 3,
   "metadata": {},
   "outputs": [],
   "source": [
    "a=np.array([1,2,3,4])"
   ]
  },
  {
   "cell_type": "code",
   "execution_count": 4,
   "metadata": {},
   "outputs": [
    {
     "name": "stdout",
     "output_type": "stream",
     "text": [
      "[1 2 3 4]\n"
     ]
    }
   ],
   "source": [
    "print(a)"
   ]
  },
  {
   "cell_type": "code",
   "execution_count": 5,
   "metadata": {},
   "outputs": [
    {
     "data": {
      "text/plain": [
       "numpy.ndarray"
      ]
     },
     "execution_count": 5,
     "metadata": {},
     "output_type": "execute_result"
    }
   ],
   "source": [
    "type(a)"
   ]
  },
  {
   "cell_type": "code",
   "execution_count": 14,
   "metadata": {},
   "outputs": [
    {
     "data": {
      "text/plain": [
       "array([0, 1, 2, 3, 4, 5, 6, 7, 8, 9])"
      ]
     },
     "execution_count": 14,
     "metadata": {},
     "output_type": "execute_result"
    }
   ],
   "source": [
    "np.arange(10)  # this belong to numpy return an iterable and it value inside an array   "
   ]
  },
  {
   "cell_type": "code",
   "execution_count": 7,
   "metadata": {},
   "outputs": [
    {
     "data": {
      "text/plain": [
       "range(0, 10)"
      ]
     },
     "execution_count": 7,
     "metadata": {},
     "output_type": "execute_result"
    }
   ],
   "source": [
    "range(10)  # this belongs to python only return iterable "
   ]
  },
  {
   "cell_type": "code",
   "execution_count": 15,
   "metadata": {},
   "outputs": [
    {
     "data": {
      "text/plain": [
       "array([0, 1, 2, 3, 4, 5, 6, 7, 8, 9])"
      ]
     },
     "execution_count": 15,
     "metadata": {},
     "output_type": "execute_result"
    }
   ],
   "source": [
    "np.arange(0,10)  # start value_will be 0 bydefault,end value(exclusive), step(bydefault 1)  "
   ]
  },
  {
   "cell_type": "code",
   "execution_count": 17,
   "metadata": {},
   "outputs": [
    {
     "data": {
      "text/plain": [
       "array([0, 1, 2, 3, 4, 5, 6, 7, 8, 9])"
      ]
     },
     "execution_count": 17,
     "metadata": {},
     "output_type": "execute_result"
    }
   ],
   "source": [
    "np.arange(0,10,1) # start value, end value, step"
   ]
  },
  {
   "cell_type": "code",
   "execution_count": 18,
   "metadata": {},
   "outputs": [
    {
     "data": {
      "text/plain": [
       "array([0, 2, 4, 6, 8])"
      ]
     },
     "execution_count": 18,
     "metadata": {},
     "output_type": "execute_result"
    }
   ],
   "source": [
    "np.arange(0,10,2)"
   ]
  },
  {
   "cell_type": "code",
   "execution_count": 19,
   "metadata": {},
   "outputs": [
    {
     "data": {
      "text/plain": [
       "array([2, 5, 8])"
      ]
     },
     "execution_count": 19,
     "metadata": {},
     "output_type": "execute_result"
    }
   ],
   "source": [
    "np.arange(2,10,3)"
   ]
  },
  {
   "cell_type": "code",
   "execution_count": 21,
   "metadata": {},
   "outputs": [
    {
     "data": {
      "text/plain": [
       "array([10,  9,  8,  7,  6,  5,  4,  3,  2,  1])"
      ]
     },
     "execution_count": 21,
     "metadata": {},
     "output_type": "execute_result"
    }
   ],
   "source": [
    "np.arange(10,0,-1)"
   ]
  },
  {
   "cell_type": "code",
   "execution_count": 23,
   "metadata": {},
   "outputs": [
    {
     "data": {
      "text/plain": [
       "array([0, 1, 2, 3, 4, 5, 6, 7, 8, 9])"
      ]
     },
     "execution_count": 23,
     "metadata": {},
     "output_type": "execute_result"
    }
   ],
   "source": [
    "np.array([i for i in range(10)])"
   ]
  },
  {
   "cell_type": "code",
   "execution_count": 26,
   "metadata": {},
   "outputs": [
    {
     "name": "stdout",
     "output_type": "stream",
     "text": [
      "[0, 1, 2, 3, 4, 5, 6, 7, 8, 9, 10, 11, 12, 13, 14, 15, 16, 17, 18, 19, 20, 21, 22, 23, 24, 25, 26, 27, 28, 29, 30, 31, 32, 33, 34, 35, 36, 37, 38, 39, 40, 41, 42, 43, 44, 45, 46, 47, 48, 49, 50, 51, 52, 53, 54, 55, 56, 57, 58, 59, 60, 61, 62, 63, 64, 65, 66, 67, 68, 69, 70, 71, 72, 73, 74, 75, 76, 77, 78, 79, 80, 81, 82, 83, 84, 85, 86, 87, 88, 89, 90, 91, 92, 93, 94, 95, 96, 97, 98, 99]\n"
     ]
    }
   ],
   "source": [
    "a=[i for i in range(100)]\n",
    "print(a)"
   ]
  },
  {
   "cell_type": "code",
   "execution_count": 27,
   "metadata": {},
   "outputs": [],
   "source": [
    "b=np.array(a)"
   ]
  },
  {
   "cell_type": "code",
   "execution_count": 28,
   "metadata": {},
   "outputs": [
    {
     "name": "stdout",
     "output_type": "stream",
     "text": [
      "[ 0  1  2  3  4  5  6  7  8  9 10 11 12 13 14 15 16 17 18 19 20 21 22 23\n",
      " 24 25 26 27 28 29 30 31 32 33 34 35 36 37 38 39 40 41 42 43 44 45 46 47\n",
      " 48 49 50 51 52 53 54 55 56 57 58 59 60 61 62 63 64 65 66 67 68 69 70 71\n",
      " 72 73 74 75 76 77 78 79 80 81 82 83 84 85 86 87 88 89 90 91 92 93 94 95\n",
      " 96 97 98 99]\n"
     ]
    }
   ],
   "source": [
    "print(b)"
   ]
  },
  {
   "cell_type": "code",
   "execution_count": 29,
   "metadata": {},
   "outputs": [],
   "source": [
    "import sys"
   ]
  },
  {
   "cell_type": "code",
   "execution_count": 30,
   "metadata": {},
   "outputs": [
    {
     "data": {
      "text/plain": [
       "920"
      ]
     },
     "execution_count": 30,
     "metadata": {},
     "output_type": "execute_result"
    }
   ],
   "source": [
    "sys.getsizeof(a)  # list use higher value as compare to array with same number of elments, hence it faster"
   ]
  },
  {
   "cell_type": "code",
   "execution_count": 32,
   "metadata": {},
   "outputs": [
    {
     "data": {
      "text/plain": [
       "512"
      ]
     },
     "execution_count": 32,
     "metadata": {},
     "output_type": "execute_result"
    }
   ],
   "source": [
    "sys.getsizeof(b)  # array aquire less space as compare to list"
   ]
  },
  {
   "cell_type": "code",
   "execution_count": 33,
   "metadata": {},
   "outputs": [
    {
     "data": {
      "text/plain": [
       "100"
      ]
     },
     "execution_count": 33,
     "metadata": {},
     "output_type": "execute_result"
    }
   ],
   "source": [
    "len(a)"
   ]
  },
  {
   "cell_type": "code",
   "execution_count": 34,
   "metadata": {},
   "outputs": [
    {
     "data": {
      "text/plain": [
       "100"
      ]
     },
     "execution_count": 34,
     "metadata": {},
     "output_type": "execute_result"
    }
   ],
   "source": [
    "len(b)"
   ]
  },
  {
   "cell_type": "code",
   "execution_count": 35,
   "metadata": {},
   "outputs": [],
   "source": [
    "# precedence\n",
    "# array: a collection which contain similar datatype called array.it never allows hetrogenous(dis similar datatype) datatype"
   ]
  },
  {
   "cell_type": "code",
   "execution_count": 38,
   "metadata": {},
   "outputs": [
    {
     "data": {
      "text/plain": [
       "array(['1', '2.343', 'krishna'], dtype='<U32')"
      ]
     },
     "execution_count": 38,
     "metadata": {},
     "output_type": "execute_result"
    }
   ],
   "source": [
    "np.array([1,2.343,\"krishna\"])"
   ]
  },
  {
   "cell_type": "code",
   "execution_count": 39,
   "metadata": {},
   "outputs": [
    {
     "data": {
      "text/plain": [
       "array([1.   , 2.343])"
      ]
     },
     "execution_count": 39,
     "metadata": {},
     "output_type": "execute_result"
    }
   ],
   "source": [
    "np.array([1,2.343])"
   ]
  },
  {
   "cell_type": "code",
   "execution_count": 40,
   "metadata": {},
   "outputs": [
    {
     "data": {
      "text/plain": [
       "array([1, 1, 2, 3, 4])"
      ]
     },
     "execution_count": 40,
     "metadata": {},
     "output_type": "execute_result"
    }
   ],
   "source": [
    "np.array([1,1,2,3,4])"
   ]
  },
  {
   "cell_type": "code",
   "execution_count": 44,
   "metadata": {},
   "outputs": [
    {
     "ename": "AttributeError",
     "evalue": "module 'numpy' has no attribute 'int128'",
     "output_type": "error",
     "traceback": [
      "\u001b[1;31m---------------------------------------------------------------------------\u001b[0m",
      "\u001b[1;31mAttributeError\u001b[0m                            Traceback (most recent call last)",
      "Cell \u001b[1;32mIn[44], line 1\u001b[0m\n\u001b[1;32m----> 1\u001b[0m np\u001b[39m.\u001b[39marray([\u001b[39m1\u001b[39m,\u001b[39m2.343\u001b[39m,\u001b[39m\"\u001b[39m\u001b[39mkrishna\u001b[39m\u001b[39m\"\u001b[39m],dtype\u001b[39m=\u001b[39mnp\u001b[39m.\u001b[39;49mint128)\n",
      "File \u001b[1;32mc:\\Users\\Ducat\\AppData\\Local\\Programs\\Python\\Python311\\Lib\\site-packages\\numpy\\__init__.py:320\u001b[0m, in \u001b[0;36m__getattr__\u001b[1;34m(attr)\u001b[0m\n\u001b[0;32m    317\u001b[0m     \u001b[39mfrom\u001b[39;00m \u001b[39m.\u001b[39;00m\u001b[39mtesting\u001b[39;00m \u001b[39mimport\u001b[39;00m Tester\n\u001b[0;32m    318\u001b[0m     \u001b[39mreturn\u001b[39;00m Tester\n\u001b[1;32m--> 320\u001b[0m \u001b[39mraise\u001b[39;00m \u001b[39mAttributeError\u001b[39;00m(\u001b[39m\"\u001b[39m\u001b[39mmodule \u001b[39m\u001b[39m{!r}\u001b[39;00m\u001b[39m has no attribute \u001b[39m\u001b[39m\"\u001b[39m\n\u001b[0;32m    321\u001b[0m                      \u001b[39m\"\u001b[39m\u001b[39m{!r}\u001b[39;00m\u001b[39m\"\u001b[39m\u001b[39m.\u001b[39mformat(\u001b[39m__name__\u001b[39m, attr))\n",
      "\u001b[1;31mAttributeError\u001b[0m: module 'numpy' has no attribute 'int128'"
     ]
    }
   ],
   "source": [
    "np.array([1,2.343,\"krishna\"],dtype=np.int128)"
   ]
  },
  {
   "cell_type": "code",
   "execution_count": 45,
   "metadata": {},
   "outputs": [
    {
     "ename": "ValueError",
     "evalue": "invalid literal for int() with base 10: 'krishna'",
     "output_type": "error",
     "traceback": [
      "\u001b[1;31m---------------------------------------------------------------------------\u001b[0m",
      "\u001b[1;31mValueError\u001b[0m                                Traceback (most recent call last)",
      "Cell \u001b[1;32mIn[45], line 1\u001b[0m\n\u001b[1;32m----> 1\u001b[0m np\u001b[39m.\u001b[39;49marray([\u001b[39m1\u001b[39;49m,\u001b[39m2.343\u001b[39;49m,\u001b[39m\"\u001b[39;49m\u001b[39mkrishna\u001b[39;49m\u001b[39m\"\u001b[39;49m],dtype\u001b[39m=\u001b[39;49mnp\u001b[39m.\u001b[39;49mint64)\n",
      "\u001b[1;31mValueError\u001b[0m: invalid literal for int() with base 10: 'krishna'"
     ]
    }
   ],
   "source": [
    "np.array([1,2.343,\"krishna\"],dtype=np.int64)"
   ]
  },
  {
   "cell_type": "code",
   "execution_count": 52,
   "metadata": {},
   "outputs": [
    {
     "name": "stdout",
     "output_type": "stream",
     "text": [
      "[ 1  2 10]\n"
     ]
    },
    {
     "data": {
      "text/plain": [
       "115"
      ]
     },
     "execution_count": 52,
     "metadata": {},
     "output_type": "execute_result"
    }
   ],
   "source": [
    "a=np.array([1,2.343,\"10\"],dtype=np.int8)\n",
    "print(a)\n",
    "sys.getsizeof(a)"
   ]
  },
  {
   "cell_type": "code",
   "execution_count": 53,
   "metadata": {},
   "outputs": [
    {
     "name": "stdout",
     "output_type": "stream",
     "text": [
      "[ 1  2 10]\n"
     ]
    },
    {
     "data": {
      "text/plain": [
       "136"
      ]
     },
     "execution_count": 53,
     "metadata": {},
     "output_type": "execute_result"
    }
   ],
   "source": [
    "b=np.array([1,2.343,\"10\"],dtype=np.int64)\n",
    "print(b)\n",
    "sys.getsizeof(b)"
   ]
  },
  {
   "cell_type": "code",
   "execution_count": 56,
   "metadata": {},
   "outputs": [],
   "source": [
    "c=np.array([1,2.343,\"10\"],dtype=np.float64)"
   ]
  },
  {
   "cell_type": "code",
   "execution_count": 57,
   "metadata": {},
   "outputs": [
    {
     "name": "stdout",
     "output_type": "stream",
     "text": [
      "[ 1.     2.343 10.   ]\n"
     ]
    }
   ],
   "source": [
    "print(c)"
   ]
  },
  {
   "cell_type": "code",
   "execution_count": 62,
   "metadata": {},
   "outputs": [
    {
     "name": "stdout",
     "output_type": "stream",
     "text": [
      "[ 1.     2.343 10.   ]\n"
     ]
    }
   ],
   "source": [
    "d=np.array([1,2.343,\"10.0\"],dtype=np.float32)\n",
    "print(d)"
   ]
  },
  {
   "cell_type": "code",
   "execution_count": 63,
   "metadata": {},
   "outputs": [],
   "source": [
    "e=np.array(d,dtype=np.int8)"
   ]
  },
  {
   "cell_type": "code",
   "execution_count": 64,
   "metadata": {},
   "outputs": [
    {
     "name": "stdout",
     "output_type": "stream",
     "text": [
      "[ 1  2 10]\n"
     ]
    }
   ],
   "source": [
    "print(e)"
   ]
  },
  {
   "cell_type": "code",
   "execution_count": 65,
   "metadata": {},
   "outputs": [],
   "source": [
    "e=np.array(np.array([1,2.343,\"10.0\"],dtype=np.float32),dtype=np.int8)"
   ]
  },
  {
   "cell_type": "code",
   "execution_count": 66,
   "metadata": {},
   "outputs": [
    {
     "name": "stdout",
     "output_type": "stream",
     "text": [
      "[ 1  2 10]\n"
     ]
    }
   ],
   "source": [
    "print(e)"
   ]
  },
  {
   "cell_type": "code",
   "execution_count": 67,
   "metadata": {},
   "outputs": [
    {
     "name": "stdout",
     "output_type": "stream",
     "text": [
      "[ 1  2 10]\n"
     ]
    }
   ],
   "source": [
    "print(e)"
   ]
  },
  {
   "cell_type": "code",
   "execution_count": 68,
   "metadata": {},
   "outputs": [
    {
     "data": {
      "text/plain": [
       "array(['1', '2', '10'], dtype='<U4')"
      ]
     },
     "execution_count": 68,
     "metadata": {},
     "output_type": "execute_result"
    }
   ],
   "source": [
    "np.array(e,dtype=np.str_)"
   ]
  },
  {
   "cell_type": "code",
   "execution_count": 71,
   "metadata": {},
   "outputs": [
    {
     "data": {
      "text/plain": [
       "array([[1., 1., 1., 1., 1., 1., 1., 1., 1., 1.],\n",
       "       [1., 1., 1., 1., 1., 1., 1., 1., 1., 1.],\n",
       "       [1., 1., 1., 1., 1., 1., 1., 1., 1., 1.]])"
      ]
     },
     "execution_count": 71,
     "metadata": {},
     "output_type": "execute_result"
    }
   ],
   "source": [
    "np.ones((3,10))"
   ]
  },
  {
   "cell_type": "code",
   "execution_count": 72,
   "metadata": {},
   "outputs": [
    {
     "data": {
      "text/plain": [
       "array([[[1., 1., 1., 1., 1., 1., 1., 1., 1., 1.],\n",
       "        [1., 1., 1., 1., 1., 1., 1., 1., 1., 1.],\n",
       "        [1., 1., 1., 1., 1., 1., 1., 1., 1., 1.]],\n",
       "\n",
       "       [[1., 1., 1., 1., 1., 1., 1., 1., 1., 1.],\n",
       "        [1., 1., 1., 1., 1., 1., 1., 1., 1., 1.],\n",
       "        [1., 1., 1., 1., 1., 1., 1., 1., 1., 1.]]])"
      ]
     },
     "execution_count": 72,
     "metadata": {},
     "output_type": "execute_result"
    }
   ],
   "source": [
    "np.ones((2,3,10))"
   ]
  },
  {
   "cell_type": "code",
   "execution_count": 74,
   "metadata": {},
   "outputs": [
    {
     "data": {
      "text/plain": [
       "array([[[[1.],\n",
       "         [1.],\n",
       "         [1.]],\n",
       "\n",
       "        [[1.],\n",
       "         [1.],\n",
       "         [1.]]],\n",
       "\n",
       "\n",
       "       [[[1.],\n",
       "         [1.],\n",
       "         [1.]],\n",
       "\n",
       "        [[1.],\n",
       "         [1.],\n",
       "         [1.]]],\n",
       "\n",
       "\n",
       "       [[[1.],\n",
       "         [1.],\n",
       "         [1.]],\n",
       "\n",
       "        [[1.],\n",
       "         [1.],\n",
       "         [1.]]]])"
      ]
     },
     "execution_count": 74,
     "metadata": {},
     "output_type": "execute_result"
    }
   ],
   "source": [
    "np.ones((3,2,3,1))\n"
   ]
  },
  {
   "cell_type": "code",
   "execution_count": 77,
   "metadata": {},
   "outputs": [
    {
     "data": {
      "text/plain": [
       "array([[[0., 0., 0., 0., 0., 0., 0., 0., 0., 0.],\n",
       "        [0., 0., 0., 0., 0., 0., 0., 0., 0., 0.]],\n",
       "\n",
       "       [[0., 0., 0., 0., 0., 0., 0., 0., 0., 0.],\n",
       "        [0., 0., 0., 0., 0., 0., 0., 0., 0., 0.]],\n",
       "\n",
       "       [[0., 0., 0., 0., 0., 0., 0., 0., 0., 0.],\n",
       "        [0., 0., 0., 0., 0., 0., 0., 0., 0., 0.]]])"
      ]
     },
     "execution_count": 77,
     "metadata": {},
     "output_type": "execute_result"
    }
   ],
   "source": [
    "np.zeros((3,2,10))"
   ]
  },
  {
   "cell_type": "code",
   "execution_count": 79,
   "metadata": {},
   "outputs": [
    {
     "data": {
      "text/plain": [
       "array([20., 20., 20., 20., 20., 20., 20., 20., 20., 20.], dtype=float32)"
      ]
     },
     "execution_count": 79,
     "metadata": {},
     "output_type": "execute_result"
    }
   ],
   "source": [
    "np.array(np.full((10,),20),dtype=np.float32)"
   ]
  },
  {
   "cell_type": "code",
   "execution_count": 80,
   "metadata": {},
   "outputs": [
    {
     "data": {
      "text/plain": [
       "array([0., 0., 0., 0., 0., 0., 0., 0., 0., 0.])"
      ]
     },
     "execution_count": 80,
     "metadata": {},
     "output_type": "execute_result"
    }
   ],
   "source": [
    "np.zeros((10,))"
   ]
  },
  {
   "cell_type": "code",
   "execution_count": 81,
   "metadata": {},
   "outputs": [
    {
     "data": {
      "text/plain": [
       "array([1., 1., 1., 1., 1., 1., 1., 1., 1., 1.])"
      ]
     },
     "execution_count": 81,
     "metadata": {},
     "output_type": "execute_result"
    }
   ],
   "source": [
    "np.ones((10,))"
   ]
  },
  {
   "cell_type": "code",
   "execution_count": 82,
   "metadata": {},
   "outputs": [
    {
     "data": {
      "text/plain": [
       "array([2, 2, 2, 2, 2, 2, 2, 2, 2, 2])"
      ]
     },
     "execution_count": 82,
     "metadata": {},
     "output_type": "execute_result"
    }
   ],
   "source": [
    "np.full((10,),2)"
   ]
  },
  {
   "cell_type": "code",
   "execution_count": 83,
   "metadata": {},
   "outputs": [
    {
     "data": {
      "text/plain": [
       "array([3, 3, 3, 3, 3, 3, 3, 3, 3, 3])"
      ]
     },
     "execution_count": 83,
     "metadata": {},
     "output_type": "execute_result"
    }
   ],
   "source": [
    "np.full((10,),3)"
   ]
  },
  {
   "cell_type": "code",
   "execution_count": 85,
   "metadata": {},
   "outputs": [],
   "source": [
    "a=np.full((10,),4)"
   ]
  },
  {
   "cell_type": "code",
   "execution_count": 87,
   "metadata": {},
   "outputs": [
    {
     "data": {
      "text/plain": [
       "array(['4', '4', '4', '4', '4', '4', '4', '4', '4', '4'], dtype='<U11')"
      ]
     },
     "execution_count": 87,
     "metadata": {},
     "output_type": "execute_result"
    }
   ],
   "source": [
    "np.array(np.full((10,),4),dtype=np.str_)"
   ]
  },
  {
   "cell_type": "code",
   "execution_count": 92,
   "metadata": {},
   "outputs": [
    {
     "data": {
      "text/plain": [
       "array([  0.,  25.,  50.,  75., 100.])"
      ]
     },
     "execution_count": 92,
     "metadata": {},
     "output_type": "execute_result"
    }
   ],
   "source": [
    "np.linspace(0,100,5)"
   ]
  },
  {
   "cell_type": "code",
   "execution_count": 89,
   "metadata": {},
   "outputs": [
    {
     "data": {
      "text/plain": [
       "9"
      ]
     },
     "execution_count": 89,
     "metadata": {},
     "output_type": "execute_result"
    }
   ],
   "source": [
    "10-1"
   ]
  },
  {
   "cell_type": "code",
   "execution_count": 95,
   "metadata": {},
   "outputs": [
    {
     "data": {
      "text/plain": [
       "array([  1.  ,  25.75,  50.5 ,  75.25, 100.  ])"
      ]
     },
     "execution_count": 95,
     "metadata": {},
     "output_type": "execute_result"
    }
   ],
   "source": [
    "np.linspace(1,100,5)  #start, end,size  (start and end both are inclusive)"
   ]
  },
  {
   "cell_type": "code",
   "execution_count": 143,
   "metadata": {},
   "outputs": [
    {
     "data": {
      "text/plain": [
       "array([[[3, 5, 6, 6, 3, 6, 3, 4, 2, 3],\n",
       "        [3, 1, 1, 4, 5, 4, 3, 2, 6, 4]],\n",
       "\n",
       "       [[4, 1, 4, 4, 6, 4, 4, 5, 2, 1],\n",
       "        [3, 1, 5, 5, 1, 6, 3, 3, 4, 5]],\n",
       "\n",
       "       [[1, 2, 5, 6, 6, 3, 1, 2, 1, 5],\n",
       "        [5, 6, 4, 5, 1, 4, 4, 3, 2, 5]]])"
      ]
     },
     "execution_count": 143,
     "metadata": {},
     "output_type": "execute_result"
    }
   ],
   "source": [
    "np.random.randint(1,7,(3,2,10))  # start,end(exclusive),matrix size(tuple)"
   ]
  },
  {
   "cell_type": "code",
   "execution_count": 146,
   "metadata": {},
   "outputs": [
    {
     "data": {
      "text/plain": [
       "2"
      ]
     },
     "execution_count": 146,
     "metadata": {},
     "output_type": "execute_result"
    }
   ],
   "source": [
    "np.random.randint(1,7) "
   ]
  },
  {
   "cell_type": "code",
   "execution_count": 1,
   "metadata": {},
   "outputs": [],
   "source": [
    "# Date:-4/5/2023"
   ]
  },
  {
   "cell_type": "code",
   "execution_count": 2,
   "metadata": {},
   "outputs": [],
   "source": [
    "import numpy as np"
   ]
  },
  {
   "cell_type": "code",
   "execution_count": 6,
   "metadata": {},
   "outputs": [],
   "source": [
    "a=np.random.randint(1,10,10)"
   ]
  },
  {
   "cell_type": "code",
   "execution_count": 7,
   "metadata": {},
   "outputs": [
    {
     "name": "stdout",
     "output_type": "stream",
     "text": [
      "[8 8 5 3 3 6 8 2 4 1]\n"
     ]
    }
   ],
   "source": [
    "print(a)"
   ]
  },
  {
   "cell_type": "code",
   "execution_count": 9,
   "metadata": {},
   "outputs": [
    {
     "data": {
      "text/plain": [
       "array([4, 6, 1, 9, 1, 1, 5, 9, 2, 6])"
      ]
     },
     "execution_count": 9,
     "metadata": {},
     "output_type": "execute_result"
    }
   ],
   "source": [
    "np.random.randint(1,10,(10,))"
   ]
  },
  {
   "cell_type": "code",
   "execution_count": 11,
   "metadata": {},
   "outputs": [
    {
     "data": {
      "text/plain": [
       "array([[5, 9],\n",
       "       [1, 4],\n",
       "       [1, 4],\n",
       "       [1, 1],\n",
       "       [7, 5],\n",
       "       [8, 4],\n",
       "       [8, 8],\n",
       "       [8, 3],\n",
       "       [2, 2],\n",
       "       [8, 4]])"
      ]
     },
     "execution_count": 11,
     "metadata": {},
     "output_type": "execute_result"
    }
   ],
   "source": [
    "np.random.randint(1,10,(10,2))"
   ]
  },
  {
   "cell_type": "code",
   "execution_count": 15,
   "metadata": {},
   "outputs": [
    {
     "name": "stdout",
     "output_type": "stream",
     "text": [
      "[[[4 4 9]\n",
      "  [9 3 2]]\n",
      "\n",
      " [[7 9 1]\n",
      "  [4 8 9]]\n",
      "\n",
      " [[4 4 8]\n",
      "  [4 2 9]]\n",
      "\n",
      " [[3 5 2]\n",
      "  [9 5 7]]\n",
      "\n",
      " [[8 5 4]\n",
      "  [4 9 5]]\n",
      "\n",
      " [[1 7 8]\n",
      "  [4 6 7]]\n",
      "\n",
      " [[7 9 1]\n",
      "  [2 7 9]]\n",
      "\n",
      " [[3 4 1]\n",
      "  [3 4 9]]\n",
      "\n",
      " [[2 4 4]\n",
      "  [6 7 6]]\n",
      "\n",
      " [[8 4 6]\n",
      "  [3 8 1]]]\n"
     ]
    }
   ],
   "source": [
    "a=np.random.randint(1,10,(10,2,3))\n",
    "print(a)"
   ]
  },
  {
   "cell_type": "code",
   "execution_count": 18,
   "metadata": {},
   "outputs": [],
   "source": [
    "a=np.random.randint(1,10,(2,3))"
   ]
  },
  {
   "cell_type": "code",
   "execution_count": 19,
   "metadata": {},
   "outputs": [
    {
     "data": {
      "text/plain": [
       "array([[5, 1, 8],\n",
       "       [2, 2, 2]])"
      ]
     },
     "execution_count": 19,
     "metadata": {},
     "output_type": "execute_result"
    }
   ],
   "source": [
    "a"
   ]
  },
  {
   "cell_type": "code",
   "execution_count": 24,
   "metadata": {},
   "outputs": [
    {
     "data": {
      "text/plain": [
       "array([5, 1, 8, 2, 2, 2])"
      ]
     },
     "execution_count": 24,
     "metadata": {},
     "output_type": "execute_result"
    }
   ],
   "source": [
    "a.flatten()    # bydefault numpy array 2d or nd dimensional array flatten in 1D using C programming array referance."
   ]
  },
  {
   "cell_type": "code",
   "execution_count": 25,
   "metadata": {},
   "outputs": [
    {
     "data": {
      "text/plain": [
       "array([5, 1, 8, 2, 2, 2])"
      ]
     },
     "execution_count": 25,
     "metadata": {},
     "output_type": "execute_result"
    }
   ],
   "source": [
    "a.flatten(order=\"C\")"
   ]
  },
  {
   "cell_type": "code",
   "execution_count": 27,
   "metadata": {},
   "outputs": [
    {
     "data": {
      "text/plain": [
       "array([5, 2, 1, 2, 8, 2])"
      ]
     },
     "execution_count": 27,
     "metadata": {},
     "output_type": "execute_result"
    }
   ],
   "source": [
    "a.flatten(order='F') # bydefault numpy array 2d or nd dimensional array flatten in 1D using Fortran programming array referance."
   ]
  },
  {
   "cell_type": "code",
   "execution_count": 29,
   "metadata": {},
   "outputs": [],
   "source": [
    "a=np.array([i for i in range(10)])"
   ]
  },
  {
   "cell_type": "code",
   "execution_count": 30,
   "metadata": {},
   "outputs": [
    {
     "name": "stdout",
     "output_type": "stream",
     "text": [
      "[0 1 2 3 4 5 6 7 8 9]\n"
     ]
    }
   ],
   "source": [
    "print(a)"
   ]
  },
  {
   "cell_type": "code",
   "execution_count": 31,
   "metadata": {},
   "outputs": [
    {
     "data": {
      "text/plain": [
       "array([[0, 1, 2, 3, 4],\n",
       "       [5, 6, 7, 8, 9]])"
      ]
     },
     "execution_count": 31,
     "metadata": {},
     "output_type": "execute_result"
    }
   ],
   "source": [
    "a.reshape((2,5))"
   ]
  },
  {
   "cell_type": "code",
   "execution_count": 32,
   "metadata": {},
   "outputs": [
    {
     "data": {
      "text/plain": [
       "array([[0, 1],\n",
       "       [2, 3],\n",
       "       [4, 5],\n",
       "       [6, 7],\n",
       "       [8, 9]])"
      ]
     },
     "execution_count": 32,
     "metadata": {},
     "output_type": "execute_result"
    }
   ],
   "source": [
    "a.reshape((5,2))"
   ]
  },
  {
   "cell_type": "code",
   "execution_count": 33,
   "metadata": {},
   "outputs": [
    {
     "ename": "ValueError",
     "evalue": "cannot reshape array of size 10 into shape (6,10)",
     "output_type": "error",
     "traceback": [
      "\u001b[1;31m---------------------------------------------------------------------------\u001b[0m",
      "\u001b[1;31mValueError\u001b[0m                                Traceback (most recent call last)",
      "Cell \u001b[1;32mIn[33], line 1\u001b[0m\n\u001b[1;32m----> 1\u001b[0m a\u001b[39m.\u001b[39;49mreshape(\u001b[39m6\u001b[39;49m,\u001b[39m10\u001b[39;49m)\n",
      "\u001b[1;31mValueError\u001b[0m: cannot reshape array of size 10 into shape (6,10)"
     ]
    }
   ],
   "source": [
    "a.reshape(6,10)\n"
   ]
  },
  {
   "cell_type": "code",
   "execution_count": 34,
   "metadata": {},
   "outputs": [
    {
     "data": {
      "text/plain": [
       "array([0, 1, 2, 3, 4, 5, 6, 7, 8, 9])"
      ]
     },
     "execution_count": 34,
     "metadata": {},
     "output_type": "execute_result"
    }
   ],
   "source": [
    "a"
   ]
  },
  {
   "cell_type": "code",
   "execution_count": 37,
   "metadata": {},
   "outputs": [],
   "source": [
    "a.resize((2,3),refcheck=False)"
   ]
  },
  {
   "cell_type": "code",
   "execution_count": 38,
   "metadata": {},
   "outputs": [
    {
     "name": "stdout",
     "output_type": "stream",
     "text": [
      "[[0 1 2]\n",
      " [3 4 5]]\n"
     ]
    }
   ],
   "source": [
    "print(a)"
   ]
  },
  {
   "cell_type": "code",
   "execution_count": 40,
   "metadata": {},
   "outputs": [],
   "source": [
    "a.resize((2,2),refcheck=False)"
   ]
  },
  {
   "cell_type": "code",
   "execution_count": 41,
   "metadata": {},
   "outputs": [
    {
     "name": "stdout",
     "output_type": "stream",
     "text": [
      "[[0 1]\n",
      " [2 3]]\n"
     ]
    }
   ],
   "source": [
    "print(a)"
   ]
  },
  {
   "cell_type": "code",
   "execution_count": 49,
   "metadata": {},
   "outputs": [],
   "source": [
    "a=np.random.randint(1,10,(12))"
   ]
  },
  {
   "cell_type": "code",
   "execution_count": 50,
   "metadata": {},
   "outputs": [
    {
     "name": "stdout",
     "output_type": "stream",
     "text": [
      "[4 7 3 3 3 3 7 2 9 4 2 5]\n"
     ]
    }
   ],
   "source": [
    "print(a)"
   ]
  },
  {
   "cell_type": "code",
   "execution_count": 53,
   "metadata": {},
   "outputs": [
    {
     "data": {
      "text/plain": [
       "array([[4, 7, 3, 3, 3, 3],\n",
       "       [7, 2, 9, 4, 2, 5]])"
      ]
     },
     "execution_count": 53,
     "metadata": {},
     "output_type": "execute_result"
    }
   ],
   "source": [
    "a.reshape(2,-1)"
   ]
  },
  {
   "cell_type": "code",
   "execution_count": 56,
   "metadata": {},
   "outputs": [
    {
     "data": {
      "text/plain": [
       "array([[[[4, 7],\n",
       "         [3, 3],\n",
       "         [3, 3],\n",
       "         [7, 2],\n",
       "         [9, 4],\n",
       "         [2, 5]]]])"
      ]
     },
     "execution_count": 56,
     "metadata": {},
     "output_type": "execute_result"
    }
   ],
   "source": [
    "a.reshape(1,1,-1,2)"
   ]
  },
  {
   "cell_type": "code",
   "execution_count": 57,
   "metadata": {},
   "outputs": [
    {
     "ename": "ValueError",
     "evalue": "can only specify one unknown dimension",
     "output_type": "error",
     "traceback": [
      "\u001b[1;31m---------------------------------------------------------------------------\u001b[0m",
      "\u001b[1;31mValueError\u001b[0m                                Traceback (most recent call last)",
      "Cell \u001b[1;32mIn[57], line 1\u001b[0m\n\u001b[1;32m----> 1\u001b[0m a\u001b[39m.\u001b[39;49mreshape(\u001b[39m-\u001b[39;49m\u001b[39m1\u001b[39;49m,\u001b[39m-\u001b[39;49m\u001b[39m1\u001b[39;49m)\n",
      "\u001b[1;31mValueError\u001b[0m: can only specify one unknown dimension"
     ]
    }
   ],
   "source": [
    "a.reshape(-1,-1)"
   ]
  },
  {
   "cell_type": "code",
   "execution_count": 59,
   "metadata": {},
   "outputs": [],
   "source": [
    "a=[1,2,3,4]\n",
    "b=[3,4,5,6]"
   ]
  },
  {
   "cell_type": "code",
   "execution_count": 60,
   "metadata": {},
   "outputs": [
    {
     "data": {
      "text/plain": [
       "[1, 2, 3, 4, 3, 4, 5, 6]"
      ]
     },
     "execution_count": 60,
     "metadata": {},
     "output_type": "execute_result"
    }
   ],
   "source": [
    "a+b"
   ]
  },
  {
   "cell_type": "code",
   "execution_count": 66,
   "metadata": {},
   "outputs": [
    {
     "name": "stdout",
     "output_type": "stream",
     "text": [
      "[[[ 4  6  8 10]\n",
      "  [ 2  4  6  8]]]\n"
     ]
    }
   ],
   "source": [
    "c=np.array([1,2,3,4])\n",
    "d=np.array([[[3,4,5,6],[1,2,3,4]]])\n",
    "print(c+d)"
   ]
  },
  {
   "cell_type": "code",
   "execution_count": 68,
   "metadata": {},
   "outputs": [
    {
     "data": {
      "text/plain": [
       "array([1, 2, 3, 4, 3, 4, 5, 6])"
      ]
     },
     "execution_count": 68,
     "metadata": {},
     "output_type": "execute_result"
    }
   ],
   "source": [
    "np.concatenate((a,b))"
   ]
  },
  {
   "cell_type": "code",
   "execution_count": 73,
   "metadata": {},
   "outputs": [
    {
     "data": {
      "text/plain": [
       "array([ 3,  6,  9, 12])"
      ]
     },
     "execution_count": 73,
     "metadata": {},
     "output_type": "execute_result"
    }
   ],
   "source": [
    "c*3"
   ]
  },
  {
   "cell_type": "code",
   "execution_count": 72,
   "metadata": {},
   "outputs": [
    {
     "data": {
      "text/plain": [
       "[1, 2, 3, 4, 1, 2, 3, 4, 1, 2, 3, 4]"
      ]
     },
     "execution_count": 72,
     "metadata": {},
     "output_type": "execute_result"
    }
   ],
   "source": [
    "a*3"
   ]
  },
  {
   "cell_type": "code",
   "execution_count": 74,
   "metadata": {},
   "outputs": [
    {
     "data": {
      "text/plain": [
       "array([1, 2, 3, 4])"
      ]
     },
     "execution_count": 74,
     "metadata": {},
     "output_type": "execute_result"
    }
   ],
   "source": [
    "c"
   ]
  },
  {
   "cell_type": "code",
   "execution_count": 77,
   "metadata": {},
   "outputs": [],
   "source": [
    "c.resize(1,2,refcheck=False)"
   ]
  },
  {
   "cell_type": "code",
   "execution_count": 78,
   "metadata": {},
   "outputs": [
    {
     "name": "stdout",
     "output_type": "stream",
     "text": [
      "[[1 2]]\n"
     ]
    }
   ],
   "source": [
    "print(c)"
   ]
  },
  {
   "cell_type": "code",
   "execution_count": 79,
   "metadata": {},
   "outputs": [
    {
     "data": {
      "text/plain": [
       "[1, 2, 3, 4, 3, 4, 5, 6]"
      ]
     },
     "execution_count": 79,
     "metadata": {},
     "output_type": "execute_result"
    }
   ],
   "source": [
    "[1,2,3,4]+[3,4,5,6]"
   ]
  },
  {
   "cell_type": "code",
   "execution_count": 83,
   "metadata": {},
   "outputs": [
    {
     "name": "stdout",
     "output_type": "stream",
     "text": [
      "[4, 6, 8, 10]\n"
     ]
    }
   ],
   "source": [
    "a=[1,2,3,4]\n",
    "b=[3,4,5,6]\n",
    "cont=[i+j for i,j in zip(a,b)]\n",
    "# for i,j in zip(a,b):\n",
    "#     print(i,j)\n",
    "#     cont.append(i+j)\n",
    "print(cont)\n"
   ]
  },
  {
   "cell_type": "code",
   "execution_count": 2,
   "metadata": {},
   "outputs": [
    {
     "name": "stdout",
     "output_type": "stream",
     "text": [
      "Collecting tensorflowNote: you may need to restart the kernel to use updated packages.\n"
     ]
    },
    {
     "name": "stderr",
     "output_type": "stream",
     "text": [
      "ERROR: pip's dependency resolver does not currently take into account all the packages that are installed. This behaviour is the source of the following dependency conflicts.\n",
      "mysql-connector-python 8.0.32 requires protobuf<=3.20.3,>=3.11.0, but you have protobuf 4.22.4 which is incompatible.\n"
     ]
    },
    {
     "name": "stdout",
     "output_type": "stream",
     "text": [
      "\n",
      "  Downloading tensorflow-2.12.0-cp311-cp311-win_amd64.whl (1.9 kB)\n",
      "Collecting tensorflow-intel==2.12.0 (from tensorflow)\n",
      "  Downloading tensorflow_intel-2.12.0-cp311-cp311-win_amd64.whl (272.9 MB)\n",
      "                                              0.0/272.9 MB ? eta -:--:--\n",
      "                                              0.1/272.9 MB 1.3 MB/s eta 0:03:29\n",
      "                                              0.3/272.9 MB 4.0 MB/s eta 0:01:08\n",
      "                                              0.6/272.9 MB 4.7 MB/s eta 0:00:59\n",
      "                                              0.6/272.9 MB 4.7 MB/s eta 0:00:59\n",
      "                                              0.6/272.9 MB 3.2 MB/s eta 0:01:25\n",
      "                                              0.6/272.9 MB 3.2 MB/s eta 0:01:25\n",
      "                                              0.7/272.9 MB 2.4 MB/s eta 0:01:52\n",
      "                                              0.7/272.9 MB 2.4 MB/s eta 0:01:52\n",
      "                                              0.7/272.9 MB 1.8 MB/s eta 0:02:33\n",
      "                                              0.8/272.9 MB 1.7 MB/s eta 0:02:40\n",
      "                                              0.8/272.9 MB 1.7 MB/s eta 0:02:40\n",
      "                                              0.8/272.9 MB 1.7 MB/s eta 0:02:40\n",
      "                                              0.9/272.9 MB 1.4 MB/s eta 0:03:08\n",
      "                                              0.9/272.9 MB 1.5 MB/s eta 0:02:59\n",
      "                                              0.9/272.9 MB 1.5 MB/s eta 0:02:59\n",
      "                                              1.0/272.9 MB 1.4 MB/s eta 0:03:17\n",
      "                                              1.0/272.9 MB 1.4 MB/s eta 0:03:17\n",
      "                                              1.0/272.9 MB 1.2 MB/s eta 0:03:38\n",
      "                                              1.1/272.9 MB 1.2 MB/s eta 0:03:44\n",
      "                                              1.1/272.9 MB 1.2 MB/s eta 0:03:48\n",
      "                                              1.2/272.9 MB 1.2 MB/s eta 0:03:47\n",
      "                                              1.2/272.9 MB 1.2 MB/s eta 0:03:47\n",
      "                                              1.2/272.9 MB 1.2 MB/s eta 0:03:47\n",
      "                                              1.2/272.9 MB 1.2 MB/s eta 0:03:47\n",
      "                                              1.2/272.9 MB 1.1 MB/s eta 0:04:19\n",
      "                                              1.3/272.9 MB 1.1 MB/s eta 0:04:11\n",
      "                                              1.4/272.9 MB 1.1 MB/s eta 0:04:06\n",
      "                                              1.4/272.9 MB 1.1 MB/s eta 0:04:06\n",
      "                                              1.4/272.9 MB 1.0 MB/s eta 0:04:20\n",
      "                                              1.5/272.9 MB 1.1 MB/s eta 0:04:18\n",
      "                                              1.5/272.9 MB 1.1 MB/s eta 0:04:18\n",
      "                                              1.5/272.9 MB 1.0 MB/s eta 0:04:31\n",
      "                                            1.5/272.9 MB 986.3 kB/s eta 0:04:36\n",
      "                                            1.6/272.9 MB 979.5 kB/s eta 0:04:37\n",
      "                                            1.6/272.9 MB 973.5 kB/s eta 0:04:39\n",
      "                                            1.6/272.9 MB 979.9 kB/s eta 0:04:37\n",
      "                                            1.6/272.9 MB 979.9 kB/s eta 0:04:37\n",
      "                                            1.7/272.9 MB 940.2 kB/s eta 0:04:49\n",
      "                                            1.7/272.9 MB 940.2 kB/s eta 0:04:49\n",
      "                                            1.8/272.9 MB 928.4 kB/s eta 0:04:53\n",
      "                                            1.8/272.9 MB 928.4 kB/s eta 0:04:53\n",
      "                                            1.8/272.9 MB 889.3 kB/s eta 0:05:05\n",
      "                                            1.8/272.9 MB 902.0 kB/s eta 0:05:01\n",
      "                                            1.9/272.9 MB 903.4 kB/s eta 0:05:00\n",
      "                                            1.9/272.9 MB 896.3 kB/s eta 0:05:03\n",
      "                                            1.9/272.9 MB 892.5 kB/s eta 0:05:04\n",
      "                                            2.0/272.9 MB 887.4 kB/s eta 0:05:06\n",
      "                                            2.0/272.9 MB 893.4 kB/s eta 0:05:04\n",
      "                                            2.0/272.9 MB 888.5 kB/s eta 0:05:05\n",
      "                                            2.1/272.9 MB 878.1 kB/s eta 0:05:09\n",
      "                                            2.1/272.9 MB 878.0 kB/s eta 0:05:09\n",
      "                                            2.1/272.9 MB 873.6 kB/s eta 0:05:10\n",
      "                                            2.2/272.9 MB 866.9 kB/s eta 0:05:13\n",
      "                                            2.2/272.9 MB 863.0 kB/s eta 0:05:14\n",
      "                                            2.3/272.9 MB 863.1 kB/s eta 0:05:14\n",
      "                                            2.3/272.9 MB 859.4 kB/s eta 0:05:15\n",
      "                                            2.3/272.9 MB 855.9 kB/s eta 0:05:17\n",
      "                                            2.3/272.9 MB 858.7 kB/s eta 0:05:16\n",
      "                                            2.4/272.9 MB 853.9 kB/s eta 0:05:17\n",
      "                                            2.4/272.9 MB 850.6 kB/s eta 0:05:18\n",
      "                                            2.4/272.9 MB 847.7 kB/s eta 0:05:20\n",
      "                                            2.5/272.9 MB 844.6 kB/s eta 0:05:21\n",
      "                                            2.5/272.9 MB 845.0 kB/s eta 0:05:20\n",
      "                                            2.5/272.9 MB 837.6 kB/s eta 0:05:23\n",
      "                                            2.6/272.9 MB 839.1 kB/s eta 0:05:23\n",
      "                                            2.6/272.9 MB 836.3 kB/s eta 0:05:24\n",
      "                                            2.6/272.9 MB 833.6 kB/s eta 0:05:25\n",
      "                                            2.7/272.9 MB 834.2 kB/s eta 0:05:24\n",
      "                                            2.7/272.9 MB 831.8 kB/s eta 0:05:25\n",
      "                                            2.7/272.9 MB 825.3 kB/s eta 0:05:28\n",
      "                                            2.8/272.9 MB 826.8 kB/s eta 0:05:27\n",
      "                                            2.8/272.9 MB 824.4 kB/s eta 0:05:28\n",
      "                                            2.8/272.9 MB 825.0 kB/s eta 0:05:28\n",
      "                                            2.9/272.9 MB 825.1 kB/s eta 0:05:28\n",
      "                                            2.9/272.9 MB 828.6 kB/s eta 0:05:26\n",
      "                                            3.0/272.9 MB 828.3 kB/s eta 0:05:26\n",
      "                                            3.1/272.9 MB 837.2 kB/s eta 0:05:23\n",
      "                                            3.2/272.9 MB 848.7 kB/s eta 0:05:18\n",
      "                                            3.2/272.9 MB 860.2 kB/s eta 0:05:14\n",
      "                                            3.3/272.9 MB 861.9 kB/s eta 0:05:13\n",
      "                                            3.3/272.9 MB 849.8 kB/s eta 0:05:18\n",
      "                                            3.3/272.9 MB 849.8 kB/s eta 0:05:18\n",
      "                                            3.4/272.9 MB 850.3 kB/s eta 0:05:17\n",
      "                                            3.4/272.9 MB 850.3 kB/s eta 0:05:17\n",
      "                                            3.4/272.9 MB 839.7 kB/s eta 0:05:21\n",
      "                                            3.4/272.9 MB 841.0 kB/s eta 0:05:21\n",
      "                                            3.5/272.9 MB 843.5 kB/s eta 0:05:20\n",
      "                                            3.5/272.9 MB 838.3 kB/s eta 0:05:22\n",
      "                                            3.5/272.9 MB 838.3 kB/s eta 0:05:22\n",
      "                                            3.5/272.9 MB 829.4 kB/s eta 0:05:25\n",
      "                                            3.5/272.9 MB 819.8 kB/s eta 0:05:29\n",
      "                                            3.7/272.9 MB 838.5 kB/s eta 0:05:22\n",
      "                                            3.8/272.9 MB 862.0 kB/s eta 0:05:13\n",
      "                                            3.8/272.9 MB 857.5 kB/s eta 0:05:14\n",
      "                                            3.8/272.9 MB 857.5 kB/s eta 0:05:14\n",
      "                                            3.9/272.9 MB 864.8 kB/s eta 0:05:11\n",
      "                                            4.0/272.9 MB 866.2 kB/s eta 0:05:11\n",
      "                                            4.0/272.9 MB 864.9 kB/s eta 0:05:11\n",
      "                                            4.1/272.9 MB 867.2 kB/s eta 0:05:10\n",
      "                                            4.1/272.9 MB 867.2 kB/s eta 0:05:10\n",
      "                                            4.1/272.9 MB 863.0 kB/s eta 0:05:12\n",
      "                                            4.2/272.9 MB 858.8 kB/s eta 0:05:13\n",
      "                                            4.2/272.9 MB 859.7 kB/s eta 0:05:13\n",
      "                                            4.2/272.9 MB 851.6 kB/s eta 0:05:16\n",
      "                                            4.2/272.9 MB 848.4 kB/s eta 0:05:17\n",
      "                                            4.3/272.9 MB 849.2 kB/s eta 0:05:17\n",
      "                                            4.3/272.9 MB 852.8 kB/s eta 0:05:15\n",
      "                                            4.3/272.9 MB 852.8 kB/s eta 0:05:15\n",
      "                                            4.4/272.9 MB 850.7 kB/s eta 0:05:16\n",
      "                                            4.4/272.9 MB 850.7 kB/s eta 0:05:16\n",
      "                                            4.5/272.9 MB 849.1 kB/s eta 0:05:17\n",
      "                                            4.5/272.9 MB 847.4 kB/s eta 0:05:17\n",
      "                                            4.5/272.9 MB 846.3 kB/s eta 0:05:18\n",
      "                                            4.6/272.9 MB 849.3 kB/s eta 0:05:16\n",
      "                                            4.6/272.9 MB 849.3 kB/s eta 0:05:16\n",
      "                                            4.6/272.9 MB 849.3 kB/s eta 0:05:16\n",
      "                                            4.7/272.9 MB 848.0 kB/s eta 0:05:17\n",
      "                                            4.8/272.9 MB 845.1 kB/s eta 0:05:18\n",
      "                                            4.8/272.9 MB 847.1 kB/s eta 0:05:17\n",
      "                                            4.8/272.9 MB 846.1 kB/s eta 0:05:17\n",
      "                                            4.9/272.9 MB 845.3 kB/s eta 0:05:18\n",
      "                                            4.9/272.9 MB 849.7 kB/s eta 0:05:16\n",
      "                                            5.0/272.9 MB 845.8 kB/s eta 0:05:17\n",
      "                                            5.0/272.9 MB 851.7 kB/s eta 0:05:15\n",
      "                                            5.0/272.9 MB 851.7 kB/s eta 0:05:15\n",
      "                                            5.1/272.9 MB 846.5 kB/s eta 0:05:17\n",
      "                                            5.1/272.9 MB 847.1 kB/s eta 0:05:17\n",
      "                                            5.2/272.9 MB 850.3 kB/s eta 0:05:15\n",
      "                                            5.2/272.9 MB 850.3 kB/s eta 0:05:15\n",
      "                                            5.2/272.9 MB 847.8 kB/s eta 0:05:16\n",
      "                                            5.3/272.9 MB 840.5 kB/s eta 0:05:19\n",
      "                                            5.3/272.9 MB 844.0 kB/s eta 0:05:18\n",
      "                                            5.4/272.9 MB 844.6 kB/s eta 0:05:17\n",
      "                                            5.5/272.9 MB 852.4 kB/s eta 0:05:14\n",
      "                                            5.5/272.9 MB 852.5 kB/s eta 0:05:14\n",
      "                                            5.5/272.9 MB 854.8 kB/s eta 0:05:13\n",
      "                                            5.6/272.9 MB 854.9 kB/s eta 0:05:13\n",
      "                                            5.6/272.9 MB 856.6 kB/s eta 0:05:12\n",
      "                                            5.7/272.9 MB 857.3 kB/s eta 0:05:12\n",
      "                                            5.7/272.9 MB 857.9 kB/s eta 0:05:12\n",
      "                                            5.8/272.9 MB 859.6 kB/s eta 0:05:11\n",
      "                                            5.8/272.9 MB 858.7 kB/s eta 0:05:11\n",
      "                                            5.9/272.9 MB 860.3 kB/s eta 0:05:11\n",
      "                                            5.9/272.9 MB 860.9 kB/s eta 0:05:11\n",
      "                                            6.0/272.9 MB 861.9 kB/s eta 0:05:10\n",
      "                                            6.0/272.9 MB 861.6 kB/s eta 0:05:10\n",
      "                                            6.1/272.9 MB 865.0 kB/s eta 0:05:09\n",
      "                                            6.2/272.9 MB 867.9 kB/s eta 0:05:08\n",
      "                                            6.2/272.9 MB 871.9 kB/s eta 0:05:06\n",
      "                                            6.3/272.9 MB 878.1 kB/s eta 0:05:04\n",
      "                                            6.4/272.9 MB 878.9 kB/s eta 0:05:04\n",
      "                                            6.4/272.9 MB 885.0 kB/s eta 0:05:02\n",
      "                                            6.5/272.9 MB 892.0 kB/s eta 0:04:59\n",
      "                                            6.6/272.9 MB 897.4 kB/s eta 0:04:57\n",
      "                                            6.7/272.9 MB 902.8 kB/s eta 0:04:55\n",
      "                                            6.8/272.9 MB 907.6 kB/s eta 0:04:54\n",
      "                                            6.9/272.9 MB 912.8 kB/s eta 0:04:52\n",
      "                                            6.9/272.9 MB 912.6 kB/s eta 0:04:52\n",
      "                                            6.9/272.9 MB 911.5 kB/s eta 0:04:52\n",
      "                                            7.0/272.9 MB 914.7 kB/s eta 0:04:51\n",
      "                                            7.0/272.9 MB 914.7 kB/s eta 0:04:51\n",
      "                                            7.2/272.9 MB 920.4 kB/s eta 0:04:49\n",
      "     -                                      7.2/272.9 MB 918.2 kB/s eta 0:04:50\n",
      "     -                                      7.3/272.9 MB 928.9 kB/s eta 0:04:46\n",
      "     -                                      7.3/272.9 MB 928.9 kB/s eta 0:04:46\n",
      "     -                                      7.3/272.9 MB 928.9 kB/s eta 0:04:46\n",
      "     -                                      7.5/272.9 MB 938.2 kB/s eta 0:04:43\n",
      "     -                                      7.6/272.9 MB 947.4 kB/s eta 0:04:40\n",
      "     -                                      7.7/272.9 MB 951.9 kB/s eta 0:04:39\n",
      "     -                                      7.8/272.9 MB 957.8 kB/s eta 0:04:37\n",
      "     -                                      7.9/272.9 MB 958.6 kB/s eta 0:04:37\n",
      "     -                                      8.0/272.9 MB 969.4 kB/s eta 0:04:34\n",
      "     -                                      8.0/272.9 MB 967.6 kB/s eta 0:04:34\n",
      "     -                                      8.2/272.9 MB 978.1 kB/s eta 0:04:31\n",
      "     -                                      8.2/272.9 MB 974.4 kB/s eta 0:04:32\n",
      "     -                                      8.3/272.9 MB 986.0 kB/s eta 0:04:29\n",
      "     -                                      8.3/272.9 MB 986.0 kB/s eta 0:04:29\n",
      "     -                                      8.4/272.9 MB 987.2 kB/s eta 0:04:28\n",
      "     -                                      8.5/272.9 MB 986.6 kB/s eta 0:04:28\n",
      "     -                                      8.6/272.9 MB 993.7 kB/s eta 0:04:26\n",
      "     -                                      8.7/272.9 MB 999.0 kB/s eta 0:04:25\n",
      "     -                                      8.7/272.9 MB 997.1 kB/s eta 0:04:25\n",
      "     -                                        8.9/272.9 MB 1.0 MB/s eta 0:04:23\n",
      "     -                                        8.9/272.9 MB 1.0 MB/s eta 0:04:23\n",
      "     -                                        8.9/272.9 MB 1.0 MB/s eta 0:04:22\n",
      "     -                                        9.0/272.9 MB 1.0 MB/s eta 0:04:22\n",
      "     -                                        9.1/272.9 MB 1.0 MB/s eta 0:04:21\n",
      "     -                                        9.3/272.9 MB 1.0 MB/s eta 0:04:17\n",
      "     -                                        9.4/272.9 MB 1.0 MB/s eta 0:04:16\n",
      "     -                                        9.4/272.9 MB 1.0 MB/s eta 0:04:16\n",
      "     -                                        9.5/272.9 MB 1.0 MB/s eta 0:04:16\n",
      "     -                                        9.5/272.9 MB 1.0 MB/s eta 0:04:16\n",
      "     -                                        9.5/272.9 MB 1.0 MB/s eta 0:04:16\n",
      "     -                                        9.7/272.9 MB 1.0 MB/s eta 0:04:13\n",
      "     -                                        9.8/272.9 MB 1.0 MB/s eta 0:04:13\n",
      "     -                                        9.8/272.9 MB 1.0 MB/s eta 0:04:13\n",
      "     -                                        9.9/272.9 MB 1.0 MB/s eta 0:04:11\n",
      "     -                                       10.0/272.9 MB 1.0 MB/s eta 0:04:12\n",
      "     -                                       10.0/272.9 MB 1.0 MB/s eta 0:04:11\n",
      "     -                                       10.0/272.9 MB 1.0 MB/s eta 0:04:13\n",
      "     -                                       10.2/272.9 MB 1.1 MB/s eta 0:04:10\n",
      "     -                                       10.2/272.9 MB 1.1 MB/s eta 0:04:10\n",
      "     -                                       10.4/272.9 MB 1.1 MB/s eta 0:04:09\n",
      "     -                                       10.5/272.9 MB 1.1 MB/s eta 0:04:09\n",
      "     -                                       10.6/272.9 MB 1.0 MB/s eta 0:04:11\n",
      "     -                                       10.6/272.9 MB 1.0 MB/s eta 0:04:11\n",
      "     -                                       10.7/272.9 MB 1.0 MB/s eta 0:04:13\n",
      "     -                                       10.7/272.9 MB 1.0 MB/s eta 0:04:13\n",
      "     -                                       10.9/272.9 MB 1.0 MB/s eta 0:04:10\n",
      "     -                                       10.9/272.9 MB 1.0 MB/s eta 0:04:11\n",
      "     -                                       10.9/272.9 MB 1.0 MB/s eta 0:04:11\n",
      "     -                                       11.0/272.9 MB 1.1 MB/s eta 0:04:05\n",
      "     -                                       11.2/272.9 MB 1.1 MB/s eta 0:04:04\n",
      "     -                                       11.2/272.9 MB 1.1 MB/s eta 0:04:02\n",
      "     -                                       11.3/272.9 MB 1.1 MB/s eta 0:04:01\n",
      "     -                                       11.4/272.9 MB 1.1 MB/s eta 0:04:00\n",
      "     -                                       11.5/272.9 MB 1.1 MB/s eta 0:03:56\n",
      "     -                                       11.6/272.9 MB 1.1 MB/s eta 0:03:56\n",
      "     -                                       11.7/272.9 MB 1.1 MB/s eta 0:03:54\n",
      "     -                                       11.7/272.9 MB 1.1 MB/s eta 0:03:54\n",
      "     -                                       11.7/272.9 MB 1.1 MB/s eta 0:03:52\n",
      "     -                                       11.8/272.9 MB 1.1 MB/s eta 0:03:52\n",
      "     -                                       12.0/272.9 MB 1.2 MB/s eta 0:03:45\n",
      "     -                                       12.0/272.9 MB 1.2 MB/s eta 0:03:44\n",
      "     -                                       12.1/272.9 MB 1.2 MB/s eta 0:03:45\n",
      "     -                                       12.3/272.9 MB 1.2 MB/s eta 0:03:39\n",
      "     -                                       12.3/272.9 MB 1.2 MB/s eta 0:03:39\n",
      "     -                                       12.4/272.9 MB 1.2 MB/s eta 0:03:38\n",
      "     -                                       12.4/272.9 MB 1.2 MB/s eta 0:03:36\n",
      "     -                                       12.5/272.9 MB 1.2 MB/s eta 0:03:36\n",
      "     -                                       12.6/272.9 MB 1.2 MB/s eta 0:03:31\n",
      "     -                                       12.7/272.9 MB 1.2 MB/s eta 0:03:32\n",
      "     -                                       12.8/272.9 MB 1.2 MB/s eta 0:03:29\n",
      "     -                                       12.8/272.9 MB 1.3 MB/s eta 0:03:27\n",
      "     -                                       13.0/272.9 MB 1.3 MB/s eta 0:03:23\n",
      "     -                                       13.0/272.9 MB 1.3 MB/s eta 0:03:24\n",
      "     -                                       13.1/272.9 MB 1.3 MB/s eta 0:03:22\n",
      "     -                                       13.2/272.9 MB 1.3 MB/s eta 0:03:21\n",
      "     -                                       13.2/272.9 MB 1.3 MB/s eta 0:03:21\n",
      "     -                                       13.3/272.9 MB 1.3 MB/s eta 0:03:20\n",
      "     -                                       13.4/272.9 MB 1.3 MB/s eta 0:03:20\n",
      "     -                                       13.5/272.9 MB 1.3 MB/s eta 0:03:21\n",
      "     -                                       13.5/272.9 MB 1.3 MB/s eta 0:03:21\n",
      "     -                                       13.7/272.9 MB 1.3 MB/s eta 0:03:15\n",
      "     -                                       13.7/272.9 MB 1.3 MB/s eta 0:03:14\n",
      "     -                                       13.9/272.9 MB 1.4 MB/s eta 0:03:10\n",
      "     -                                       13.9/272.9 MB 1.4 MB/s eta 0:03:10\n",
      "     -                                       14.0/272.9 MB 1.4 MB/s eta 0:03:12\n",
      "     --                                      14.1/272.9 MB 1.4 MB/s eta 0:03:09\n",
      "     --                                      14.2/272.9 MB 1.4 MB/s eta 0:03:08\n",
      "     --                                      14.3/272.9 MB 1.4 MB/s eta 0:03:08\n",
      "     --                                      14.4/272.9 MB 1.4 MB/s eta 0:03:05\n",
      "     --                                      14.5/272.9 MB 1.4 MB/s eta 0:03:02\n",
      "     --                                      14.6/272.9 MB 1.4 MB/s eta 0:02:59\n",
      "     --                                      14.7/272.9 MB 1.5 MB/s eta 0:02:58\n",
      "     --                                      14.8/272.9 MB 1.5 MB/s eta 0:02:55\n",
      "     --                                      14.8/272.9 MB 1.5 MB/s eta 0:02:55\n",
      "     --                                      15.0/272.9 MB 1.5 MB/s eta 0:02:53\n",
      "     --                                      15.1/272.9 MB 1.5 MB/s eta 0:02:51\n",
      "     --                                      15.1/272.9 MB 1.5 MB/s eta 0:02:51\n",
      "     --                                      15.2/272.9 MB 1.5 MB/s eta 0:02:51\n",
      "     --                                      15.2/272.9 MB 1.5 MB/s eta 0:02:51\n",
      "     --                                      15.3/272.9 MB 1.5 MB/s eta 0:02:49\n",
      "     --                                      15.3/272.9 MB 1.5 MB/s eta 0:02:49\n",
      "     --                                      15.5/272.9 MB 1.5 MB/s eta 0:02:47\n",
      "     --                                      15.7/272.9 MB 1.6 MB/s eta 0:02:42\n",
      "     --                                      15.8/272.9 MB 1.6 MB/s eta 0:02:40\n",
      "     --                                      15.9/272.9 MB 1.6 MB/s eta 0:02:39\n",
      "     --                                      15.9/272.9 MB 1.6 MB/s eta 0:02:40\n",
      "     --                                      16.0/272.9 MB 1.6 MB/s eta 0:02:38\n",
      "     --                                      16.2/272.9 MB 1.7 MB/s eta 0:02:35\n",
      "     --                                      16.3/272.9 MB 1.7 MB/s eta 0:02:34\n",
      "     --                                      16.3/272.9 MB 1.7 MB/s eta 0:02:34\n",
      "     --                                      16.3/272.9 MB 1.7 MB/s eta 0:02:34\n",
      "     --                                      16.6/272.9 MB 1.7 MB/s eta 0:02:32\n",
      "     --                                      16.7/272.9 MB 1.7 MB/s eta 0:02:32\n",
      "     --                                      16.7/272.9 MB 1.7 MB/s eta 0:02:33\n",
      "     --                                      16.9/272.9 MB 1.7 MB/s eta 0:02:32\n",
      "     --                                      16.9/272.9 MB 1.7 MB/s eta 0:02:32\n",
      "     --                                      17.0/272.9 MB 1.7 MB/s eta 0:02:32\n",
      "     --                                      17.1/272.9 MB 1.7 MB/s eta 0:02:32\n",
      "     --                                      17.1/272.9 MB 1.7 MB/s eta 0:02:31\n",
      "     --                                      17.2/272.9 MB 1.7 MB/s eta 0:02:30\n",
      "     --                                      17.3/272.9 MB 1.7 MB/s eta 0:02:30\n",
      "     --                                      17.3/272.9 MB 1.7 MB/s eta 0:02:30\n",
      "     --                                      17.4/272.9 MB 1.7 MB/s eta 0:02:31\n",
      "     --                                      17.4/272.9 MB 1.7 MB/s eta 0:02:30\n",
      "     --                                      17.5/272.9 MB 1.7 MB/s eta 0:02:30\n",
      "     --                                      17.5/272.9 MB 1.7 MB/s eta 0:02:30\n",
      "     --                                      17.5/272.9 MB 1.7 MB/s eta 0:02:33\n",
      "     --                                      17.5/272.9 MB 1.7 MB/s eta 0:02:35\n",
      "     --                                      17.6/272.9 MB 1.7 MB/s eta 0:02:33\n",
      "     --                                      17.7/272.9 MB 1.7 MB/s eta 0:02:33\n",
      "     --                                      17.9/272.9 MB 1.7 MB/s eta 0:02:33\n",
      "     --                                      18.0/272.9 MB 1.7 MB/s eta 0:02:32\n",
      "     --                                      18.1/272.9 MB 1.7 MB/s eta 0:02:32\n",
      "     --                                      18.1/272.9 MB 1.7 MB/s eta 0:02:32\n",
      "     --                                      18.1/272.9 MB 1.7 MB/s eta 0:02:33\n",
      "     --                                      18.2/272.9 MB 1.7 MB/s eta 0:02:34\n",
      "     --                                      18.2/272.9 MB 1.6 MB/s eta 0:02:36\n",
      "     --                                      18.3/272.9 MB 1.7 MB/s eta 0:02:34\n",
      "     --                                      18.4/272.9 MB 1.6 MB/s eta 0:02:35\n",
      "     --                                      18.5/272.9 MB 1.7 MB/s eta 0:02:34\n",
      "     --                                      18.5/272.9 MB 1.6 MB/s eta 0:02:35\n",
      "     --                                      18.7/272.9 MB 1.7 MB/s eta 0:02:33\n",
      "     --                                      18.7/272.9 MB 1.7 MB/s eta 0:02:33\n",
      "     --                                      18.8/272.9 MB 1.7 MB/s eta 0:02:33\n",
      "     --                                      19.0/272.9 MB 1.7 MB/s eta 0:02:32\n",
      "     --                                      19.0/272.9 MB 1.7 MB/s eta 0:02:32\n",
      "     --                                      19.1/272.9 MB 1.7 MB/s eta 0:02:33\n",
      "     --                                      19.2/272.9 MB 1.7 MB/s eta 0:02:32\n",
      "     --                                      19.3/272.9 MB 1.7 MB/s eta 0:02:32\n",
      "     --                                      19.3/272.9 MB 1.7 MB/s eta 0:02:31\n",
      "     --                                      19.4/272.9 MB 1.7 MB/s eta 0:02:33\n",
      "     --                                      19.4/272.9 MB 1.6 MB/s eta 0:02:34\n",
      "     --                                      19.5/272.9 MB 1.7 MB/s eta 0:02:34\n",
      "     --                                      19.6/272.9 MB 1.6 MB/s eta 0:02:34\n",
      "     --                                      19.7/272.9 MB 1.7 MB/s eta 0:02:32\n",
      "     --                                      19.8/272.9 MB 1.7 MB/s eta 0:02:31\n",
      "     --                                      19.9/272.9 MB 1.7 MB/s eta 0:02:32\n",
      "     --                                      20.0/272.9 MB 1.7 MB/s eta 0:02:33\n",
      "     --                                      20.1/272.9 MB 1.7 MB/s eta 0:02:31\n",
      "     --                                      20.2/272.9 MB 1.7 MB/s eta 0:02:31\n",
      "     --                                      20.2/272.9 MB 1.7 MB/s eta 0:02:29\n",
      "     --                                      20.3/272.9 MB 1.7 MB/s eta 0:02:30\n",
      "     --                                      20.3/272.9 MB 1.7 MB/s eta 0:02:30\n",
      "     --                                      20.5/272.9 MB 1.7 MB/s eta 0:02:30\n",
      "     --                                      20.6/272.9 MB 1.7 MB/s eta 0:02:31\n",
      "     --                                      20.7/272.9 MB 1.7 MB/s eta 0:02:32\n",
      "     --                                      20.7/272.9 MB 1.7 MB/s eta 0:02:31\n",
      "     --                                      20.8/272.9 MB 1.7 MB/s eta 0:02:32\n",
      "     --                                      20.8/272.9 MB 1.7 MB/s eta 0:02:32\n",
      "     --                                      20.9/272.9 MB 1.7 MB/s eta 0:02:32\n",
      "     --                                      21.0/272.9 MB 1.7 MB/s eta 0:02:31\n",
      "     --                                      21.0/272.9 MB 1.7 MB/s eta 0:02:32\n",
      "     ---                                     21.1/272.9 MB 1.7 MB/s eta 0:02:33\n",
      "     ---                                     21.3/272.9 MB 1.7 MB/s eta 0:02:32\n",
      "     ---                                     21.3/272.9 MB 1.7 MB/s eta 0:02:32\n",
      "     ---                                     21.4/272.9 MB 1.6 MB/s eta 0:02:33\n",
      "     ---                                     21.5/272.9 MB 1.7 MB/s eta 0:02:31\n",
      "     ---                                     21.5/272.9 MB 1.7 MB/s eta 0:02:32\n",
      "     ---                                     21.7/272.9 MB 1.7 MB/s eta 0:02:32\n",
      "     ---                                     21.8/272.9 MB 1.7 MB/s eta 0:02:32\n",
      "     ---                                     21.9/272.9 MB 1.7 MB/s eta 0:02:31\n",
      "     ---                                     22.0/272.9 MB 1.7 MB/s eta 0:02:30\n",
      "     ---                                     22.0/272.9 MB 1.7 MB/s eta 0:02:30\n",
      "     ---                                     22.1/272.9 MB 1.7 MB/s eta 0:02:30\n",
      "     ---                                     22.2/272.9 MB 1.7 MB/s eta 0:02:31\n",
      "     ---                                     22.3/272.9 MB 1.7 MB/s eta 0:02:30\n",
      "     ---                                     22.4/272.9 MB 1.7 MB/s eta 0:02:30\n",
      "     ---                                     22.4/272.9 MB 1.7 MB/s eta 0:02:31\n",
      "     ---                                     22.5/272.9 MB 1.6 MB/s eta 0:02:32\n",
      "     ---                                     22.5/272.9 MB 1.7 MB/s eta 0:02:32\n",
      "     ---                                     22.6/272.9 MB 1.7 MB/s eta 0:02:32\n",
      "     ---                                     22.7/272.9 MB 1.7 MB/s eta 0:02:31\n",
      "     ---                                     22.8/272.9 MB 1.7 MB/s eta 0:02:30\n",
      "     ---                                     22.9/272.9 MB 1.7 MB/s eta 0:02:31\n",
      "     ---                                     23.0/272.9 MB 1.7 MB/s eta 0:02:31\n",
      "     ---                                     23.1/272.9 MB 1.7 MB/s eta 0:02:30\n",
      "     ---                                     23.2/272.9 MB 1.7 MB/s eta 0:02:30\n",
      "     ---                                     23.3/272.9 MB 1.7 MB/s eta 0:02:30\n",
      "     ---                                     23.3/272.9 MB 1.7 MB/s eta 0:02:29\n",
      "     ---                                     23.5/272.9 MB 1.7 MB/s eta 0:02:29\n",
      "     ---                                     23.6/272.9 MB 1.7 MB/s eta 0:02:30\n",
      "     ---                                     23.7/272.9 MB 1.7 MB/s eta 0:02:28\n",
      "     ---                                     23.7/272.9 MB 1.7 MB/s eta 0:02:28\n",
      "     ---                                     23.8/272.9 MB 1.7 MB/s eta 0:02:28\n",
      "     ---                                     23.9/272.9 MB 1.7 MB/s eta 0:02:28\n",
      "     ---                                     23.9/272.9 MB 1.7 MB/s eta 0:02:28\n",
      "     ---                                     24.1/272.9 MB 1.7 MB/s eta 0:02:27\n",
      "     ---                                     24.2/272.9 MB 1.7 MB/s eta 0:02:28\n",
      "     ---                                     24.3/272.9 MB 1.7 MB/s eta 0:02:28\n",
      "     ---                                     24.5/272.9 MB 1.7 MB/s eta 0:02:25\n",
      "     ---                                     24.6/272.9 MB 1.7 MB/s eta 0:02:26\n",
      "     ---                                     24.6/272.9 MB 1.7 MB/s eta 0:02:26\n",
      "     ---                                     24.7/272.9 MB 1.7 MB/s eta 0:02:27\n",
      "     ---                                     24.9/272.9 MB 1.7 MB/s eta 0:02:26\n",
      "     ---                                     25.0/272.9 MB 1.7 MB/s eta 0:02:26\n",
      "     ---                                     25.0/272.9 MB 1.7 MB/s eta 0:02:26\n",
      "     ---                                     25.1/272.9 MB 1.7 MB/s eta 0:02:26\n",
      "     ---                                     25.2/272.9 MB 1.7 MB/s eta 0:02:25\n",
      "     ---                                     25.3/272.9 MB 1.7 MB/s eta 0:02:25\n",
      "     ---                                     25.4/272.9 MB 1.7 MB/s eta 0:02:25\n",
      "     ---                                     25.5/272.9 MB 1.7 MB/s eta 0:02:24\n",
      "     ---                                     25.5/272.9 MB 1.7 MB/s eta 0:02:24\n",
      "     ---                                     25.7/272.9 MB 1.7 MB/s eta 0:02:23\n",
      "     ---                                     25.8/272.9 MB 1.7 MB/s eta 0:02:23\n",
      "     ---                                     25.8/272.9 MB 1.7 MB/s eta 0:02:23\n",
      "     ---                                     25.9/272.9 MB 1.7 MB/s eta 0:02:25\n",
      "     ---                                     25.9/272.9 MB 1.7 MB/s eta 0:02:25\n",
      "     ---                                     26.1/272.9 MB 1.7 MB/s eta 0:02:24\n",
      "     ---                                     26.2/272.9 MB 1.7 MB/s eta 0:02:24\n",
      "     ---                                     26.5/272.9 MB 1.7 MB/s eta 0:02:24\n",
      "     ---                                     26.7/272.9 MB 1.7 MB/s eta 0:02:22\n",
      "     ---                                     26.8/272.9 MB 1.7 MB/s eta 0:02:22\n",
      "     ---                                     26.9/272.9 MB 1.8 MB/s eta 0:02:20\n",
      "     ---                                     27.1/272.9 MB 1.8 MB/s eta 0:02:21\n",
      "     ---                                     27.2/272.9 MB 1.8 MB/s eta 0:02:19\n",
      "     ---                                     27.2/272.9 MB 1.8 MB/s eta 0:02:19\n",
      "     ---                                     27.3/272.9 MB 1.8 MB/s eta 0:02:20\n",
      "     ---                                     27.4/272.9 MB 1.8 MB/s eta 0:02:20\n",
      "     ---                                     27.4/272.9 MB 1.8 MB/s eta 0:02:20\n",
      "     ---                                     27.5/272.9 MB 1.8 MB/s eta 0:02:19\n",
      "     ---                                     27.5/272.9 MB 1.8 MB/s eta 0:02:20\n",
      "     ---                                     27.5/272.9 MB 1.8 MB/s eta 0:02:20\n",
      "     ---                                     27.8/272.9 MB 1.8 MB/s eta 0:02:15\n",
      "     ---                                     27.9/272.9 MB 1.8 MB/s eta 0:02:15\n",
      "     ----                                    28.1/272.9 MB 1.8 MB/s eta 0:02:14\n",
      "     ----                                    28.3/272.9 MB 1.8 MB/s eta 0:02:13\n",
      "     ----                                    28.4/272.9 MB 1.9 MB/s eta 0:02:10\n",
      "     ----                                    28.4/272.9 MB 1.9 MB/s eta 0:02:10\n",
      "     ----                                    28.5/272.9 MB 1.9 MB/s eta 0:02:11\n",
      "     ----                                    28.7/272.9 MB 1.9 MB/s eta 0:02:09\n",
      "     ----                                    28.7/272.9 MB 1.9 MB/s eta 0:02:09\n",
      "     ----                                    28.8/272.9 MB 1.9 MB/s eta 0:02:10\n",
      "     ----                                    28.8/272.9 MB 1.9 MB/s eta 0:02:11\n",
      "     ----                                    29.0/272.9 MB 1.9 MB/s eta 0:02:10\n",
      "     ----                                    29.1/272.9 MB 1.9 MB/s eta 0:02:10\n",
      "     ----                                    29.3/272.9 MB 1.9 MB/s eta 0:02:09\n",
      "     ----                                    29.4/272.9 MB 1.9 MB/s eta 0:02:08\n",
      "     ----                                    29.5/272.9 MB 1.9 MB/s eta 0:02:08\n",
      "     ----                                    29.5/272.9 MB 1.9 MB/s eta 0:02:07\n",
      "     ----                                    29.6/272.9 MB 1.9 MB/s eta 0:02:07\n",
      "     ----                                    29.7/272.9 MB 1.9 MB/s eta 0:02:07\n",
      "     ----                                    29.8/272.9 MB 1.9 MB/s eta 0:02:06\n",
      "     ----                                    29.9/272.9 MB 1.9 MB/s eta 0:02:06\n",
      "     ----                                    30.0/272.9 MB 1.9 MB/s eta 0:02:06\n",
      "     ----                                    30.1/272.9 MB 1.9 MB/s eta 0:02:05\n",
      "     ----                                    30.1/272.9 MB 1.9 MB/s eta 0:02:07\n",
      "     ----                                    30.3/272.9 MB 1.9 MB/s eta 0:02:07\n",
      "     ----                                    30.3/272.9 MB 1.9 MB/s eta 0:02:07\n",
      "     ----                                    30.4/272.9 MB 1.9 MB/s eta 0:02:07\n",
      "     ----                                    30.5/272.9 MB 1.9 MB/s eta 0:02:06\n",
      "     ----                                    30.6/272.9 MB 1.9 MB/s eta 0:02:05\n",
      "     ----                                    30.6/272.9 MB 1.9 MB/s eta 0:02:05\n",
      "     ----                                    30.8/272.9 MB 1.9 MB/s eta 0:02:05\n",
      "     ----                                    31.0/272.9 MB 2.0 MB/s eta 0:02:04\n",
      "     ----                                    31.1/272.9 MB 2.0 MB/s eta 0:02:02\n",
      "     ----                                    31.2/272.9 MB 2.0 MB/s eta 0:02:00\n",
      "     ----                                    31.3/272.9 MB 2.0 MB/s eta 0:02:01\n",
      "     ----                                    31.4/272.9 MB 2.0 MB/s eta 0:02:01\n",
      "     ----                                    31.5/272.9 MB 2.0 MB/s eta 0:02:01\n",
      "     ----                                    31.5/272.9 MB 2.0 MB/s eta 0:02:01\n",
      "     ----                                    31.7/272.9 MB 2.0 MB/s eta 0:02:01\n",
      "     ----                                    31.8/272.9 MB 2.0 MB/s eta 0:02:00\n",
      "     ----                                    31.8/272.9 MB 2.0 MB/s eta 0:02:00\n",
      "     ----                                    31.9/272.9 MB 2.0 MB/s eta 0:02:00\n",
      "     ----                                    32.0/272.9 MB 2.0 MB/s eta 0:02:00\n",
      "     ----                                    32.1/272.9 MB 2.0 MB/s eta 0:02:01\n",
      "     ----                                    32.3/272.9 MB 2.0 MB/s eta 0:01:59\n",
      "     ----                                    32.3/272.9 MB 2.0 MB/s eta 0:01:59\n",
      "     ----                                    32.5/272.9 MB 2.0 MB/s eta 0:01:59\n",
      "     ----                                    32.5/272.9 MB 2.0 MB/s eta 0:01:59\n",
      "     ----                                    32.7/272.9 MB 2.0 MB/s eta 0:01:59\n",
      "     ----                                    32.7/272.9 MB 2.0 MB/s eta 0:01:59\n",
      "     ----                                    32.8/272.9 MB 2.1 MB/s eta 0:01:57\n",
      "     ----                                    32.8/272.9 MB 2.0 MB/s eta 0:01:58\n",
      "     ----                                    32.9/272.9 MB 2.0 MB/s eta 0:01:59\n",
      "     ----                                    32.9/272.9 MB 2.0 MB/s eta 0:01:59\n",
      "     ----                                    33.0/272.9 MB 2.0 MB/s eta 0:01:58\n",
      "     ----                                    33.0/272.9 MB 2.0 MB/s eta 0:01:58\n",
      "     ----                                    33.2/272.9 MB 2.0 MB/s eta 0:01:59\n",
      "     ----                                    33.4/272.9 MB 2.0 MB/s eta 0:01:58\n",
      "     ----                                    33.4/272.9 MB 2.0 MB/s eta 0:01:59\n",
      "     ----                                    33.5/272.9 MB 2.0 MB/s eta 0:01:59\n",
      "     ----                                    33.6/272.9 MB 2.0 MB/s eta 0:01:59\n",
      "     ----                                    33.8/272.9 MB 2.0 MB/s eta 0:01:58\n",
      "     ----                                    33.8/272.9 MB 2.0 MB/s eta 0:01:59\n",
      "     ----                                    33.9/272.9 MB 2.0 MB/s eta 0:01:59\n",
      "     ----                                    33.9/272.9 MB 2.0 MB/s eta 0:01:59\n",
      "     ----                                    34.1/272.9 MB 2.0 MB/s eta 0:01:58\n",
      "     ----                                    34.3/272.9 MB 2.0 MB/s eta 0:01:57\n",
      "     ----                                    34.3/272.9 MB 2.0 MB/s eta 0:01:57\n",
      "     ----                                    34.4/272.9 MB 2.1 MB/s eta 0:01:57\n",
      "     ----                                    34.6/272.9 MB 2.0 MB/s eta 0:01:58\n",
      "     ----                                    34.7/272.9 MB 2.0 MB/s eta 0:01:58\n",
      "     ----                                    34.8/272.9 MB 2.0 MB/s eta 0:01:59\n",
      "     ----                                    34.9/272.9 MB 2.0 MB/s eta 0:01:58\n",
      "     -----                                   35.0/272.9 MB 2.0 MB/s eta 0:01:58\n",
      "     -----                                   35.1/272.9 MB 2.0 MB/s eta 0:01:58\n",
      "     -----                                   35.2/272.9 MB 2.0 MB/s eta 0:01:58\n",
      "     -----                                   35.3/272.9 MB 2.0 MB/s eta 0:01:57\n",
      "     -----                                   35.4/272.9 MB 2.0 MB/s eta 0:01:57\n",
      "     -----                                   35.4/272.9 MB 2.0 MB/s eta 0:01:57\n",
      "     -----                                   35.5/272.9 MB 2.0 MB/s eta 0:01:58\n",
      "     -----                                   35.6/272.9 MB 2.0 MB/s eta 0:01:58\n",
      "     -----                                   35.7/272.9 MB 2.0 MB/s eta 0:01:56\n",
      "     -----                                   35.8/272.9 MB 2.0 MB/s eta 0:01:57\n",
      "     -----                                   36.0/272.9 MB 2.0 MB/s eta 0:01:57\n",
      "     -----                                   36.0/272.9 MB 2.0 MB/s eta 0:01:58\n",
      "     -----                                   36.1/272.9 MB 2.1 MB/s eta 0:01:55\n",
      "     -----                                   36.2/272.9 MB 2.1 MB/s eta 0:01:56\n",
      "     -----                                   36.3/272.9 MB 2.0 MB/s eta 0:01:56\n",
      "     -----                                   36.5/272.9 MB 2.1 MB/s eta 0:01:55\n",
      "     -----                                   36.5/272.9 MB 2.0 MB/s eta 0:01:56\n",
      "     -----                                   36.6/272.9 MB 2.0 MB/s eta 0:01:57\n",
      "     -----                                   36.8/272.9 MB 2.0 MB/s eta 0:01:57\n",
      "     -----                                   36.9/272.9 MB 2.0 MB/s eta 0:01:58\n",
      "     -----                                   37.0/272.9 MB 2.0 MB/s eta 0:01:58\n",
      "     -----                                   37.2/272.9 MB 2.0 MB/s eta 0:01:58\n",
      "     -----                                   37.3/272.9 MB 2.0 MB/s eta 0:01:58\n",
      "     -----                                   37.4/272.9 MB 2.0 MB/s eta 0:01:58\n",
      "     -----                                   37.5/272.9 MB 2.0 MB/s eta 0:01:56\n",
      "     -----                                   37.7/272.9 MB 2.0 MB/s eta 0:01:56\n",
      "     -----                                   37.7/272.9 MB 2.0 MB/s eta 0:01:56\n",
      "     -----                                   37.8/272.9 MB 2.1 MB/s eta 0:01:54\n",
      "     -----                                   38.0/272.9 MB 2.0 MB/s eta 0:01:55\n",
      "     -----                                   38.1/272.9 MB 2.0 MB/s eta 0:01:55\n",
      "     -----                                   38.2/272.9 MB 2.0 MB/s eta 0:01:56\n",
      "     -----                                   38.3/272.9 MB 2.0 MB/s eta 0:01:56\n",
      "     -----                                   38.4/272.9 MB 2.0 MB/s eta 0:01:56\n",
      "     -----                                   38.5/272.9 MB 2.0 MB/s eta 0:01:57\n",
      "     -----                                   38.6/272.9 MB 2.0 MB/s eta 0:01:57\n",
      "     -----                                   38.6/272.9 MB 2.0 MB/s eta 0:01:57\n",
      "     -----                                   38.8/272.9 MB 2.0 MB/s eta 0:01:56\n",
      "     -----                                   39.0/272.9 MB 2.0 MB/s eta 0:01:56\n",
      "     -----                                   39.1/272.9 MB 2.1 MB/s eta 0:01:54\n",
      "     -----                                   39.2/272.9 MB 2.0 MB/s eta 0:01:55\n",
      "     -----                                   39.2/272.9 MB 2.0 MB/s eta 0:01:55\n",
      "     -----                                   39.5/272.9 MB 2.0 MB/s eta 0:01:55\n",
      "     -----                                   39.5/272.9 MB 2.0 MB/s eta 0:01:55\n",
      "     -----                                   39.7/272.9 MB 2.0 MB/s eta 0:01:55\n",
      "     -----                                   39.8/272.9 MB 2.1 MB/s eta 0:01:54\n",
      "     -----                                   40.0/272.9 MB 2.1 MB/s eta 0:01:53\n",
      "     -----                                   40.0/272.9 MB 2.1 MB/s eta 0:01:53\n",
      "     -----                                   40.1/272.9 MB 2.1 MB/s eta 0:01:54\n",
      "     -----                                   40.3/272.9 MB 2.1 MB/s eta 0:01:53\n",
      "     -----                                   40.3/272.9 MB 2.1 MB/s eta 0:01:53\n",
      "     -----                                   40.6/272.9 MB 2.1 MB/s eta 0:01:51\n",
      "     -----                                   40.6/272.9 MB 2.1 MB/s eta 0:01:51\n",
      "     -----                                   40.9/272.9 MB 2.1 MB/s eta 0:01:49\n",
      "     -----                                   40.9/272.9 MB 2.1 MB/s eta 0:01:49\n",
      "     -----                                   41.1/272.9 MB 2.1 MB/s eta 0:01:50\n",
      "     -----                                   41.2/272.9 MB 2.1 MB/s eta 0:01:50\n",
      "     -----                                   41.2/272.9 MB 2.1 MB/s eta 0:01:51\n",
      "     -----                                   41.2/272.9 MB 2.1 MB/s eta 0:01:51\n",
      "     -----                                   41.4/272.9 MB 2.1 MB/s eta 0:01:52\n",
      "     -----                                   41.7/272.9 MB 2.1 MB/s eta 0:01:50\n",
      "     -----                                   41.7/272.9 MB 2.1 MB/s eta 0:01:49\n",
      "     -----                                   41.8/272.9 MB 2.1 MB/s eta 0:01:48\n",
      "     -----                                   41.9/272.9 MB 2.1 MB/s eta 0:01:51\n",
      "     -----                                   41.9/272.9 MB 2.1 MB/s eta 0:01:51\n",
      "     ------                                  42.3/272.9 MB 2.2 MB/s eta 0:01:47\n",
      "     ------                                  42.3/272.9 MB 2.2 MB/s eta 0:01:46\n",
      "     ------                                  42.5/272.9 MB 2.2 MB/s eta 0:01:46\n",
      "     ------                                  42.7/272.9 MB 2.2 MB/s eta 0:01:46\n",
      "     ------                                  42.7/272.9 MB 2.2 MB/s eta 0:01:46\n",
      "     ------                                  42.9/272.9 MB 2.2 MB/s eta 0:01:44\n",
      "     ------                                  43.0/272.9 MB 2.2 MB/s eta 0:01:44\n",
      "     ------                                  43.1/272.9 MB 2.2 MB/s eta 0:01:44\n",
      "     ------                                  43.2/272.9 MB 2.2 MB/s eta 0:01:43\n",
      "     ------                                  43.3/272.9 MB 2.3 MB/s eta 0:01:41\n",
      "     ------                                  43.3/272.9 MB 2.3 MB/s eta 0:01:41\n",
      "     ------                                  43.6/272.9 MB 2.2 MB/s eta 0:01:43\n",
      "     ------                                  43.6/272.9 MB 2.2 MB/s eta 0:01:42\n",
      "     ------                                  43.8/272.9 MB 2.3 MB/s eta 0:01:42\n",
      "     ------                                  43.8/272.9 MB 2.3 MB/s eta 0:01:42\n",
      "     ------                                  43.9/272.9 MB 2.2 MB/s eta 0:01:43\n",
      "     ------                                  44.2/272.9 MB 2.3 MB/s eta 0:01:39\n",
      "     ------                                  44.3/272.9 MB 2.3 MB/s eta 0:01:39\n",
      "     ------                                  44.3/272.9 MB 2.3 MB/s eta 0:01:41\n",
      "     ------                                  44.5/272.9 MB 2.3 MB/s eta 0:01:39\n",
      "     ------                                  44.6/272.9 MB 2.3 MB/s eta 0:01:40\n",
      "     ------                                  44.6/272.9 MB 2.3 MB/s eta 0:01:40\n",
      "     ------                                  44.9/272.9 MB 2.3 MB/s eta 0:01:39\n",
      "     ------                                  44.9/272.9 MB 2.3 MB/s eta 0:01:40\n",
      "     ------                                  45.0/272.9 MB 2.3 MB/s eta 0:01:39\n",
      "     ------                                  45.2/272.9 MB 2.3 MB/s eta 0:01:39\n",
      "     ------                                  45.4/272.9 MB 2.3 MB/s eta 0:01:38\n",
      "     ------                                  45.4/272.9 MB 2.3 MB/s eta 0:01:38\n",
      "     ------                                  45.6/272.9 MB 2.3 MB/s eta 0:01:38\n",
      "     ------                                  45.6/272.9 MB 2.3 MB/s eta 0:01:38\n",
      "     ------                                  45.8/272.9 MB 2.3 MB/s eta 0:01:37\n",
      "     ------                                  45.9/272.9 MB 2.4 MB/s eta 0:01:37\n",
      "     ------                                  46.1/272.9 MB 2.4 MB/s eta 0:01:36\n",
      "     ------                                  46.2/272.9 MB 2.4 MB/s eta 0:01:36\n",
      "     ------                                  46.4/272.9 MB 2.4 MB/s eta 0:01:36\n",
      "     ------                                  46.5/272.9 MB 2.4 MB/s eta 0:01:35\n",
      "     ------                                  46.5/272.9 MB 2.4 MB/s eta 0:01:35\n",
      "     ------                                  46.7/272.9 MB 2.4 MB/s eta 0:01:34\n",
      "     ------                                  46.8/272.9 MB 2.4 MB/s eta 0:01:34\n",
      "     ------                                  46.9/272.9 MB 2.4 MB/s eta 0:01:35\n",
      "     ------                                  47.0/272.9 MB 2.4 MB/s eta 0:01:35\n",
      "     ------                                  47.0/272.9 MB 2.4 MB/s eta 0:01:36\n",
      "     ------                                  47.1/272.9 MB 2.4 MB/s eta 0:01:36\n",
      "     ------                                  47.2/272.9 MB 2.4 MB/s eta 0:01:36\n",
      "     ------                                  47.4/272.9 MB 2.4 MB/s eta 0:01:36\n",
      "     ------                                  47.5/272.9 MB 2.4 MB/s eta 0:01:36\n",
      "     ------                                  47.7/272.9 MB 2.4 MB/s eta 0:01:35\n",
      "     ------                                  47.9/272.9 MB 2.4 MB/s eta 0:01:35\n",
      "     ------                                  48.0/272.9 MB 2.4 MB/s eta 0:01:34\n",
      "     ------                                  48.1/272.9 MB 2.4 MB/s eta 0:01:35\n",
      "     ------                                  48.2/272.9 MB 2.4 MB/s eta 0:01:35\n",
      "     ------                                  48.3/272.9 MB 2.4 MB/s eta 0:01:34\n",
      "     ------                                  48.4/272.9 MB 2.4 MB/s eta 0:01:34\n",
      "     ------                                  48.6/272.9 MB 2.4 MB/s eta 0:01:35\n",
      "     ------                                  48.7/272.9 MB 2.4 MB/s eta 0:01:34\n",
      "     ------                                  48.8/272.9 MB 2.4 MB/s eta 0:01:34\n",
      "     ------                                  48.9/272.9 MB 2.4 MB/s eta 0:01:33\n",
      "     -------                                 49.0/272.9 MB 2.4 MB/s eta 0:01:34\n",
      "     -------                                 49.1/272.9 MB 2.4 MB/s eta 0:01:33\n",
      "     -------                                 49.2/272.9 MB 2.4 MB/s eta 0:01:32\n",
      "     -------                                 49.3/272.9 MB 2.4 MB/s eta 0:01:33\n",
      "     -------                                 49.5/272.9 MB 2.4 MB/s eta 0:01:32\n",
      "     -------                                 49.6/272.9 MB 2.4 MB/s eta 0:01:33\n",
      "     -------                                 49.7/272.9 MB 2.4 MB/s eta 0:01:33\n",
      "     -------                                 49.9/272.9 MB 2.4 MB/s eta 0:01:32\n",
      "     -------                                 50.0/272.9 MB 2.4 MB/s eta 0:01:33\n",
      "     -------                                 50.1/272.9 MB 2.4 MB/s eta 0:01:32\n",
      "     -------                                 50.2/272.9 MB 2.4 MB/s eta 0:01:33\n",
      "     -------                                 50.3/272.9 MB 2.4 MB/s eta 0:01:32\n",
      "     -------                                 50.5/272.9 MB 2.4 MB/s eta 0:01:33\n",
      "     -------                                 50.6/272.9 MB 2.4 MB/s eta 0:01:31\n",
      "     -------                                 50.7/272.9 MB 2.4 MB/s eta 0:01:32\n",
      "     -------                                 50.8/272.9 MB 2.4 MB/s eta 0:01:33\n",
      "     -------                                 50.9/272.9 MB 2.4 MB/s eta 0:01:33\n",
      "     -------                                 51.0/272.9 MB 2.4 MB/s eta 0:01:33\n",
      "     -------                                 51.2/272.9 MB 2.4 MB/s eta 0:01:33\n",
      "     -------                                 51.2/272.9 MB 2.4 MB/s eta 0:01:33\n",
      "     -------                                 51.3/272.9 MB 2.4 MB/s eta 0:01:34\n",
      "     -------                                 51.4/272.9 MB 2.4 MB/s eta 0:01:34\n",
      "     -------                                 51.5/272.9 MB 2.4 MB/s eta 0:01:31\n",
      "     -------                                 51.7/272.9 MB 2.4 MB/s eta 0:01:32\n",
      "     -------                                 51.9/272.9 MB 2.4 MB/s eta 0:01:33\n",
      "     -------                                 52.0/272.9 MB 2.4 MB/s eta 0:01:32\n",
      "     -------                                 52.2/272.9 MB 2.5 MB/s eta 0:01:29\n",
      "     -------                                 52.3/272.9 MB 2.5 MB/s eta 0:01:30\n",
      "     -------                                 52.5/272.9 MB 2.4 MB/s eta 0:01:31\n",
      "     -------                                 52.6/272.9 MB 2.4 MB/s eta 0:01:31\n",
      "     -------                                 52.7/272.9 MB 2.4 MB/s eta 0:01:31\n",
      "     -------                                 52.9/272.9 MB 2.4 MB/s eta 0:01:31\n",
      "     -------                                 53.0/272.9 MB 2.5 MB/s eta 0:01:30\n",
      "     -------                                 53.1/272.9 MB 2.4 MB/s eta 0:01:31\n",
      "     -------                                 53.3/272.9 MB 2.4 MB/s eta 0:01:31\n",
      "     -------                                 53.4/272.9 MB 2.5 MB/s eta 0:01:30\n",
      "     -------                                 53.5/272.9 MB 2.5 MB/s eta 0:01:30\n",
      "     -------                                 53.6/272.9 MB 2.5 MB/s eta 0:01:29\n",
      "     -------                                 53.8/272.9 MB 2.5 MB/s eta 0:01:30\n",
      "     -------                                 53.9/272.9 MB 2.5 MB/s eta 0:01:28\n",
      "     -------                                 54.1/272.9 MB 2.5 MB/s eta 0:01:29\n",
      "     -------                                 54.3/272.9 MB 2.5 MB/s eta 0:01:28\n",
      "     -------                                 54.3/272.9 MB 2.5 MB/s eta 0:01:28\n",
      "     -------                                 54.3/272.9 MB 2.5 MB/s eta 0:01:29\n",
      "     -------                                 54.3/272.9 MB 2.5 MB/s eta 0:01:29\n",
      "     -------                                 54.3/272.9 MB 2.4 MB/s eta 0:01:31\n",
      "     -------                                 54.3/272.9 MB 2.4 MB/s eta 0:01:33\n",
      "     -------                                 54.5/272.9 MB 2.4 MB/s eta 0:01:33\n",
      "     -------                                 54.6/272.9 MB 2.4 MB/s eta 0:01:31\n",
      "     -------                                 54.9/272.9 MB 2.4 MB/s eta 0:01:30\n",
      "     -------                                 55.1/272.9 MB 2.4 MB/s eta 0:01:30\n",
      "     -------                                 55.2/272.9 MB 2.4 MB/s eta 0:01:30\n",
      "     -------                                 55.5/272.9 MB 2.5 MB/s eta 0:01:28\n",
      "     -------                                 55.7/272.9 MB 2.5 MB/s eta 0:01:26\n",
      "     -------                                 55.9/272.9 MB 2.6 MB/s eta 0:01:25\n",
      "     --------                                56.0/272.9 MB 2.6 MB/s eta 0:01:25\n",
      "     --------                                56.0/272.9 MB 2.5 MB/s eta 0:01:26\n",
      "     --------                                56.0/272.9 MB 2.5 MB/s eta 0:01:26\n",
      "     --------                                56.3/272.9 MB 2.5 MB/s eta 0:01:27\n",
      "     --------                                56.4/272.9 MB 2.5 MB/s eta 0:01:26\n",
      "     --------                                56.6/272.9 MB 2.5 MB/s eta 0:01:26\n",
      "     --------                                56.6/272.9 MB 2.5 MB/s eta 0:01:26\n",
      "     --------                                57.0/272.9 MB 2.5 MB/s eta 0:01:26\n",
      "     --------                                57.0/272.9 MB 2.5 MB/s eta 0:01:26\n",
      "     --------                                57.1/272.9 MB 2.5 MB/s eta 0:01:25\n",
      "     --------                                57.6/272.9 MB 2.6 MB/s eta 0:01:22\n",
      "     --------                                57.7/272.9 MB 2.7 MB/s eta 0:01:22\n",
      "     --------                                57.8/272.9 MB 2.6 MB/s eta 0:01:22\n",
      "     --------                                58.0/272.9 MB 2.7 MB/s eta 0:01:22\n",
      "     --------                                58.0/272.9 MB 2.6 MB/s eta 0:01:23\n",
      "     --------                                58.1/272.9 MB 2.6 MB/s eta 0:01:22\n",
      "     --------                                58.2/272.9 MB 2.6 MB/s eta 0:01:22\n",
      "     --------                                58.5/272.9 MB 2.7 MB/s eta 0:01:21\n",
      "     --------                                58.6/272.9 MB 2.7 MB/s eta 0:01:21\n",
      "     --------                                58.9/272.9 MB 2.7 MB/s eta 0:01:20\n",
      "     --------                                58.9/272.9 MB 2.7 MB/s eta 0:01:20\n",
      "     --------                                59.1/272.9 MB 2.7 MB/s eta 0:01:19\n",
      "     --------                                59.2/272.9 MB 2.7 MB/s eta 0:01:19\n",
      "     --------                                59.4/272.9 MB 2.7 MB/s eta 0:01:19\n",
      "     --------                                59.5/272.9 MB 2.7 MB/s eta 0:01:19\n",
      "     --------                                59.5/272.9 MB 2.7 MB/s eta 0:01:19\n",
      "     --------                                59.9/272.9 MB 2.7 MB/s eta 0:01:19\n",
      "     --------                                60.0/272.9 MB 2.7 MB/s eta 0:01:18\n",
      "     --------                                60.0/272.9 MB 2.7 MB/s eta 0:01:19\n",
      "     --------                                60.0/272.9 MB 2.7 MB/s eta 0:01:19\n",
      "     --------                                60.3/272.9 MB 2.7 MB/s eta 0:01:18\n",
      "     --------                                60.3/272.9 MB 2.7 MB/s eta 0:01:19\n",
      "     --------                                60.6/272.9 MB 2.8 MB/s eta 0:01:18\n",
      "     --------                                60.7/272.9 MB 2.8 MB/s eta 0:01:18\n",
      "     --------                                60.8/272.9 MB 2.8 MB/s eta 0:01:17\n",
      "     --------                                61.1/272.9 MB 2.8 MB/s eta 0:01:16\n",
      "     --------                                61.2/272.9 MB 2.8 MB/s eta 0:01:16\n",
      "     --------                                61.3/272.9 MB 2.8 MB/s eta 0:01:16\n",
      "     --------                                61.5/272.9 MB 2.8 MB/s eta 0:01:15\n",
      "     --------                                61.6/272.9 MB 2.9 MB/s eta 0:01:14\n",
      "     --------                                61.7/272.9 MB 2.8 MB/s eta 0:01:15\n",
      "     --------                                61.9/272.9 MB 2.8 MB/s eta 0:01:15\n",
      "     --------                                61.9/272.9 MB 2.8 MB/s eta 0:01:15\n",
      "     --------                                62.1/272.9 MB 2.8 MB/s eta 0:01:15\n",
      "     --------                                62.2/272.9 MB 2.8 MB/s eta 0:01:15\n",
      "     --------                                62.3/272.9 MB 2.8 MB/s eta 0:01:15\n",
      "     --------                                62.4/272.9 MB 2.8 MB/s eta 0:01:15\n",
      "     --------                                62.7/272.9 MB 2.8 MB/s eta 0:01:15\n",
      "     --------                                62.8/272.9 MB 2.8 MB/s eta 0:01:15\n",
      "     ---------                               63.0/272.9 MB 2.9 MB/s eta 0:01:14\n",
      "     ---------                               63.1/272.9 MB 2.8 MB/s eta 0:01:15\n",
      "     ---------                               63.4/272.9 MB 2.9 MB/s eta 0:01:13\n",
      "     ---------                               63.4/272.9 MB 2.9 MB/s eta 0:01:13\n",
      "     ---------                               63.6/272.9 MB 2.8 MB/s eta 0:01:14\n",
      "     ---------                               63.8/272.9 MB 2.9 MB/s eta 0:01:13\n",
      "     ---------                               64.0/272.9 MB 2.9 MB/s eta 0:01:13\n",
      "     ---------                               64.1/272.9 MB 2.9 MB/s eta 0:01:13\n",
      "     ---------                               64.2/272.9 MB 2.9 MB/s eta 0:01:14\n",
      "     ---------                               64.4/272.9 MB 2.9 MB/s eta 0:01:13\n",
      "     ---------                               64.5/272.9 MB 2.9 MB/s eta 0:01:12\n",
      "     ---------                               64.7/272.9 MB 3.0 MB/s eta 0:01:09\n",
      "     ---------                               64.7/272.9 MB 3.0 MB/s eta 0:01:09\n",
      "     ---------                               64.9/272.9 MB 3.0 MB/s eta 0:01:09\n",
      "     ---------                               65.1/272.9 MB 3.0 MB/s eta 0:01:09\n",
      "     ---------                               65.2/272.9 MB 3.0 MB/s eta 0:01:09\n",
      "     ---------                               65.2/272.9 MB 3.0 MB/s eta 0:01:10\n",
      "     ---------                               65.4/272.9 MB 2.9 MB/s eta 0:01:11\n",
      "     ---------                               65.5/272.9 MB 2.9 MB/s eta 0:01:11\n",
      "     ---------                               65.6/272.9 MB 2.9 MB/s eta 0:01:11\n",
      "     ---------                               65.8/272.9 MB 2.9 MB/s eta 0:01:12\n",
      "     ---------                               65.9/272.9 MB 2.9 MB/s eta 0:01:12\n",
      "     ---------                               66.0/272.9 MB 2.9 MB/s eta 0:01:13\n",
      "     ---------                               66.2/272.9 MB 2.9 MB/s eta 0:01:12\n",
      "     ---------                               66.3/272.9 MB 3.0 MB/s eta 0:01:10\n",
      "     ---------                               66.4/272.9 MB 2.9 MB/s eta 0:01:11\n",
      "     ---------                               66.5/272.9 MB 2.9 MB/s eta 0:01:11\n",
      "     ---------                               66.6/272.9 MB 2.9 MB/s eta 0:01:12\n",
      "     ---------                               66.7/272.9 MB 2.9 MB/s eta 0:01:11\n",
      "     ---------                               66.9/272.9 MB 2.9 MB/s eta 0:01:10\n",
      "     ---------                               67.0/272.9 MB 2.9 MB/s eta 0:01:11\n",
      "     ---------                               67.1/272.9 MB 2.9 MB/s eta 0:01:12\n",
      "     ---------                               67.3/272.9 MB 2.9 MB/s eta 0:01:11\n",
      "     ---------                               67.4/272.9 MB 2.9 MB/s eta 0:01:12\n",
      "     ---------                               67.5/272.9 MB 2.9 MB/s eta 0:01:12\n",
      "     ---------                               67.5/272.9 MB 2.9 MB/s eta 0:01:12\n",
      "     ---------                               67.9/272.9 MB 2.8 MB/s eta 0:01:13\n",
      "     ---------                               68.1/272.9 MB 2.8 MB/s eta 0:01:12\n",
      "     ---------                               68.2/272.9 MB 2.9 MB/s eta 0:01:12\n",
      "     ---------                               68.4/272.9 MB 2.9 MB/s eta 0:01:12\n",
      "     ---------                               68.5/272.9 MB 2.9 MB/s eta 0:01:12\n",
      "     ---------                               68.7/272.9 MB 2.9 MB/s eta 0:01:12\n",
      "     ---------                               68.9/272.9 MB 2.9 MB/s eta 0:01:12\n",
      "     ---------                               69.0/272.9 MB 2.8 MB/s eta 0:01:12\n",
      "     ---------                               69.1/272.9 MB 2.9 MB/s eta 0:01:11\n",
      "     ---------                               69.3/272.9 MB 2.9 MB/s eta 0:01:11\n",
      "     ---------                               69.5/272.9 MB 2.9 MB/s eta 0:01:11\n",
      "     ---------                               69.5/272.9 MB 2.9 MB/s eta 0:01:12\n",
      "     ---------                               69.7/272.9 MB 2.9 MB/s eta 0:01:12\n",
      "     ---------                               69.8/272.9 MB 2.9 MB/s eta 0:01:11\n",
      "     ----------                              70.0/272.9 MB 2.9 MB/s eta 0:01:11\n",
      "     ----------                              70.2/272.9 MB 2.9 MB/s eta 0:01:10\n",
      "     ----------                              70.3/272.9 MB 2.9 MB/s eta 0:01:09\n",
      "     ----------                              70.5/272.9 MB 2.9 MB/s eta 0:01:09\n",
      "     ----------                              70.7/272.9 MB 2.9 MB/s eta 0:01:09\n",
      "     ----------                              70.8/272.9 MB 2.9 MB/s eta 0:01:09\n",
      "     ----------                              70.9/272.9 MB 2.9 MB/s eta 0:01:10\n",
      "     ----------                              71.1/272.9 MB 2.9 MB/s eta 0:01:09\n",
      "     ----------                              71.2/272.9 MB 2.9 MB/s eta 0:01:09\n",
      "     ----------                              71.5/272.9 MB 3.0 MB/s eta 0:01:08\n",
      "     ----------                              71.6/272.9 MB 2.9 MB/s eta 0:01:09\n",
      "     ----------                              71.9/272.9 MB 3.0 MB/s eta 0:01:07\n",
      "     ----------                              71.9/272.9 MB 3.0 MB/s eta 0:01:08\n",
      "     ----------                              72.2/272.9 MB 3.0 MB/s eta 0:01:08\n",
      "     ----------                              72.3/272.9 MB 3.0 MB/s eta 0:01:07\n",
      "     ----------                              72.6/272.9 MB 3.0 MB/s eta 0:01:06\n",
      "     ----------                              72.7/272.9 MB 3.1 MB/s eta 0:01:06\n",
      "     ----------                              72.8/272.9 MB 3.0 MB/s eta 0:01:07\n",
      "     ----------                              73.0/272.9 MB 3.0 MB/s eta 0:01:06\n",
      "     ----------                              73.1/272.9 MB 3.0 MB/s eta 0:01:06\n",
      "     ----------                              73.3/272.9 MB 3.1 MB/s eta 0:01:06\n",
      "     ----------                              73.4/272.9 MB 3.1 MB/s eta 0:01:05\n",
      "     ----------                              73.5/272.9 MB 3.0 MB/s eta 0:01:06\n",
      "     ----------                              73.6/272.9 MB 3.0 MB/s eta 0:01:07\n",
      "     ----------                              73.9/272.9 MB 3.0 MB/s eta 0:01:06\n",
      "     ----------                              74.1/272.9 MB 3.1 MB/s eta 0:01:05\n",
      "     ----------                              74.4/272.9 MB 3.1 MB/s eta 0:01:04\n",
      "     ----------                              74.6/272.9 MB 3.1 MB/s eta 0:01:05\n",
      "     ----------                              74.7/272.9 MB 3.1 MB/s eta 0:01:05\n",
      "     ----------                              74.9/272.9 MB 3.1 MB/s eta 0:01:03\n",
      "     ----------                              75.0/272.9 MB 3.1 MB/s eta 0:01:04\n",
      "     ----------                              75.3/272.9 MB 3.1 MB/s eta 0:01:04\n",
      "     ----------                              75.3/272.9 MB 3.1 MB/s eta 0:01:04\n",
      "     ----------                              75.6/272.9 MB 3.2 MB/s eta 0:01:03\n",
      "     ----------                              75.7/272.9 MB 3.2 MB/s eta 0:01:03\n",
      "     ----------                              75.9/272.9 MB 3.2 MB/s eta 0:01:01\n",
      "     ----------                              76.0/272.9 MB 3.2 MB/s eta 0:01:02\n",
      "     ----------                              76.0/272.9 MB 3.2 MB/s eta 0:01:02\n",
      "     ----------                              76.4/272.9 MB 3.2 MB/s eta 0:01:03\n",
      "     ----------                              76.6/272.9 MB 3.2 MB/s eta 0:01:01\n",
      "     ----------                              76.6/272.9 MB 3.2 MB/s eta 0:01:03\n",
      "     ----------                              77.0/272.9 MB 3.3 MB/s eta 0:00:59\n",
      "     -----------                             77.0/272.9 MB 3.3 MB/s eta 0:01:00\n",
      "     -----------                             77.2/272.9 MB 3.3 MB/s eta 0:01:00\n",
      "     -----------                             77.2/272.9 MB 3.3 MB/s eta 0:01:00\n",
      "     -----------                             77.5/272.9 MB 3.3 MB/s eta 0:01:00\n",
      "     -----------                             77.6/272.9 MB 3.3 MB/s eta 0:01:00\n",
      "     -----------                             77.8/272.9 MB 3.4 MB/s eta 0:00:59\n",
      "     -----------                             78.0/272.9 MB 3.3 MB/s eta 0:00:59\n",
      "     -----------                             78.1/272.9 MB 3.3 MB/s eta 0:01:00\n",
      "     -----------                             78.3/272.9 MB 3.3 MB/s eta 0:01:00\n",
      "     -----------                             78.4/272.9 MB 3.3 MB/s eta 0:01:00\n",
      "     -----------                             78.7/272.9 MB 3.3 MB/s eta 0:00:59\n",
      "     -----------                             78.8/272.9 MB 3.3 MB/s eta 0:00:59\n",
      "     -----------                             78.8/272.9 MB 3.2 MB/s eta 0:01:00\n",
      "     -----------                             79.1/272.9 MB 3.3 MB/s eta 0:00:59\n",
      "     -----------                             79.2/272.9 MB 3.3 MB/s eta 0:00:59\n",
      "     -----------                             79.4/272.9 MB 3.3 MB/s eta 0:00:59\n",
      "     -----------                             79.5/272.9 MB 3.3 MB/s eta 0:00:59\n",
      "     -----------                             79.7/272.9 MB 3.3 MB/s eta 0:00:59\n",
      "     -----------                             79.9/272.9 MB 3.3 MB/s eta 0:00:59\n",
      "     -----------                             80.1/272.9 MB 3.4 MB/s eta 0:00:58\n",
      "     -----------                             80.2/272.9 MB 3.3 MB/s eta 0:00:59\n",
      "     -----------                             80.4/272.9 MB 3.3 MB/s eta 0:00:59\n",
      "     -----------                             80.4/272.9 MB 3.3 MB/s eta 0:00:59\n",
      "     -----------                             80.6/272.9 MB 3.3 MB/s eta 0:00:59\n",
      "     -----------                             80.8/272.9 MB 3.3 MB/s eta 0:00:59\n",
      "     -----------                             80.9/272.9 MB 3.3 MB/s eta 0:00:59\n",
      "     -----------                             81.0/272.9 MB 3.2 MB/s eta 0:01:00\n",
      "     -----------                             81.2/272.9 MB 3.3 MB/s eta 0:00:59\n",
      "     -----------                             81.4/272.9 MB 3.3 MB/s eta 0:00:59\n",
      "     -----------                             81.5/272.9 MB 3.3 MB/s eta 0:00:59\n",
      "     -----------                             81.7/272.9 MB 3.2 MB/s eta 0:00:59\n",
      "     -----------                             81.8/272.9 MB 3.2 MB/s eta 0:01:00\n",
      "     -----------                             82.0/272.9 MB 3.2 MB/s eta 0:01:00\n",
      "     -----------                             82.0/272.9 MB 3.2 MB/s eta 0:01:01\n",
      "     -----------                             82.1/272.9 MB 3.1 MB/s eta 0:01:01\n",
      "     -----------                             82.3/272.9 MB 3.2 MB/s eta 0:01:00\n",
      "     -----------                             82.5/272.9 MB 3.2 MB/s eta 0:01:00\n",
      "     -----------                             82.6/272.9 MB 3.2 MB/s eta 0:01:00\n",
      "     -----------                             82.7/272.9 MB 3.2 MB/s eta 0:01:01\n",
      "     -----------                             82.7/272.9 MB 3.1 MB/s eta 0:01:02\n",
      "     -----------                             82.8/272.9 MB 3.1 MB/s eta 0:01:01\n",
      "     -----------                             83.0/272.9 MB 3.1 MB/s eta 0:01:01\n",
      "     -----------                             83.1/272.9 MB 3.1 MB/s eta 0:01:02\n",
      "     -----------                             83.2/272.9 MB 3.0 MB/s eta 0:01:03\n",
      "     -----------                             83.4/272.9 MB 3.1 MB/s eta 0:01:02\n",
      "     -----------                             83.6/272.9 MB 3.1 MB/s eta 0:01:02\n",
      "     -----------                             83.6/272.9 MB 3.1 MB/s eta 0:01:02\n",
      "     -----------                             83.8/272.9 MB 3.1 MB/s eta 0:01:02\n",
      "     -----------                             83.9/272.9 MB 3.1 MB/s eta 0:01:02\n",
      "     ------------                            84.0/272.9 MB 3.1 MB/s eta 0:01:02\n",
      "     ------------                            84.2/272.9 MB 3.0 MB/s eta 0:01:02\n",
      "     ------------                            84.3/272.9 MB 3.0 MB/s eta 0:01:02\n",
      "     ------------                            84.4/272.9 MB 3.0 MB/s eta 0:01:03\n",
      "     ------------                            84.6/272.9 MB 3.0 MB/s eta 0:01:03\n",
      "     ------------                            84.8/272.9 MB 3.0 MB/s eta 0:01:04\n",
      "     ------------                            84.8/272.9 MB 3.0 MB/s eta 0:01:04\n",
      "     ------------                            84.9/272.9 MB 2.9 MB/s eta 0:01:05\n",
      "     ------------                            84.9/272.9 MB 2.9 MB/s eta 0:01:05\n",
      "     ------------                            84.9/272.9 MB 2.9 MB/s eta 0:01:06\n",
      "     ------------                            85.0/272.9 MB 2.8 MB/s eta 0:01:07\n",
      "     ------------                            85.1/272.9 MB 2.8 MB/s eta 0:01:08\n",
      "     ------------                            85.4/272.9 MB 2.8 MB/s eta 0:01:08\n",
      "     ------------                            85.6/272.9 MB 2.8 MB/s eta 0:01:07\n",
      "     ------------                            85.8/272.9 MB 2.8 MB/s eta 0:01:08\n",
      "     ------------                            85.9/272.9 MB 2.8 MB/s eta 0:01:08\n",
      "     ------------                            85.9/272.9 MB 2.8 MB/s eta 0:01:08\n",
      "     ------------                            86.1/272.9 MB 2.7 MB/s eta 0:01:09\n",
      "     ------------                            86.2/272.9 MB 2.7 MB/s eta 0:01:09\n",
      "     ------------                            86.5/272.9 MB 2.8 MB/s eta 0:01:07\n",
      "     ------------                            86.6/272.9 MB 2.8 MB/s eta 0:01:08\n",
      "     ------------                            86.6/272.9 MB 2.7 MB/s eta 0:01:09\n",
      "     ------------                            86.7/272.9 MB 2.7 MB/s eta 0:01:09\n",
      "     ------------                            86.9/272.9 MB 2.7 MB/s eta 0:01:09\n",
      "     ------------                            87.0/272.9 MB 2.7 MB/s eta 0:01:09\n",
      "     ------------                            87.1/272.9 MB 2.7 MB/s eta 0:01:10\n",
      "     ------------                            87.3/272.9 MB 2.7 MB/s eta 0:01:10\n",
      "     ------------                            87.6/272.9 MB 2.7 MB/s eta 0:01:09\n",
      "     ------------                            87.8/272.9 MB 2.7 MB/s eta 0:01:09\n",
      "     ------------                            88.0/272.9 MB 2.7 MB/s eta 0:01:09\n",
      "     ------------                            88.1/272.9 MB 2.7 MB/s eta 0:01:10\n",
      "     ------------                            88.1/272.9 MB 2.7 MB/s eta 0:01:10\n",
      "     ------------                            88.2/272.9 MB 2.7 MB/s eta 0:01:10\n",
      "     ------------                            88.4/272.9 MB 2.7 MB/s eta 0:01:10\n",
      "     ------------                            88.5/272.9 MB 2.6 MB/s eta 0:01:10\n",
      "     ------------                            88.7/272.9 MB 2.6 MB/s eta 0:01:10\n",
      "     ------------                            88.7/272.9 MB 2.6 MB/s eta 0:01:10\n",
      "     ------------                            88.9/272.9 MB 2.6 MB/s eta 0:01:10\n",
      "     ------------                            89.1/272.9 MB 2.7 MB/s eta 0:01:10\n",
      "     ------------                            89.2/272.9 MB 2.6 MB/s eta 0:01:11\n",
      "     ------------                            89.2/272.9 MB 2.6 MB/s eta 0:01:11\n",
      "     ------------                            89.5/272.9 MB 2.6 MB/s eta 0:01:10\n",
      "     ------------                            89.6/272.9 MB 2.6 MB/s eta 0:01:10\n",
      "     ------------                            89.7/272.9 MB 2.7 MB/s eta 0:01:10\n",
      "     ------------                            90.0/272.9 MB 2.6 MB/s eta 0:01:10\n",
      "     ------------                            90.1/272.9 MB 2.6 MB/s eta 0:01:10\n",
      "     ------------                            90.3/272.9 MB 2.6 MB/s eta 0:01:11\n",
      "     ------------                            90.4/272.9 MB 2.6 MB/s eta 0:01:10\n",
      "     ------------                            90.6/272.9 MB 2.6 MB/s eta 0:01:10\n",
      "     ------------                            90.7/272.9 MB 2.6 MB/s eta 0:01:10\n",
      "     ------------                            90.9/272.9 MB 2.7 MB/s eta 0:01:09\n",
      "     ------------                            91.0/272.9 MB 2.6 MB/s eta 0:01:10\n",
      "     -------------                           91.2/272.9 MB 2.6 MB/s eta 0:01:09\n",
      "     -------------                           91.2/272.9 MB 2.6 MB/s eta 0:01:10\n",
      "     -------------                           91.3/272.9 MB 2.6 MB/s eta 0:01:09\n",
      "     -------------                           91.6/272.9 MB 2.6 MB/s eta 0:01:10\n",
      "     -------------                           91.7/272.9 MB 2.6 MB/s eta 0:01:09\n",
      "     -------------                           92.0/272.9 MB 2.6 MB/s eta 0:01:09\n",
      "     -------------                           92.0/272.9 MB 2.7 MB/s eta 0:01:08\n",
      "     -------------                           92.3/272.9 MB 2.7 MB/s eta 0:01:08\n",
      "     -------------                           92.4/272.9 MB 2.7 MB/s eta 0:01:08\n",
      "     -------------                           92.5/272.9 MB 2.7 MB/s eta 0:01:09\n",
      "     -------------                           92.8/272.9 MB 2.7 MB/s eta 0:01:07\n",
      "     -------------                           92.9/272.9 MB 2.7 MB/s eta 0:01:08\n",
      "     -------------                           93.0/272.9 MB 2.7 MB/s eta 0:01:06\n",
      "     -------------                           93.2/272.9 MB 2.7 MB/s eta 0:01:07\n",
      "     -------------                           93.5/272.9 MB 2.8 MB/s eta 0:01:05\n",
      "     -------------                           93.5/272.9 MB 2.7 MB/s eta 0:01:06\n",
      "     -------------                           93.7/272.9 MB 2.8 MB/s eta 0:01:06\n",
      "     -------------                           93.9/272.9 MB 2.8 MB/s eta 0:01:06\n",
      "     -------------                           94.0/272.9 MB 2.8 MB/s eta 0:01:05\n",
      "     -------------                           94.2/272.9 MB 2.8 MB/s eta 0:01:05\n",
      "     -------------                           94.3/272.9 MB 2.8 MB/s eta 0:01:05\n",
      "     -------------                           94.6/272.9 MB 2.8 MB/s eta 0:01:05\n",
      "     -------------                           94.6/272.9 MB 2.8 MB/s eta 0:01:04\n",
      "     -------------                           94.9/272.9 MB 2.8 MB/s eta 0:01:04\n",
      "     -------------                           95.2/272.9 MB 2.9 MB/s eta 0:01:01\n",
      "     -------------                           95.2/272.9 MB 2.9 MB/s eta 0:01:01\n",
      "     -------------                           95.3/272.9 MB 3.0 MB/s eta 0:01:00\n",
      "     -------------                           95.6/272.9 MB 3.0 MB/s eta 0:00:59\n",
      "     -------------                           95.8/272.9 MB 3.0 MB/s eta 0:00:59\n",
      "     -------------                           96.0/272.9 MB 3.0 MB/s eta 0:00:59\n",
      "     -------------                           96.1/272.9 MB 3.0 MB/s eta 0:00:59\n",
      "     -------------                           96.3/272.9 MB 3.1 MB/s eta 0:00:57\n",
      "     -------------                           96.4/272.9 MB 3.1 MB/s eta 0:00:57\n",
      "     -------------                           96.7/272.9 MB 3.1 MB/s eta 0:00:58\n",
      "     -------------                           96.7/272.9 MB 3.1 MB/s eta 0:00:58\n",
      "     -------------                           96.9/272.9 MB 3.1 MB/s eta 0:00:57\n",
      "     -------------                           97.1/272.9 MB 3.1 MB/s eta 0:00:56\n",
      "     -------------                           97.2/272.9 MB 3.1 MB/s eta 0:00:57\n",
      "     -------------                           97.4/272.9 MB 3.2 MB/s eta 0:00:55\n",
      "     -------------                           97.5/272.9 MB 3.2 MB/s eta 0:00:56\n",
      "     -------------                           97.6/272.9 MB 3.2 MB/s eta 0:00:55\n",
      "     -------------                           97.8/272.9 MB 3.1 MB/s eta 0:00:56\n",
      "     --------------                          98.1/272.9 MB 3.2 MB/s eta 0:00:55\n",
      "     --------------                          98.2/272.9 MB 3.2 MB/s eta 0:00:55\n",
      "     --------------                          98.4/272.9 MB 3.2 MB/s eta 0:00:56\n",
      "     --------------                          98.5/272.9 MB 3.2 MB/s eta 0:00:55\n",
      "     --------------                          98.7/272.9 MB 3.2 MB/s eta 0:00:55\n",
      "     --------------                          98.9/272.9 MB 3.3 MB/s eta 0:00:54\n",
      "     --------------                          99.0/272.9 MB 3.3 MB/s eta 0:00:54\n",
      "     --------------                          99.2/272.9 MB 3.3 MB/s eta 0:00:54\n",
      "     --------------                          99.2/272.9 MB 3.3 MB/s eta 0:00:54\n",
      "     --------------                          99.5/272.9 MB 3.3 MB/s eta 0:00:53\n",
      "     --------------                          99.6/272.9 MB 3.3 MB/s eta 0:00:53\n",
      "     --------------                          99.7/272.9 MB 3.3 MB/s eta 0:00:54\n",
      "     --------------                          99.8/272.9 MB 3.2 MB/s eta 0:00:54\n",
      "     -------------                          100.0/272.9 MB 3.3 MB/s eta 0:00:53\n",
      "     -------------                          100.4/272.9 MB 3.3 MB/s eta 0:00:52\n",
      "     -------------                          100.5/272.9 MB 3.3 MB/s eta 0:00:52\n",
      "     --------------                         100.6/272.9 MB 3.4 MB/s eta 0:00:52\n",
      "     --------------                         100.9/272.9 MB 3.4 MB/s eta 0:00:51\n",
      "     --------------                         101.0/272.9 MB 3.4 MB/s eta 0:00:52\n",
      "     --------------                         101.2/272.9 MB 3.4 MB/s eta 0:00:51\n",
      "     --------------                         101.3/272.9 MB 3.3 MB/s eta 0:00:52\n",
      "     --------------                         101.5/272.9 MB 3.4 MB/s eta 0:00:50\n",
      "     --------------                         101.7/272.9 MB 3.4 MB/s eta 0:00:51\n",
      "     --------------                         101.9/272.9 MB 3.4 MB/s eta 0:00:51\n",
      "     --------------                         102.2/272.9 MB 3.4 MB/s eta 0:00:51\n",
      "     --------------                         102.4/272.9 MB 3.4 MB/s eta 0:00:50\n",
      "     --------------                         102.5/272.9 MB 3.4 MB/s eta 0:00:50\n",
      "     --------------                         102.7/272.9 MB 3.5 MB/s eta 0:00:50\n",
      "     --------------                         103.0/272.9 MB 3.4 MB/s eta 0:00:50\n",
      "     --------------                         103.1/272.9 MB 3.5 MB/s eta 0:00:50\n",
      "     --------------                         103.3/272.9 MB 3.5 MB/s eta 0:00:49\n",
      "     --------------                         103.6/272.9 MB 3.5 MB/s eta 0:00:49\n",
      "     --------------                         103.6/272.9 MB 3.5 MB/s eta 0:00:49\n",
      "     --------------                         103.8/272.9 MB 3.5 MB/s eta 0:00:49\n",
      "     --------------                         104.0/272.9 MB 3.5 MB/s eta 0:00:49\n",
      "     --------------                         104.2/272.9 MB 3.5 MB/s eta 0:00:49\n",
      "     --------------                         104.5/272.9 MB 3.5 MB/s eta 0:00:48\n",
      "     --------------                         104.6/272.9 MB 3.5 MB/s eta 0:00:48\n",
      "     --------------                         104.8/272.9 MB 3.5 MB/s eta 0:00:48\n",
      "     --------------                         105.0/272.9 MB 3.6 MB/s eta 0:00:47\n",
      "     --------------                         105.1/272.9 MB 3.6 MB/s eta 0:00:47\n",
      "     --------------                         105.3/272.9 MB 3.5 MB/s eta 0:00:48\n",
      "     --------------                         105.4/272.9 MB 3.5 MB/s eta 0:00:49\n",
      "     --------------                         105.8/272.9 MB 3.6 MB/s eta 0:00:47\n",
      "     --------------                         105.9/272.9 MB 3.6 MB/s eta 0:00:47\n",
      "     --------------                         106.1/272.9 MB 3.6 MB/s eta 0:00:47\n",
      "     --------------                         106.1/272.9 MB 3.6 MB/s eta 0:00:47\n",
      "     --------------                         106.3/272.9 MB 3.6 MB/s eta 0:00:47\n",
      "     --------------                         106.6/272.9 MB 3.6 MB/s eta 0:00:47\n",
      "     --------------                         106.9/272.9 MB 3.6 MB/s eta 0:00:46\n",
      "     --------------                         107.0/272.9 MB 3.6 MB/s eta 0:00:47\n",
      "     --------------                         107.3/272.9 MB 3.6 MB/s eta 0:00:46\n",
      "     --------------                         107.4/272.9 MB 3.6 MB/s eta 0:00:46\n",
      "     --------------                         107.6/272.9 MB 3.6 MB/s eta 0:00:46\n",
      "     ---------------                        107.8/272.9 MB 3.7 MB/s eta 0:00:45\n",
      "     ---------------                        107.9/272.9 MB 3.6 MB/s eta 0:00:46\n",
      "     ---------------                        108.2/272.9 MB 3.7 MB/s eta 0:00:46\n",
      "     ---------------                        108.4/272.9 MB 3.6 MB/s eta 0:00:46\n",
      "     ---------------                        108.6/272.9 MB 3.7 MB/s eta 0:00:45\n",
      "     ---------------                        108.7/272.9 MB 3.7 MB/s eta 0:00:45\n",
      "     ---------------                        109.0/272.9 MB 3.7 MB/s eta 0:00:45\n",
      "     ---------------                        109.2/272.9 MB 3.7 MB/s eta 0:00:45\n",
      "     ---------------                        109.5/272.9 MB 3.8 MB/s eta 0:00:43\n",
      "     ---------------                        109.5/272.9 MB 3.8 MB/s eta 0:00:43\n",
      "     ---------------                        109.8/272.9 MB 3.7 MB/s eta 0:00:44\n",
      "     ---------------                        110.0/272.9 MB 3.9 MB/s eta 0:00:43\n",
      "     ---------------                        110.1/272.9 MB 3.8 MB/s eta 0:00:43\n",
      "     ---------------                        110.4/272.9 MB 3.8 MB/s eta 0:00:43\n",
      "     ---------------                        110.6/272.9 MB 3.8 MB/s eta 0:00:44\n",
      "     ---------------                        110.7/272.9 MB 3.8 MB/s eta 0:00:44\n",
      "     ---------------                        110.8/272.9 MB 3.8 MB/s eta 0:00:43\n",
      "     ---------------                        110.9/272.9 MB 3.8 MB/s eta 0:00:44\n",
      "     ---------------                        111.1/272.9 MB 3.8 MB/s eta 0:00:43\n",
      "     ---------------                        111.1/272.9 MB 3.7 MB/s eta 0:00:44\n",
      "     ---------------                        111.4/272.9 MB 3.7 MB/s eta 0:00:44\n",
      "     ---------------                        111.5/272.9 MB 3.8 MB/s eta 0:00:43\n",
      "     ---------------                        111.9/272.9 MB 3.8 MB/s eta 0:00:43\n",
      "     ---------------                        112.0/272.9 MB 3.8 MB/s eta 0:00:43\n",
      "     ---------------                        112.1/272.9 MB 3.7 MB/s eta 0:00:44\n",
      "     ---------------                        112.4/272.9 MB 3.7 MB/s eta 0:00:43\n",
      "     ---------------                        112.6/272.9 MB 3.7 MB/s eta 0:00:44\n",
      "     ---------------                        112.7/272.9 MB 3.7 MB/s eta 0:00:44\n",
      "     ---------------                        112.9/272.9 MB 3.7 MB/s eta 0:00:43\n",
      "     ---------------                        112.9/272.9 MB 3.7 MB/s eta 0:00:44\n",
      "     ---------------                        113.2/272.9 MB 3.7 MB/s eta 0:00:44\n",
      "     ---------------                        113.4/272.9 MB 3.7 MB/s eta 0:00:43\n",
      "     ---------------                        113.4/272.9 MB 3.7 MB/s eta 0:00:43\n",
      "     ---------------                        113.7/272.9 MB 3.7 MB/s eta 0:00:44\n",
      "     ---------------                        113.8/272.9 MB 3.7 MB/s eta 0:00:44\n",
      "     ---------------                        114.2/272.9 MB 3.8 MB/s eta 0:00:43\n",
      "     ---------------                        114.2/272.9 MB 3.7 MB/s eta 0:00:43\n",
      "     ---------------                        114.4/272.9 MB 3.7 MB/s eta 0:00:43\n",
      "     ---------------                        114.6/272.9 MB 3.7 MB/s eta 0:00:44\n",
      "     ---------------                        114.6/272.9 MB 3.6 MB/s eta 0:00:44\n",
      "     ---------------                        114.8/272.9 MB 3.7 MB/s eta 0:00:44\n",
      "     ----------------                       115.1/272.9 MB 3.7 MB/s eta 0:00:44\n",
      "     ----------------                       115.2/272.9 MB 3.6 MB/s eta 0:00:44\n",
      "     ----------------                       115.4/272.9 MB 3.6 MB/s eta 0:00:44\n",
      "     ----------------                       115.6/272.9 MB 3.7 MB/s eta 0:00:43\n",
      "     ----------------                       115.7/272.9 MB 3.7 MB/s eta 0:00:43\n",
      "     ----------------                       115.9/272.9 MB 3.6 MB/s eta 0:00:44\n",
      "     ----------------                       116.0/272.9 MB 3.6 MB/s eta 0:00:44\n",
      "     ----------------                       116.3/272.9 MB 3.7 MB/s eta 0:00:43\n",
      "     ----------------                       116.4/272.9 MB 3.6 MB/s eta 0:00:44\n",
      "     ----------------                       116.4/272.9 MB 3.6 MB/s eta 0:00:44\n",
      "     ----------------                       116.7/272.9 MB 3.6 MB/s eta 0:00:44\n",
      "     ----------------                       116.8/272.9 MB 3.6 MB/s eta 0:00:44\n",
      "     ----------------                       116.8/272.9 MB 3.6 MB/s eta 0:00:44\n",
      "     ----------------                       117.2/272.9 MB 3.5 MB/s eta 0:00:45\n",
      "     ----------------                       117.3/272.9 MB 3.5 MB/s eta 0:00:45\n",
      "     ----------------                       117.4/272.9 MB 3.5 MB/s eta 0:00:45\n",
      "     ----------------                       117.5/272.9 MB 3.5 MB/s eta 0:00:45\n",
      "     ----------------                       117.8/272.9 MB 3.5 MB/s eta 0:00:45\n",
      "     ----------------                       117.9/272.9 MB 3.4 MB/s eta 0:00:46\n",
      "     ----------------                       117.9/272.9 MB 3.4 MB/s eta 0:00:46\n",
      "     ----------------                       118.0/272.9 MB 3.5 MB/s eta 0:00:45\n",
      "     ----------------                       118.2/272.9 MB 3.4 MB/s eta 0:00:46\n",
      "     ----------------                       118.3/272.9 MB 3.4 MB/s eta 0:00:47\n",
      "     ----------------                       118.5/272.9 MB 3.3 MB/s eta 0:00:47\n",
      "     ----------------                       118.6/272.9 MB 3.3 MB/s eta 0:00:47\n",
      "     ----------------                       118.8/272.9 MB 3.3 MB/s eta 0:00:47\n",
      "     ----------------                       118.9/272.9 MB 3.3 MB/s eta 0:00:47\n",
      "     ----------------                       119.0/272.9 MB 3.3 MB/s eta 0:00:47\n",
      "     ----------------                       119.1/272.9 MB 3.3 MB/s eta 0:00:47\n",
      "     ----------------                       119.1/272.9 MB 3.3 MB/s eta 0:00:48\n",
      "     ----------------                       119.1/272.9 MB 3.2 MB/s eta 0:00:48\n",
      "     ----------------                       119.1/272.9 MB 3.1 MB/s eta 0:00:50\n",
      "     ----------------                       119.2/272.9 MB 3.1 MB/s eta 0:00:50\n",
      "     ----------------                       119.3/272.9 MB 3.1 MB/s eta 0:00:50\n",
      "     ----------------                       119.5/272.9 MB 3.1 MB/s eta 0:00:50\n",
      "     ----------------                       119.6/272.9 MB 3.1 MB/s eta 0:00:51\n",
      "     ----------------                       119.8/272.9 MB 3.1 MB/s eta 0:00:50\n",
      "     ----------------                       119.9/272.9 MB 3.0 MB/s eta 0:00:51\n",
      "     ----------------                       120.1/272.9 MB 3.0 MB/s eta 0:00:51\n",
      "     ----------------                       120.3/272.9 MB 3.0 MB/s eta 0:00:51\n",
      "     ----------------                       120.4/272.9 MB 3.0 MB/s eta 0:00:51\n",
      "     ----------------                       120.6/272.9 MB 3.0 MB/s eta 0:00:51\n",
      "     ----------------                       120.7/272.9 MB 3.0 MB/s eta 0:00:51\n",
      "     ----------------                       120.9/272.9 MB 3.0 MB/s eta 0:00:52\n",
      "     ----------------                       121.1/272.9 MB 3.0 MB/s eta 0:00:52\n",
      "     ----------------                       121.2/272.9 MB 3.0 MB/s eta 0:00:51\n",
      "     ----------------                       121.3/272.9 MB 3.0 MB/s eta 0:00:51\n",
      "     ----------------                       121.5/272.9 MB 3.0 MB/s eta 0:00:51\n",
      "     ----------------                       121.6/272.9 MB 3.0 MB/s eta 0:00:51\n",
      "     ----------------                       121.8/272.9 MB 3.0 MB/s eta 0:00:51\n",
      "     ----------------                       121.9/272.9 MB 3.0 MB/s eta 0:00:51\n",
      "     ----------------                       122.1/272.9 MB 2.9 MB/s eta 0:00:52\n",
      "     -----------------                      122.2/272.9 MB 3.0 MB/s eta 0:00:51\n",
      "     -----------------                      122.3/272.9 MB 2.9 MB/s eta 0:00:52\n",
      "     -----------------                      122.4/272.9 MB 2.9 MB/s eta 0:00:52\n",
      "     -----------------                      122.5/272.9 MB 2.9 MB/s eta 0:00:53\n",
      "     -----------------                      122.7/272.9 MB 2.9 MB/s eta 0:00:52\n",
      "     -----------------                      122.8/272.9 MB 2.9 MB/s eta 0:00:53\n",
      "     -----------------                      123.0/272.9 MB 2.9 MB/s eta 0:00:52\n",
      "     -----------------                      123.0/272.9 MB 2.9 MB/s eta 0:00:53\n",
      "     -----------------                      123.1/272.9 MB 2.8 MB/s eta 0:00:53\n",
      "     -----------------                      123.2/272.9 MB 2.9 MB/s eta 0:00:52\n",
      "     -----------------                      123.3/272.9 MB 2.8 MB/s eta 0:00:53\n",
      "     -----------------                      123.5/272.9 MB 2.8 MB/s eta 0:00:53\n",
      "     -----------------                      123.6/272.9 MB 2.9 MB/s eta 0:00:52\n",
      "     -----------------                      123.7/272.9 MB 2.8 MB/s eta 0:00:53\n",
      "     -----------------                      123.7/272.9 MB 2.8 MB/s eta 0:00:53\n",
      "     -----------------                      124.0/272.9 MB 2.8 MB/s eta 0:00:53\n",
      "     -----------------                      124.1/272.9 MB 2.8 MB/s eta 0:00:53\n",
      "     -----------------                      124.1/272.9 MB 2.8 MB/s eta 0:00:53\n",
      "     -----------------                      124.3/272.9 MB 2.7 MB/s eta 0:00:55\n",
      "     -----------------                      124.5/272.9 MB 2.8 MB/s eta 0:00:54\n",
      "     -----------------                      124.7/272.9 MB 2.8 MB/s eta 0:00:54\n",
      "     -----------------                      124.9/272.9 MB 2.8 MB/s eta 0:00:54\n",
      "     -----------------                      125.1/272.9 MB 2.8 MB/s eta 0:00:54\n",
      "     -----------------                      125.2/272.9 MB 2.8 MB/s eta 0:00:54\n",
      "     -----------------                      125.4/272.9 MB 2.8 MB/s eta 0:00:54\n",
      "     -----------------                      125.5/272.9 MB 2.8 MB/s eta 0:00:54\n",
      "     -----------------                      125.6/272.9 MB 2.7 MB/s eta 0:00:54\n",
      "     -----------------                      125.7/272.9 MB 2.7 MB/s eta 0:00:55\n",
      "     -----------------                      125.7/272.9 MB 2.7 MB/s eta 0:00:55\n",
      "     -----------------                      126.1/272.9 MB 2.7 MB/s eta 0:00:55\n",
      "     -----------------                      126.2/272.9 MB 2.7 MB/s eta 0:00:55\n",
      "     -----------------                      126.4/272.9 MB 2.7 MB/s eta 0:00:54\n",
      "     -----------------                      126.6/272.9 MB 2.8 MB/s eta 0:00:54\n",
      "     -----------------                      126.7/272.9 MB 2.8 MB/s eta 0:00:53\n",
      "     -----------------                      126.9/272.9 MB 2.7 MB/s eta 0:00:54\n",
      "     -----------------                      127.0/272.9 MB 2.7 MB/s eta 0:00:54\n",
      "     -----------------                      127.2/272.9 MB 2.8 MB/s eta 0:00:53\n",
      "     -----------------                      127.2/272.9 MB 2.7 MB/s eta 0:00:54\n",
      "     -----------------                      127.3/272.9 MB 2.7 MB/s eta 0:00:55\n",
      "     -----------------                      127.6/272.9 MB 2.7 MB/s eta 0:00:54\n",
      "     -----------------                      127.8/272.9 MB 2.8 MB/s eta 0:00:53\n",
      "     -----------------                      128.0/272.9 MB 2.7 MB/s eta 0:00:53\n",
      "     -----------------                      128.1/272.9 MB 2.7 MB/s eta 0:00:53\n",
      "     -----------------                      128.2/272.9 MB 2.8 MB/s eta 0:00:53\n",
      "     -----------------                      128.3/272.9 MB 2.8 MB/s eta 0:00:53\n",
      "     -----------------                      128.6/272.9 MB 2.8 MB/s eta 0:00:52\n",
      "     -----------------                      128.8/272.9 MB 2.8 MB/s eta 0:00:52\n",
      "     -----------------                      128.8/272.9 MB 2.8 MB/s eta 0:00:52\n",
      "     -----------------                      129.0/272.9 MB 2.8 MB/s eta 0:00:53\n",
      "     -----------------                      129.1/272.9 MB 2.8 MB/s eta 0:00:51\n",
      "     ------------------                     129.3/272.9 MB 2.8 MB/s eta 0:00:51\n",
      "     ------------------                     129.4/272.9 MB 2.9 MB/s eta 0:00:49\n",
      "     ------------------                     129.7/272.9 MB 3.0 MB/s eta 0:00:49\n",
      "     ------------------                     129.8/272.9 MB 2.9 MB/s eta 0:00:49\n",
      "     ------------------                     129.9/272.9 MB 2.9 MB/s eta 0:00:49\n",
      "     ------------------                     130.2/272.9 MB 3.0 MB/s eta 0:00:48\n",
      "     ------------------                     130.3/272.9 MB 3.0 MB/s eta 0:00:48\n",
      "     ------------------                     130.4/272.9 MB 3.0 MB/s eta 0:00:49\n",
      "     ------------------                     130.6/272.9 MB 3.0 MB/s eta 0:00:48\n",
      "     ------------------                     130.7/272.9 MB 3.0 MB/s eta 0:00:49\n",
      "     ------------------                     130.9/272.9 MB 3.0 MB/s eta 0:00:48\n",
      "     ------------------                     131.0/272.9 MB 3.0 MB/s eta 0:00:48\n",
      "     ------------------                     131.2/272.9 MB 3.0 MB/s eta 0:00:48\n",
      "     ------------------                     131.4/272.9 MB 3.0 MB/s eta 0:00:48\n",
      "     ------------------                     131.6/272.9 MB 3.0 MB/s eta 0:00:48\n",
      "     ------------------                     131.6/272.9 MB 3.0 MB/s eta 0:00:48\n",
      "     ------------------                     131.9/272.9 MB 3.0 MB/s eta 0:00:48\n",
      "     ------------------                     131.9/272.9 MB 3.0 MB/s eta 0:00:48\n",
      "     ------------------                     131.9/272.9 MB 3.0 MB/s eta 0:00:48\n",
      "     ------------------                     132.2/272.9 MB 3.0 MB/s eta 0:00:48\n",
      "     ------------------                     132.3/272.9 MB 2.9 MB/s eta 0:00:48\n",
      "     ------------------                     132.5/272.9 MB 3.0 MB/s eta 0:00:48\n",
      "     ------------------                     132.6/272.9 MB 3.0 MB/s eta 0:00:48\n",
      "     ------------------                     132.6/272.9 MB 3.0 MB/s eta 0:00:48\n",
      "     ------------------                     132.8/272.9 MB 3.0 MB/s eta 0:00:48\n",
      "     ------------------                     133.1/272.9 MB 3.0 MB/s eta 0:00:47\n",
      "     ------------------                     133.2/272.9 MB 3.0 MB/s eta 0:00:46\n",
      "     ------------------                     133.4/272.9 MB 3.0 MB/s eta 0:00:46\n",
      "     ------------------                     133.5/272.9 MB 3.0 MB/s eta 0:00:46\n",
      "     ------------------                     133.7/272.9 MB 3.1 MB/s eta 0:00:46\n",
      "     ------------------                     133.8/272.9 MB 3.0 MB/s eta 0:00:46\n",
      "     ------------------                     134.0/272.9 MB 3.1 MB/s eta 0:00:45\n",
      "     ------------------                     134.1/272.9 MB 3.1 MB/s eta 0:00:46\n",
      "     ------------------                     134.1/272.9 MB 3.0 MB/s eta 0:00:46\n",
      "     ------------------                     134.3/272.9 MB 3.0 MB/s eta 0:00:46\n",
      "     ------------------                     134.5/272.9 MB 3.1 MB/s eta 0:00:46\n",
      "     ------------------                     134.7/272.9 MB 3.1 MB/s eta 0:00:45\n",
      "     ------------------                     134.7/272.9 MB 3.1 MB/s eta 0:00:45\n",
      "     ------------------                     134.9/272.9 MB 3.0 MB/s eta 0:00:46\n",
      "     ------------------                     135.0/272.9 MB 3.0 MB/s eta 0:00:46\n",
      "     ------------------                     135.0/272.9 MB 3.0 MB/s eta 0:00:46\n",
      "     ------------------                     135.2/272.9 MB 3.0 MB/s eta 0:00:46\n",
      "     ------------------                     135.5/272.9 MB 3.0 MB/s eta 0:00:46\n",
      "     ------------------                     135.5/272.9 MB 3.0 MB/s eta 0:00:46\n",
      "     ------------------                     135.6/272.9 MB 3.0 MB/s eta 0:00:46\n",
      "     ------------------                     135.8/272.9 MB 3.0 MB/s eta 0:00:46\n",
      "     ------------------                     135.8/272.9 MB 3.0 MB/s eta 0:00:46\n",
      "     ------------------                     136.1/272.9 MB 3.1 MB/s eta 0:00:45\n",
      "     ------------------                     136.2/272.9 MB 3.0 MB/s eta 0:00:46\n",
      "     ------------------                     136.3/272.9 MB 3.0 MB/s eta 0:00:46\n",
      "     ------------------                     136.4/272.9 MB 3.0 MB/s eta 0:00:46\n",
      "     -------------------                    136.6/272.9 MB 3.0 MB/s eta 0:00:46\n",
      "     -------------------                    136.7/272.9 MB 3.0 MB/s eta 0:00:46\n",
      "     -------------------                    136.8/272.9 MB 3.0 MB/s eta 0:00:46\n",
      "     -------------------                    137.0/272.9 MB 3.0 MB/s eta 0:00:46\n",
      "     -------------------                    137.2/272.9 MB 3.0 MB/s eta 0:00:46\n",
      "     -------------------                    137.3/272.9 MB 3.0 MB/s eta 0:00:46\n",
      "     -------------------                    137.4/272.9 MB 2.9 MB/s eta 0:00:47\n",
      "     -------------------                    137.6/272.9 MB 3.0 MB/s eta 0:00:46\n",
      "     -------------------                    137.7/272.9 MB 3.0 MB/s eta 0:00:46\n",
      "     -------------------                    137.9/272.9 MB 2.9 MB/s eta 0:00:46\n",
      "     -------------------                    138.0/272.9 MB 2.9 MB/s eta 0:00:46\n",
      "     -------------------                    138.3/272.9 MB 3.0 MB/s eta 0:00:46\n",
      "     -------------------                    138.5/272.9 MB 3.0 MB/s eta 0:00:45\n",
      "     -------------------                    138.7/272.9 MB 3.0 MB/s eta 0:00:46\n",
      "     -------------------                    138.8/272.9 MB 3.0 MB/s eta 0:00:46\n",
      "     -------------------                    139.0/272.9 MB 3.0 MB/s eta 0:00:45\n",
      "     -------------------                    139.1/272.9 MB 3.0 MB/s eta 0:00:45\n",
      "     -------------------                    139.2/272.9 MB 3.0 MB/s eta 0:00:46\n",
      "     -------------------                    139.3/272.9 MB 2.9 MB/s eta 0:00:46\n",
      "     -------------------                    139.6/272.9 MB 3.0 MB/s eta 0:00:45\n",
      "     -------------------                    139.7/272.9 MB 3.0 MB/s eta 0:00:45\n",
      "     -------------------                    139.8/272.9 MB 2.9 MB/s eta 0:00:46\n",
      "     -------------------                    140.0/272.9 MB 2.9 MB/s eta 0:00:46\n",
      "     -------------------                    140.1/272.9 MB 3.0 MB/s eta 0:00:45\n",
      "     -------------------                    140.2/272.9 MB 2.9 MB/s eta 0:00:46\n",
      "     -------------------                    140.3/272.9 MB 2.9 MB/s eta 0:00:46\n",
      "     -------------------                    140.6/272.9 MB 2.9 MB/s eta 0:00:46\n",
      "     -------------------                    140.9/272.9 MB 3.0 MB/s eta 0:00:45\n",
      "     -------------------                    141.0/272.9 MB 2.9 MB/s eta 0:00:45\n",
      "     -------------------                    141.1/272.9 MB 2.9 MB/s eta 0:00:45\n",
      "     -------------------                    141.1/272.9 MB 2.9 MB/s eta 0:00:46\n",
      "     -------------------                    141.3/272.9 MB 2.9 MB/s eta 0:00:45\n",
      "     -------------------                    141.3/272.9 MB 2.9 MB/s eta 0:00:46\n",
      "     -------------------                    141.5/272.9 MB 2.9 MB/s eta 0:00:46\n",
      "     -------------------                    141.6/272.9 MB 2.9 MB/s eta 0:00:46\n",
      "     -------------------                    141.9/272.9 MB 2.9 MB/s eta 0:00:45\n",
      "     -------------------                    141.9/272.9 MB 2.9 MB/s eta 0:00:46\n",
      "     -------------------                    142.0/272.9 MB 2.9 MB/s eta 0:00:46\n",
      "     -------------------                    142.2/272.9 MB 2.9 MB/s eta 0:00:45\n",
      "     -------------------                    142.3/272.9 MB 2.9 MB/s eta 0:00:46\n",
      "     -------------------                    142.4/272.9 MB 2.9 MB/s eta 0:00:46\n",
      "     -------------------                    142.4/272.9 MB 2.9 MB/s eta 0:00:46\n",
      "     -------------------                    142.6/272.9 MB 2.9 MB/s eta 0:00:46\n",
      "     -------------------                    142.7/272.9 MB 2.8 MB/s eta 0:00:47\n",
      "     -------------------                    142.9/272.9 MB 2.9 MB/s eta 0:00:46\n",
      "     -------------------                    143.0/272.9 MB 2.9 MB/s eta 0:00:46\n",
      "     -------------------                    143.2/272.9 MB 2.8 MB/s eta 0:00:46\n",
      "     -------------------                    143.3/272.9 MB 2.8 MB/s eta 0:00:47\n",
      "     -------------------                    143.4/272.9 MB 2.8 MB/s eta 0:00:47\n",
      "     -------------------                    143.5/272.9 MB 2.8 MB/s eta 0:00:47\n",
      "     -------------------                    143.6/272.9 MB 2.8 MB/s eta 0:00:47\n",
      "     --------------------                   143.7/272.9 MB 2.8 MB/s eta 0:00:47\n",
      "     --------------------                   143.7/272.9 MB 2.8 MB/s eta 0:00:47\n",
      "     --------------------                   143.9/272.9 MB 2.8 MB/s eta 0:00:47\n",
      "     --------------------                   144.1/272.9 MB 2.8 MB/s eta 0:00:47\n",
      "     --------------------                   144.2/272.9 MB 2.8 MB/s eta 0:00:47\n",
      "     --------------------                   144.3/272.9 MB 2.8 MB/s eta 0:00:47\n",
      "     --------------------                   144.3/272.9 MB 2.8 MB/s eta 0:00:47\n",
      "     --------------------                   144.4/272.9 MB 2.8 MB/s eta 0:00:47\n",
      "     --------------------                   144.6/272.9 MB 2.8 MB/s eta 0:00:47\n",
      "     --------------------                   144.7/272.9 MB 2.8 MB/s eta 0:00:47\n",
      "     --------------------                   144.8/272.9 MB 2.7 MB/s eta 0:00:48\n",
      "     --------------------                   144.9/272.9 MB 2.7 MB/s eta 0:00:47\n",
      "     --------------------                   145.0/272.9 MB 2.7 MB/s eta 0:00:48\n",
      "     --------------------                   145.1/272.9 MB 2.7 MB/s eta 0:00:48\n",
      "     --------------------                   145.4/272.9 MB 2.8 MB/s eta 0:00:47\n",
      "     --------------------                   145.4/272.9 MB 2.7 MB/s eta 0:00:47\n",
      "     --------------------                   145.6/272.9 MB 2.7 MB/s eta 0:00:47\n",
      "     --------------------                   145.7/272.9 MB 2.7 MB/s eta 0:00:48\n",
      "     --------------------                   145.8/272.9 MB 2.7 MB/s eta 0:00:48\n",
      "     --------------------                   146.0/272.9 MB 2.7 MB/s eta 0:00:47\n",
      "     --------------------                   146.0/272.9 MB 2.7 MB/s eta 0:00:47\n",
      "     --------------------                   146.2/272.9 MB 2.7 MB/s eta 0:00:48\n",
      "     --------------------                   146.3/272.9 MB 2.7 MB/s eta 0:00:48\n",
      "     --------------------                   146.4/272.9 MB 2.7 MB/s eta 0:00:48\n",
      "     --------------------                   146.4/272.9 MB 2.7 MB/s eta 0:00:48\n",
      "     --------------------                   146.6/272.9 MB 2.7 MB/s eta 0:00:48\n",
      "     --------------------                   146.6/272.9 MB 2.7 MB/s eta 0:00:47\n",
      "     --------------------                   146.8/272.9 MB 2.7 MB/s eta 0:00:48\n",
      "     --------------------                   147.0/272.9 MB 2.7 MB/s eta 0:00:47\n",
      "     --------------------                   147.2/272.9 MB 2.7 MB/s eta 0:00:47\n",
      "     --------------------                   147.3/272.9 MB 2.7 MB/s eta 0:00:47\n",
      "     --------------------                   147.4/272.9 MB 2.7 MB/s eta 0:00:47\n",
      "     --------------------                   147.6/272.9 MB 2.7 MB/s eta 0:00:47\n",
      "     --------------------                   147.7/272.9 MB 2.7 MB/s eta 0:00:47\n",
      "     --------------------                   147.8/272.9 MB 2.7 MB/s eta 0:00:47\n",
      "     --------------------                   148.0/272.9 MB 2.7 MB/s eta 0:00:47\n",
      "     --------------------                   148.1/272.9 MB 2.7 MB/s eta 0:00:47\n",
      "     --------------------                   148.3/272.9 MB 2.7 MB/s eta 0:00:47\n",
      "     --------------------                   148.3/272.9 MB 2.7 MB/s eta 0:00:47\n",
      "     --------------------                   148.5/272.9 MB 2.7 MB/s eta 0:00:47\n",
      "     --------------------                   148.5/272.9 MB 2.7 MB/s eta 0:00:47\n",
      "     --------------------                   148.7/272.9 MB 2.6 MB/s eta 0:00:48\n",
      "     --------------------                   148.7/272.9 MB 2.6 MB/s eta 0:00:48\n",
      "     --------------------                   149.1/272.9 MB 2.6 MB/s eta 0:00:48\n",
      "     --------------------                   149.1/272.9 MB 2.6 MB/s eta 0:00:48\n",
      "     --------------------                   149.2/272.9 MB 2.6 MB/s eta 0:00:48\n",
      "     --------------------                   149.2/272.9 MB 2.6 MB/s eta 0:00:48\n",
      "     --------------------                   149.2/272.9 MB 2.5 MB/s eta 0:00:49\n",
      "     --------------------                   149.2/272.9 MB 2.5 MB/s eta 0:00:50\n",
      "     --------------------                   149.3/272.9 MB 2.5 MB/s eta 0:00:50\n",
      "     --------------------                   149.5/272.9 MB 2.5 MB/s eta 0:00:50\n",
      "     --------------------                   149.7/272.9 MB 2.5 MB/s eta 0:00:50\n",
      "     --------------------                   149.7/272.9 MB 2.5 MB/s eta 0:00:49\n",
      "     --------------------                   149.9/272.9 MB 2.5 MB/s eta 0:00:50\n",
      "     --------------------                   150.0/272.9 MB 2.5 MB/s eta 0:00:49\n",
      "     --------------------                   150.1/272.9 MB 2.5 MB/s eta 0:00:49\n",
      "     --------------------                   150.2/272.9 MB 2.5 MB/s eta 0:00:49\n",
      "     --------------------                   150.3/272.9 MB 2.5 MB/s eta 0:00:50\n",
      "     --------------------                   150.4/272.9 MB 2.5 MB/s eta 0:00:50\n",
      "     --------------------                   150.6/272.9 MB 2.5 MB/s eta 0:00:50\n",
      "     --------------------                   150.8/272.9 MB 2.5 MB/s eta 0:00:50\n",
      "     ---------------------                  150.8/272.9 MB 2.5 MB/s eta 0:00:50\n",
      "     ---------------------                  150.8/272.9 MB 2.5 MB/s eta 0:00:50\n",
      "     ---------------------                  150.8/272.9 MB 2.5 MB/s eta 0:00:50\n",
      "     ---------------------                  151.2/272.9 MB 2.5 MB/s eta 0:00:50\n",
      "     ---------------------                  151.4/272.9 MB 2.5 MB/s eta 0:00:49\n",
      "     ---------------------                  151.5/272.9 MB 2.5 MB/s eta 0:00:50\n",
      "     ---------------------                  151.5/272.9 MB 2.5 MB/s eta 0:00:50\n",
      "     ---------------------                  151.8/272.9 MB 2.5 MB/s eta 0:00:50\n",
      "     ---------------------                  152.0/272.9 MB 2.5 MB/s eta 0:00:49\n",
      "     ---------------------                  152.0/272.9 MB 2.5 MB/s eta 0:00:50\n",
      "     ---------------------                  152.2/272.9 MB 2.5 MB/s eta 0:00:49\n",
      "     ---------------------                  152.3/272.9 MB 2.5 MB/s eta 0:00:49\n",
      "     ---------------------                  152.4/272.9 MB 2.5 MB/s eta 0:00:49\n",
      "     ---------------------                  152.5/272.9 MB 2.5 MB/s eta 0:00:49\n",
      "     ---------------------                  152.5/272.9 MB 2.5 MB/s eta 0:00:49\n",
      "     ---------------------                  152.7/272.9 MB 2.5 MB/s eta 0:00:49\n",
      "     ---------------------                  152.9/272.9 MB 2.5 MB/s eta 0:00:48\n",
      "     ---------------------                  153.0/272.9 MB 2.5 MB/s eta 0:00:49\n",
      "     ---------------------                  153.1/272.9 MB 2.5 MB/s eta 0:00:49\n",
      "     ---------------------                  153.2/272.9 MB 2.5 MB/s eta 0:00:49\n",
      "     ---------------------                  153.5/272.9 MB 2.5 MB/s eta 0:00:49\n",
      "     ---------------------                  153.6/272.9 MB 2.5 MB/s eta 0:00:49\n",
      "     ---------------------                  153.7/272.9 MB 2.5 MB/s eta 0:00:49\n",
      "     ---------------------                  153.8/272.9 MB 2.5 MB/s eta 0:00:49\n",
      "     ---------------------                  153.9/272.9 MB 2.5 MB/s eta 0:00:48\n",
      "     ---------------------                  154.0/272.9 MB 2.5 MB/s eta 0:00:48\n",
      "     ---------------------                  154.1/272.9 MB 2.5 MB/s eta 0:00:48\n",
      "     ---------------------                  154.2/272.9 MB 2.5 MB/s eta 0:00:49\n",
      "     ---------------------                  154.2/272.9 MB 2.4 MB/s eta 0:00:49\n",
      "     ---------------------                  154.5/272.9 MB 2.5 MB/s eta 0:00:48\n",
      "     ---------------------                  154.5/272.9 MB 2.5 MB/s eta 0:00:48\n",
      "     ---------------------                  154.7/272.9 MB 2.5 MB/s eta 0:00:48\n",
      "     ---------------------                  154.8/272.9 MB 2.5 MB/s eta 0:00:48\n",
      "     ---------------------                  155.0/272.9 MB 2.5 MB/s eta 0:00:47\n",
      "     ---------------------                  155.0/272.9 MB 2.5 MB/s eta 0:00:47\n",
      "     ---------------------                  155.2/272.9 MB 2.5 MB/s eta 0:00:48\n",
      "     ---------------------                  155.2/272.9 MB 2.5 MB/s eta 0:00:48\n",
      "     ---------------------                  155.2/272.9 MB 2.5 MB/s eta 0:00:48\n",
      "     ---------------------                  155.6/272.9 MB 2.5 MB/s eta 0:00:48\n",
      "     ---------------------                  155.6/272.9 MB 2.5 MB/s eta 0:00:48\n",
      "     ---------------------                  155.8/272.9 MB 2.5 MB/s eta 0:00:48\n",
      "     ---------------------                  155.9/272.9 MB 2.5 MB/s eta 0:00:48\n",
      "     ---------------------                  155.9/272.9 MB 2.5 MB/s eta 0:00:48\n",
      "     ---------------------                  155.9/272.9 MB 2.5 MB/s eta 0:00:48\n",
      "     ---------------------                  156.0/272.9 MB 2.4 MB/s eta 0:00:49\n",
      "     ---------------------                  156.4/272.9 MB 2.5 MB/s eta 0:00:47\n",
      "     ---------------------                  156.5/272.9 MB 2.5 MB/s eta 0:00:47\n",
      "     ---------------------                  156.7/272.9 MB 2.5 MB/s eta 0:00:47\n",
      "     ---------------------                  156.7/272.9 MB 2.5 MB/s eta 0:00:47\n",
      "     ---------------------                  156.8/272.9 MB 2.5 MB/s eta 0:00:48\n",
      "     ---------------------                  157.0/272.9 MB 2.5 MB/s eta 0:00:47\n",
      "     ---------------------                  157.1/272.9 MB 2.5 MB/s eta 0:00:47\n",
      "     ---------------------                  157.2/272.9 MB 2.5 MB/s eta 0:00:48\n",
      "     ---------------------                  157.3/272.9 MB 2.5 MB/s eta 0:00:47\n",
      "     ---------------------                  157.4/272.9 MB 2.4 MB/s eta 0:00:48\n",
      "     ---------------------                  157.5/272.9 MB 2.4 MB/s eta 0:00:48\n",
      "     ---------------------                  157.5/272.9 MB 2.4 MB/s eta 0:00:48\n",
      "     ---------------------                  157.7/272.9 MB 2.4 MB/s eta 0:00:48\n",
      "     ---------------------                  157.8/272.9 MB 2.4 MB/s eta 0:00:48\n",
      "     ----------------------                 158.0/272.9 MB 2.4 MB/s eta 0:00:48\n",
      "     ----------------------                 158.1/272.9 MB 2.4 MB/s eta 0:00:47\n",
      "     ----------------------                 158.1/272.9 MB 2.4 MB/s eta 0:00:48\n",
      "     ----------------------                 158.4/272.9 MB 2.4 MB/s eta 0:00:48\n",
      "     ----------------------                 158.5/272.9 MB 2.4 MB/s eta 0:00:47\n",
      "     ----------------------                 158.6/272.9 MB 2.4 MB/s eta 0:00:48\n",
      "     ----------------------                 158.7/272.9 MB 2.4 MB/s eta 0:00:48\n",
      "     ----------------------                 158.9/272.9 MB 2.4 MB/s eta 0:00:47\n",
      "     ----------------------                 159.1/272.9 MB 2.4 MB/s eta 0:00:47\n",
      "     ----------------------                 159.1/272.9 MB 2.4 MB/s eta 0:00:47\n",
      "     ----------------------                 159.2/272.9 MB 2.4 MB/s eta 0:00:48\n",
      "     ----------------------                 159.3/272.9 MB 2.4 MB/s eta 0:00:48\n",
      "     ----------------------                 159.4/272.9 MB 2.3 MB/s eta 0:00:49\n",
      "     ----------------------                 159.6/272.9 MB 2.5 MB/s eta 0:00:46\n",
      "     ----------------------                 159.6/272.9 MB 2.5 MB/s eta 0:00:46\n",
      "     ----------------------                 159.7/272.9 MB 2.5 MB/s eta 0:00:47\n",
      "     ----------------------                 159.8/272.9 MB 2.4 MB/s eta 0:00:47\n",
      "     ----------------------                 159.9/272.9 MB 2.4 MB/s eta 0:00:47\n",
      "     ----------------------                 160.0/272.9 MB 2.5 MB/s eta 0:00:46\n",
      "     ----------------------                 160.2/272.9 MB 2.4 MB/s eta 0:00:47\n",
      "     ----------------------                 160.3/272.9 MB 2.5 MB/s eta 0:00:46\n",
      "     ----------------------                 160.4/272.9 MB 2.4 MB/s eta 0:00:47\n",
      "     ----------------------                 160.5/272.9 MB 2.4 MB/s eta 0:00:47\n",
      "     ----------------------                 160.7/272.9 MB 2.5 MB/s eta 0:00:46\n",
      "     ----------------------                 160.8/272.9 MB 2.4 MB/s eta 0:00:47\n",
      "     ----------------------                 160.8/272.9 MB 2.4 MB/s eta 0:00:47\n",
      "     ----------------------                 161.0/272.9 MB 2.4 MB/s eta 0:00:47\n",
      "     ----------------------                 161.1/272.9 MB 2.5 MB/s eta 0:00:46\n",
      "     ----------------------                 161.1/272.9 MB 2.4 MB/s eta 0:00:46\n",
      "     ----------------------                 161.4/272.9 MB 2.4 MB/s eta 0:00:47\n",
      "     ----------------------                 161.5/272.9 MB 2.4 MB/s eta 0:00:47\n",
      "     ----------------------                 161.6/272.9 MB 2.4 MB/s eta 0:00:47\n",
      "     ----------------------                 161.7/272.9 MB 2.4 MB/s eta 0:00:47\n",
      "     ----------------------                 161.8/272.9 MB 2.4 MB/s eta 0:00:47\n",
      "     ----------------------                 161.9/272.9 MB 2.4 MB/s eta 0:00:47\n",
      "     ----------------------                 162.0/272.9 MB 2.4 MB/s eta 0:00:47\n",
      "     ----------------------                 162.1/272.9 MB 2.4 MB/s eta 0:00:47\n",
      "     ----------------------                 162.2/272.9 MB 2.4 MB/s eta 0:00:47\n",
      "     ----------------------                 162.3/272.9 MB 2.4 MB/s eta 0:00:47\n",
      "     ----------------------                 162.4/272.9 MB 2.4 MB/s eta 0:00:47\n",
      "     ----------------------                 162.5/272.9 MB 2.4 MB/s eta 0:00:47\n",
      "     ----------------------                 162.7/272.9 MB 2.4 MB/s eta 0:00:47\n",
      "     ----------------------                 162.8/272.9 MB 2.4 MB/s eta 0:00:47\n",
      "     ----------------------                 162.9/272.9 MB 2.4 MB/s eta 0:00:47\n",
      "     ----------------------                 163.0/272.9 MB 2.4 MB/s eta 0:00:47\n",
      "     ----------------------                 163.1/272.9 MB 2.3 MB/s eta 0:00:47\n",
      "     ----------------------                 163.2/272.9 MB 2.3 MB/s eta 0:00:47\n",
      "     ----------------------                 163.3/272.9 MB 2.4 MB/s eta 0:00:47\n",
      "     ----------------------                 163.4/272.9 MB 2.3 MB/s eta 0:00:47\n",
      "     ----------------------                 163.5/272.9 MB 2.3 MB/s eta 0:00:47\n",
      "     ----------------------                 163.7/272.9 MB 2.3 MB/s eta 0:00:48\n",
      "     ----------------------                 163.8/272.9 MB 2.3 MB/s eta 0:00:47\n",
      "     ----------------------                 163.9/272.9 MB 2.3 MB/s eta 0:00:47\n",
      "     ----------------------                 164.1/272.9 MB 2.3 MB/s eta 0:00:47\n",
      "     ----------------------                 164.2/272.9 MB 2.3 MB/s eta 0:00:47\n",
      "     ----------------------                 164.3/272.9 MB 2.3 MB/s eta 0:00:47\n",
      "     ----------------------                 164.4/272.9 MB 2.3 MB/s eta 0:00:47\n",
      "     ----------------------                 164.5/272.9 MB 2.4 MB/s eta 0:00:47\n",
      "     ----------------------                 164.5/272.9 MB 2.3 MB/s eta 0:00:47\n",
      "     ----------------------                 164.6/272.9 MB 2.3 MB/s eta 0:00:47\n",
      "     ----------------------                 164.7/272.9 MB 2.3 MB/s eta 0:00:48\n",
      "     ----------------------                 164.9/272.9 MB 2.3 MB/s eta 0:00:47\n",
      "     ----------------------                 165.0/272.9 MB 2.3 MB/s eta 0:00:47\n",
      "     ----------------------                 165.1/272.9 MB 2.3 MB/s eta 0:00:47\n",
      "     -----------------------                165.2/272.9 MB 2.3 MB/s eta 0:00:48\n",
      "     -----------------------                165.4/272.9 MB 2.3 MB/s eta 0:00:47\n",
      "     -----------------------                165.4/272.9 MB 2.3 MB/s eta 0:00:46\n",
      "     -----------------------                165.5/272.9 MB 2.3 MB/s eta 0:00:47\n",
      "     -----------------------                165.6/272.9 MB 2.3 MB/s eta 0:00:47\n",
      "     -----------------------                165.8/272.9 MB 2.3 MB/s eta 0:00:47\n",
      "     -----------------------                165.9/272.9 MB 2.3 MB/s eta 0:00:47\n",
      "     -----------------------                166.0/272.9 MB 2.3 MB/s eta 0:00:47\n",
      "     -----------------------                166.0/272.9 MB 2.3 MB/s eta 0:00:47\n",
      "     -----------------------                166.2/272.9 MB 2.4 MB/s eta 0:00:46\n",
      "     -----------------------                166.3/272.9 MB 2.4 MB/s eta 0:00:46\n",
      "     -----------------------                166.5/272.9 MB 2.3 MB/s eta 0:00:46\n",
      "     -----------------------                166.6/272.9 MB 2.3 MB/s eta 0:00:47\n",
      "     -----------------------                166.7/272.9 MB 2.3 MB/s eta 0:00:47\n",
      "     -----------------------                166.8/272.9 MB 2.3 MB/s eta 0:00:47\n",
      "     -----------------------                166.9/272.9 MB 2.3 MB/s eta 0:00:47\n",
      "     -----------------------                167.1/272.9 MB 2.3 MB/s eta 0:00:46\n",
      "     -----------------------                167.1/272.9 MB 2.3 MB/s eta 0:00:47\n",
      "     -----------------------                167.3/272.9 MB 2.3 MB/s eta 0:00:47\n",
      "     -----------------------                167.3/272.9 MB 2.3 MB/s eta 0:00:47\n",
      "     -----------------------                167.6/272.9 MB 2.3 MB/s eta 0:00:46\n",
      "     -----------------------                167.6/272.9 MB 2.3 MB/s eta 0:00:46\n",
      "     -----------------------                167.6/272.9 MB 2.3 MB/s eta 0:00:46\n",
      "     -----------------------                167.8/272.9 MB 2.3 MB/s eta 0:00:46\n",
      "     -----------------------                168.0/272.9 MB 2.3 MB/s eta 0:00:46\n",
      "     -----------------------                168.0/272.9 MB 2.3 MB/s eta 0:00:46\n",
      "     -----------------------                168.2/272.9 MB 2.3 MB/s eta 0:00:46\n",
      "     -----------------------                168.2/272.9 MB 2.3 MB/s eta 0:00:46\n",
      "     -----------------------                168.4/272.9 MB 2.3 MB/s eta 0:00:46\n",
      "     -----------------------                168.4/272.9 MB 2.3 MB/s eta 0:00:46\n",
      "     -----------------------                168.6/272.9 MB 2.3 MB/s eta 0:00:46\n",
      "     -----------------------                168.7/272.9 MB 2.3 MB/s eta 0:00:46\n",
      "     -----------------------                168.8/272.9 MB 2.3 MB/s eta 0:00:46\n",
      "     -----------------------                169.0/272.9 MB 2.3 MB/s eta 0:00:45\n",
      "     -----------------------                169.1/272.9 MB 2.3 MB/s eta 0:00:46\n",
      "     -----------------------                169.3/272.9 MB 2.3 MB/s eta 0:00:46\n",
      "     -----------------------                169.5/272.9 MB 2.3 MB/s eta 0:00:45\n",
      "     -----------------------                169.5/272.9 MB 2.3 MB/s eta 0:00:45\n",
      "     -----------------------                169.6/272.9 MB 2.3 MB/s eta 0:00:45\n",
      "     -----------------------                169.8/272.9 MB 2.3 MB/s eta 0:00:45\n",
      "     -----------------------                169.9/272.9 MB 2.3 MB/s eta 0:00:45\n",
      "     -----------------------                170.2/272.9 MB 2.3 MB/s eta 0:00:44\n",
      "     -----------------------                170.3/272.9 MB 2.3 MB/s eta 0:00:44\n",
      "     -----------------------                170.4/272.9 MB 2.3 MB/s eta 0:00:44\n",
      "     -----------------------                170.5/272.9 MB 2.4 MB/s eta 0:00:44\n",
      "     -----------------------                170.6/272.9 MB 2.4 MB/s eta 0:00:44\n",
      "     -----------------------                170.7/272.9 MB 2.4 MB/s eta 0:00:44\n",
      "     -----------------------                170.8/272.9 MB 2.3 MB/s eta 0:00:44\n",
      "     -----------------------                170.8/272.9 MB 2.3 MB/s eta 0:00:44\n",
      "     -----------------------                170.9/272.9 MB 2.3 MB/s eta 0:00:45\n",
      "     -----------------------                171.1/272.9 MB 2.4 MB/s eta 0:00:44\n",
      "     -----------------------                171.4/272.9 MB 2.4 MB/s eta 0:00:43\n",
      "     -----------------------                171.4/272.9 MB 2.4 MB/s eta 0:00:43\n",
      "     -----------------------                171.6/272.9 MB 2.4 MB/s eta 0:00:43\n",
      "     -----------------------                171.7/272.9 MB 2.4 MB/s eta 0:00:43\n",
      "     -----------------------                171.7/272.9 MB 2.4 MB/s eta 0:00:43\n",
      "     -----------------------                171.8/272.9 MB 2.3 MB/s eta 0:00:44\n",
      "     -----------------------                171.9/272.9 MB 2.3 MB/s eta 0:00:44\n",
      "     -----------------------                172.1/272.9 MB 2.4 MB/s eta 0:00:43\n",
      "     -----------------------                172.3/272.9 MB 2.4 MB/s eta 0:00:43\n",
      "     ------------------------               172.3/272.9 MB 2.4 MB/s eta 0:00:43\n",
      "     ------------------------               172.4/272.9 MB 2.4 MB/s eta 0:00:43\n",
      "     ------------------------               172.4/272.9 MB 2.4 MB/s eta 0:00:43\n",
      "     ------------------------               172.6/272.9 MB 2.4 MB/s eta 0:00:43\n",
      "     ------------------------               172.7/272.9 MB 2.4 MB/s eta 0:00:43\n",
      "     ------------------------               172.9/272.9 MB 2.4 MB/s eta 0:00:42\n",
      "     ------------------------               173.0/272.9 MB 2.4 MB/s eta 0:00:42\n",
      "     ------------------------               173.1/272.9 MB 2.4 MB/s eta 0:00:42\n",
      "     ------------------------               173.2/272.9 MB 2.4 MB/s eta 0:00:43\n",
      "     ------------------------               173.3/272.9 MB 2.4 MB/s eta 0:00:42\n",
      "     ------------------------               173.4/272.9 MB 2.4 MB/s eta 0:00:42\n",
      "     ------------------------               173.5/272.9 MB 2.4 MB/s eta 0:00:42\n",
      "     ------------------------               173.6/272.9 MB 2.4 MB/s eta 0:00:42\n",
      "     ------------------------               173.7/272.9 MB 2.4 MB/s eta 0:00:42\n",
      "     ------------------------               173.9/272.9 MB 2.4 MB/s eta 0:00:42\n",
      "     ------------------------               173.9/272.9 MB 2.4 MB/s eta 0:00:42\n",
      "     ------------------------               174.2/272.9 MB 2.4 MB/s eta 0:00:42\n",
      "     ------------------------               174.3/272.9 MB 2.4 MB/s eta 0:00:42\n",
      "     ------------------------               174.4/272.9 MB 2.4 MB/s eta 0:00:42\n",
      "     ------------------------               174.6/272.9 MB 2.4 MB/s eta 0:00:42\n",
      "     ------------------------               174.7/272.9 MB 2.4 MB/s eta 0:00:41\n",
      "     ------------------------               174.7/272.9 MB 2.4 MB/s eta 0:00:41\n",
      "     ------------------------               174.8/272.9 MB 2.4 MB/s eta 0:00:41\n",
      "     ------------------------               174.9/272.9 MB 2.4 MB/s eta 0:00:41\n",
      "     ------------------------               175.0/272.9 MB 2.4 MB/s eta 0:00:41\n",
      "     ------------------------               175.2/272.9 MB 2.4 MB/s eta 0:00:41\n",
      "     ------------------------               175.3/272.9 MB 2.4 MB/s eta 0:00:41\n",
      "     ------------------------               175.4/272.9 MB 2.4 MB/s eta 0:00:41\n",
      "     ------------------------               175.5/272.9 MB 2.4 MB/s eta 0:00:41\n",
      "     ------------------------               175.6/272.9 MB 2.4 MB/s eta 0:00:41\n",
      "     ------------------------               175.7/272.9 MB 2.4 MB/s eta 0:00:41\n",
      "     ------------------------               175.8/272.9 MB 2.4 MB/s eta 0:00:41\n",
      "     ------------------------               175.9/272.9 MB 2.4 MB/s eta 0:00:41\n",
      "     ------------------------               175.9/272.9 MB 2.4 MB/s eta 0:00:41\n",
      "     ------------------------               176.0/272.9 MB 2.4 MB/s eta 0:00:41\n",
      "     ------------------------               176.2/272.9 MB 2.4 MB/s eta 0:00:41\n",
      "     ------------------------               176.3/272.9 MB 2.4 MB/s eta 0:00:41\n",
      "     ------------------------               176.4/272.9 MB 2.4 MB/s eta 0:00:41\n",
      "     ------------------------               176.4/272.9 MB 2.4 MB/s eta 0:00:41\n",
      "     ------------------------               176.4/272.9 MB 2.4 MB/s eta 0:00:41\n",
      "     ------------------------               176.9/272.9 MB 2.4 MB/s eta 0:00:41\n",
      "     ------------------------               176.9/272.9 MB 2.4 MB/s eta 0:00:40\n",
      "     ------------------------               177.0/272.9 MB 2.4 MB/s eta 0:00:41\n",
      "     ------------------------               177.0/272.9 MB 2.4 MB/s eta 0:00:41\n",
      "     ------------------------               177.3/272.9 MB 2.4 MB/s eta 0:00:41\n",
      "     ------------------------               177.4/272.9 MB 2.4 MB/s eta 0:00:41\n",
      "     ------------------------               177.6/272.9 MB 2.4 MB/s eta 0:00:40\n",
      "     ------------------------               177.7/272.9 MB 2.4 MB/s eta 0:00:40\n",
      "     ------------------------               177.8/272.9 MB 2.4 MB/s eta 0:00:41\n",
      "     ------------------------               177.8/272.9 MB 2.4 MB/s eta 0:00:40\n",
      "     ------------------------               178.1/272.9 MB 2.4 MB/s eta 0:00:40\n",
      "     ------------------------               178.1/272.9 MB 2.4 MB/s eta 0:00:40\n",
      "     ------------------------               178.1/272.9 MB 2.4 MB/s eta 0:00:40\n",
      "     ------------------------               178.4/272.9 MB 2.4 MB/s eta 0:00:40\n",
      "     ------------------------               178.5/272.9 MB 2.4 MB/s eta 0:00:40\n",
      "     ------------------------               178.6/272.9 MB 2.4 MB/s eta 0:00:40\n",
      "     ------------------------               178.6/272.9 MB 2.4 MB/s eta 0:00:40\n",
      "     ------------------------               178.8/272.9 MB 2.4 MB/s eta 0:00:40\n",
      "     ------------------------               178.9/272.9 MB 2.4 MB/s eta 0:00:40\n",
      "     ------------------------               179.1/272.9 MB 2.4 MB/s eta 0:00:39\n",
      "     ------------------------               179.1/272.9 MB 2.4 MB/s eta 0:00:40\n",
      "     ------------------------               179.3/272.9 MB 2.4 MB/s eta 0:00:40\n",
      "     ------------------------               179.4/272.9 MB 2.4 MB/s eta 0:00:40\n",
      "     -------------------------              179.5/272.9 MB 2.4 MB/s eta 0:00:40\n",
      "     -------------------------              179.6/272.9 MB 2.4 MB/s eta 0:00:40\n",
      "     -------------------------              179.7/272.9 MB 2.4 MB/s eta 0:00:40\n",
      "     -------------------------              179.8/272.9 MB 2.4 MB/s eta 0:00:40\n",
      "     -------------------------              180.0/272.9 MB 2.4 MB/s eta 0:00:40\n",
      "     -------------------------              180.1/272.9 MB 2.4 MB/s eta 0:00:40\n",
      "     -------------------------              180.2/272.9 MB 2.4 MB/s eta 0:00:40\n",
      "     -------------------------              180.3/272.9 MB 2.3 MB/s eta 0:00:40\n",
      "     -------------------------              180.3/272.9 MB 2.3 MB/s eta 0:00:40\n",
      "     -------------------------              180.5/272.9 MB 2.4 MB/s eta 0:00:40\n",
      "     -------------------------              180.6/272.9 MB 2.3 MB/s eta 0:00:40\n",
      "     -------------------------              180.7/272.9 MB 2.3 MB/s eta 0:00:40\n",
      "     -------------------------              180.8/272.9 MB 2.3 MB/s eta 0:00:40\n",
      "     -------------------------              180.9/272.9 MB 2.3 MB/s eta 0:00:40\n",
      "     -------------------------              181.0/272.9 MB 2.4 MB/s eta 0:00:39\n",
      "     -------------------------              181.2/272.9 MB 2.4 MB/s eta 0:00:39\n",
      "     -------------------------              181.3/272.9 MB 2.3 MB/s eta 0:00:40\n",
      "     -------------------------              181.4/272.9 MB 2.3 MB/s eta 0:00:40\n",
      "     -------------------------              181.5/272.9 MB 2.3 MB/s eta 0:00:40\n",
      "     -------------------------              181.6/272.9 MB 2.3 MB/s eta 0:00:40\n",
      "     -------------------------              181.7/272.9 MB 2.3 MB/s eta 0:00:40\n",
      "     -------------------------              181.9/272.9 MB 2.3 MB/s eta 0:00:40\n",
      "     -------------------------              181.9/272.9 MB 2.4 MB/s eta 0:00:39\n",
      "     -------------------------              182.2/272.9 MB 2.4 MB/s eta 0:00:39\n",
      "     -------------------------              182.3/272.9 MB 2.4 MB/s eta 0:00:39\n",
      "     -------------------------              182.4/272.9 MB 2.3 MB/s eta 0:00:39\n",
      "     -------------------------              182.6/272.9 MB 2.3 MB/s eta 0:00:39\n",
      "     -------------------------              182.8/272.9 MB 2.4 MB/s eta 0:00:38\n",
      "     -------------------------              182.8/272.9 MB 2.4 MB/s eta 0:00:39\n",
      "     -------------------------              182.9/272.9 MB 2.4 MB/s eta 0:00:39\n",
      "     -------------------------              183.1/272.9 MB 2.4 MB/s eta 0:00:38\n",
      "     -------------------------              183.2/272.9 MB 2.4 MB/s eta 0:00:38\n",
      "     -------------------------              183.4/272.9 MB 2.4 MB/s eta 0:00:38\n",
      "     -------------------------              183.5/272.9 MB 2.4 MB/s eta 0:00:38\n",
      "     -------------------------              183.6/272.9 MB 2.4 MB/s eta 0:00:38\n",
      "     -------------------------              183.9/272.9 MB 2.4 MB/s eta 0:00:37\n",
      "     -------------------------              184.0/272.9 MB 2.4 MB/s eta 0:00:37\n",
      "     -------------------------              184.1/272.9 MB 2.4 MB/s eta 0:00:37\n",
      "     -------------------------              184.2/272.9 MB 2.4 MB/s eta 0:00:37\n",
      "     -------------------------              184.5/272.9 MB 2.4 MB/s eta 0:00:37\n",
      "     -------------------------              184.6/272.9 MB 2.4 MB/s eta 0:00:37\n",
      "     -------------------------              184.7/272.9 MB 2.4 MB/s eta 0:00:37\n",
      "     -------------------------              184.8/272.9 MB 2.4 MB/s eta 0:00:37\n",
      "     -------------------------              184.9/272.9 MB 2.4 MB/s eta 0:00:37\n",
      "     -------------------------              185.0/272.9 MB 2.5 MB/s eta 0:00:36\n",
      "     -------------------------              185.1/272.9 MB 2.4 MB/s eta 0:00:36\n",
      "     -------------------------              185.3/272.9 MB 2.4 MB/s eta 0:00:36\n",
      "     -------------------------              185.3/272.9 MB 2.4 MB/s eta 0:00:36\n",
      "     -------------------------              185.5/272.9 MB 2.4 MB/s eta 0:00:36\n",
      "     -------------------------              185.7/272.9 MB 2.5 MB/s eta 0:00:36\n",
      "     -------------------------              185.8/272.9 MB 2.5 MB/s eta 0:00:36\n",
      "     -------------------------              186.1/272.9 MB 2.5 MB/s eta 0:00:35\n",
      "     -------------------------              186.3/272.9 MB 2.5 MB/s eta 0:00:34\n",
      "     -------------------------              186.4/272.9 MB 2.5 MB/s eta 0:00:35\n",
      "     -------------------------              186.6/272.9 MB 2.6 MB/s eta 0:00:34\n",
      "     --------------------------             186.7/272.9 MB 2.6 MB/s eta 0:00:33\n",
      "     --------------------------             186.9/272.9 MB 2.6 MB/s eta 0:00:34\n",
      "     --------------------------             186.9/272.9 MB 2.6 MB/s eta 0:00:34\n",
      "     --------------------------             186.9/272.9 MB 2.6 MB/s eta 0:00:34\n",
      "     --------------------------             186.9/272.9 MB 2.5 MB/s eta 0:00:35\n",
      "     --------------------------             186.9/272.9 MB 2.5 MB/s eta 0:00:35\n",
      "     --------------------------             186.9/272.9 MB 2.5 MB/s eta 0:00:35\n",
      "     --------------------------             187.1/272.9 MB 2.4 MB/s eta 0:00:36\n",
      "     --------------------------             187.3/272.9 MB 2.5 MB/s eta 0:00:35\n",
      "     --------------------------             187.5/272.9 MB 2.5 MB/s eta 0:00:34\n",
      "     --------------------------             187.6/272.9 MB 2.5 MB/s eta 0:00:34\n",
      "     --------------------------             187.6/272.9 MB 2.5 MB/s eta 0:00:34\n",
      "     --------------------------             187.7/272.9 MB 2.5 MB/s eta 0:00:35\n",
      "     --------------------------             187.9/272.9 MB 2.5 MB/s eta 0:00:35\n",
      "     --------------------------             188.0/272.9 MB 2.5 MB/s eta 0:00:35\n",
      "     --------------------------             188.1/272.9 MB 2.5 MB/s eta 0:00:35\n",
      "     --------------------------             188.2/272.9 MB 2.5 MB/s eta 0:00:35\n",
      "     --------------------------             188.4/272.9 MB 2.5 MB/s eta 0:00:34\n",
      "     --------------------------             188.7/272.9 MB 2.5 MB/s eta 0:00:34\n",
      "     --------------------------             188.7/272.9 MB 2.5 MB/s eta 0:00:34\n",
      "     --------------------------             189.1/272.9 MB 2.6 MB/s eta 0:00:33\n",
      "     --------------------------             189.1/272.9 MB 2.6 MB/s eta 0:00:33\n",
      "     --------------------------             189.3/272.9 MB 2.6 MB/s eta 0:00:33\n",
      "     --------------------------             189.5/272.9 MB 2.6 MB/s eta 0:00:32\n",
      "     --------------------------             189.5/272.9 MB 2.6 MB/s eta 0:00:32\n",
      "     --------------------------             189.6/272.9 MB 2.6 MB/s eta 0:00:32\n",
      "     --------------------------             189.8/272.9 MB 2.6 MB/s eta 0:00:32\n",
      "     --------------------------             189.9/272.9 MB 2.6 MB/s eta 0:00:32\n",
      "     --------------------------             189.9/272.9 MB 2.6 MB/s eta 0:00:32\n",
      "     --------------------------             190.1/272.9 MB 2.6 MB/s eta 0:00:32\n",
      "     --------------------------             190.5/272.9 MB 2.7 MB/s eta 0:00:31\n",
      "     --------------------------             190.5/272.9 MB 2.6 MB/s eta 0:00:32\n",
      "     --------------------------             190.8/272.9 MB 2.7 MB/s eta 0:00:31\n",
      "     --------------------------             190.9/272.9 MB 2.7 MB/s eta 0:00:31\n",
      "     --------------------------             191.0/272.9 MB 2.7 MB/s eta 0:00:31\n",
      "     --------------------------             191.1/272.9 MB 2.7 MB/s eta 0:00:31\n",
      "     --------------------------             191.2/272.9 MB 2.7 MB/s eta 0:00:31\n",
      "     --------------------------             191.4/272.9 MB 2.7 MB/s eta 0:00:30\n",
      "     --------------------------             191.6/272.9 MB 2.7 MB/s eta 0:00:30\n",
      "     --------------------------             191.8/272.9 MB 2.7 MB/s eta 0:00:30\n",
      "     --------------------------             191.9/272.9 MB 2.7 MB/s eta 0:00:30\n",
      "     --------------------------             192.0/272.9 MB 2.8 MB/s eta 0:00:30\n",
      "     --------------------------             192.1/272.9 MB 2.8 MB/s eta 0:00:30\n",
      "     --------------------------             192.3/272.9 MB 2.7 MB/s eta 0:00:30\n",
      "     --------------------------             192.4/272.9 MB 2.7 MB/s eta 0:00:30\n",
      "     --------------------------             192.6/272.9 MB 2.8 MB/s eta 0:00:30\n",
      "     --------------------------             192.8/272.9 MB 2.8 MB/s eta 0:00:30\n",
      "     --------------------------             193.0/272.9 MB 2.8 MB/s eta 0:00:29\n",
      "     --------------------------             193.0/272.9 MB 2.8 MB/s eta 0:00:29\n",
      "     --------------------------             193.2/272.9 MB 2.8 MB/s eta 0:00:29\n",
      "     --------------------------             193.3/272.9 MB 2.8 MB/s eta 0:00:29\n",
      "     --------------------------             193.4/272.9 MB 2.8 MB/s eta 0:00:29\n",
      "     --------------------------             193.5/272.9 MB 2.8 MB/s eta 0:00:29\n",
      "     --------------------------             193.8/272.9 MB 2.8 MB/s eta 0:00:29\n",
      "     ---------------------------            193.9/272.9 MB 2.8 MB/s eta 0:00:29\n",
      "     ---------------------------            194.0/272.9 MB 2.8 MB/s eta 0:00:29\n",
      "     ---------------------------            194.2/272.9 MB 2.8 MB/s eta 0:00:28\n",
      "     ---------------------------            194.4/272.9 MB 2.8 MB/s eta 0:00:28\n",
      "     ---------------------------            194.5/272.9 MB 2.8 MB/s eta 0:00:28\n",
      "     ---------------------------            194.7/272.9 MB 2.8 MB/s eta 0:00:29\n",
      "     ---------------------------            194.8/272.9 MB 2.8 MB/s eta 0:00:28\n",
      "     ---------------------------            195.1/272.9 MB 2.8 MB/s eta 0:00:28\n",
      "     ---------------------------            195.1/272.9 MB 2.8 MB/s eta 0:00:28\n",
      "     ---------------------------            195.1/272.9 MB 2.8 MB/s eta 0:00:28\n",
      "     ---------------------------            195.4/272.9 MB 2.9 MB/s eta 0:00:27\n",
      "     ---------------------------            195.5/272.9 MB 2.8 MB/s eta 0:00:28\n",
      "     ---------------------------            195.7/272.9 MB 2.9 MB/s eta 0:00:27\n",
      "     ---------------------------            195.8/272.9 MB 2.8 MB/s eta 0:00:28\n",
      "     ---------------------------            196.0/272.9 MB 2.8 MB/s eta 0:00:28\n",
      "     ---------------------------            196.0/272.9 MB 2.8 MB/s eta 0:00:28\n",
      "     ---------------------------            196.2/272.9 MB 2.8 MB/s eta 0:00:28\n",
      "     ---------------------------            196.3/272.9 MB 2.8 MB/s eta 0:00:28\n",
      "     ---------------------------            196.4/272.9 MB 2.8 MB/s eta 0:00:28\n",
      "     ---------------------------            196.6/272.9 MB 2.8 MB/s eta 0:00:28\n",
      "     ---------------------------            196.8/272.9 MB 2.8 MB/s eta 0:00:28\n",
      "     ---------------------------            196.8/272.9 MB 2.8 MB/s eta 0:00:28\n",
      "     ---------------------------            197.1/272.9 MB 2.8 MB/s eta 0:00:28\n",
      "     ---------------------------            197.2/272.9 MB 2.9 MB/s eta 0:00:27\n",
      "     ---------------------------            197.3/272.9 MB 2.9 MB/s eta 0:00:26\n",
      "     ---------------------------            197.5/272.9 MB 2.9 MB/s eta 0:00:26\n",
      "     ---------------------------            197.6/272.9 MB 2.9 MB/s eta 0:00:26\n",
      "     ---------------------------            197.9/272.9 MB 3.0 MB/s eta 0:00:25\n",
      "     ---------------------------            198.1/272.9 MB 3.0 MB/s eta 0:00:25\n",
      "     ---------------------------            198.1/272.9 MB 3.0 MB/s eta 0:00:25\n",
      "     ---------------------------            198.3/272.9 MB 3.0 MB/s eta 0:00:25\n",
      "     ---------------------------            198.4/272.9 MB 3.0 MB/s eta 0:00:25\n",
      "     ---------------------------            198.5/272.9 MB 3.0 MB/s eta 0:00:25\n",
      "     ---------------------------            198.6/272.9 MB 3.0 MB/s eta 0:00:25\n",
      "     ---------------------------            198.8/272.9 MB 2.9 MB/s eta 0:00:26\n",
      "     ---------------------------            199.0/272.9 MB 3.0 MB/s eta 0:00:25\n",
      "     ---------------------------            199.0/272.9 MB 3.0 MB/s eta 0:00:25\n",
      "     ---------------------------            199.3/272.9 MB 2.9 MB/s eta 0:00:26\n",
      "     ---------------------------            199.4/272.9 MB 2.9 MB/s eta 0:00:25\n",
      "     ---------------------------            199.5/272.9 MB 2.9 MB/s eta 0:00:26\n",
      "     ---------------------------            199.8/272.9 MB 3.0 MB/s eta 0:00:25\n",
      "     ---------------------------            199.9/272.9 MB 3.0 MB/s eta 0:00:25\n",
      "     ---------------------------            200.1/272.9 MB 3.0 MB/s eta 0:00:25\n",
      "     ---------------------------            200.2/272.9 MB 3.0 MB/s eta 0:00:24\n",
      "     ---------------------------            200.2/272.9 MB 3.0 MB/s eta 0:00:24\n",
      "     ---------------------------            200.5/272.9 MB 3.0 MB/s eta 0:00:25\n",
      "     ---------------------------            200.6/272.9 MB 3.0 MB/s eta 0:00:25\n",
      "     ---------------------------            200.7/272.9 MB 3.0 MB/s eta 0:00:25\n",
      "     ---------------------------            200.7/272.9 MB 3.0 MB/s eta 0:00:25\n",
      "     ---------------------------            200.8/272.9 MB 2.9 MB/s eta 0:00:25\n",
      "     ----------------------------           201.1/272.9 MB 2.9 MB/s eta 0:00:25\n",
      "     ----------------------------           201.3/272.9 MB 3.0 MB/s eta 0:00:25\n",
      "     ----------------------------           201.4/272.9 MB 3.0 MB/s eta 0:00:24\n",
      "     ----------------------------           201.6/272.9 MB 3.0 MB/s eta 0:00:25\n",
      "     ----------------------------           201.7/272.9 MB 2.9 MB/s eta 0:00:25\n",
      "     ----------------------------           201.9/272.9 MB 3.0 MB/s eta 0:00:24\n",
      "     ----------------------------           202.1/272.9 MB 3.0 MB/s eta 0:00:24\n",
      "     ----------------------------           202.2/272.9 MB 3.0 MB/s eta 0:00:24\n",
      "     ----------------------------           202.5/272.9 MB 3.0 MB/s eta 0:00:24\n",
      "     ----------------------------           202.6/272.9 MB 3.0 MB/s eta 0:00:24\n",
      "     ----------------------------           202.6/272.9 MB 3.0 MB/s eta 0:00:24\n",
      "     ----------------------------           202.8/272.9 MB 2.9 MB/s eta 0:00:24\n",
      "     ----------------------------           202.9/272.9 MB 3.0 MB/s eta 0:00:24\n",
      "     ----------------------------           202.9/272.9 MB 3.0 MB/s eta 0:00:24\n",
      "     ----------------------------           203.1/272.9 MB 2.9 MB/s eta 0:00:24\n",
      "     ----------------------------           203.3/272.9 MB 3.0 MB/s eta 0:00:24\n",
      "     ----------------------------           203.5/272.9 MB 3.0 MB/s eta 0:00:24\n",
      "     ----------------------------           203.7/272.9 MB 3.0 MB/s eta 0:00:24\n",
      "     ----------------------------           203.8/272.9 MB 3.0 MB/s eta 0:00:24\n",
      "     ----------------------------           203.9/272.9 MB 3.0 MB/s eta 0:00:24\n",
      "     ----------------------------           204.0/272.9 MB 3.0 MB/s eta 0:00:24\n",
      "     ----------------------------           204.2/272.9 MB 3.0 MB/s eta 0:00:24\n",
      "     ----------------------------           204.3/272.9 MB 3.0 MB/s eta 0:00:23\n",
      "     ----------------------------           204.4/272.9 MB 3.0 MB/s eta 0:00:24\n",
      "     ----------------------------           204.5/272.9 MB 2.9 MB/s eta 0:00:24\n",
      "     ----------------------------           204.7/272.9 MB 2.9 MB/s eta 0:00:24\n",
      "     ----------------------------           204.8/272.9 MB 2.9 MB/s eta 0:00:24\n",
      "     ----------------------------           205.1/272.9 MB 3.0 MB/s eta 0:00:23\n",
      "     ----------------------------           205.2/272.9 MB 2.9 MB/s eta 0:00:23\n",
      "     ----------------------------           205.2/272.9 MB 2.9 MB/s eta 0:00:24\n",
      "     ----------------------------           205.5/272.9 MB 3.0 MB/s eta 0:00:23\n",
      "     ----------------------------           205.6/272.9 MB 2.9 MB/s eta 0:00:23\n",
      "     ----------------------------           205.7/272.9 MB 2.9 MB/s eta 0:00:23\n",
      "     ----------------------------           205.9/272.9 MB 2.9 MB/s eta 0:00:23\n",
      "     ----------------------------           206.0/272.9 MB 2.9 MB/s eta 0:00:23\n",
      "     ----------------------------           206.1/272.9 MB 2.9 MB/s eta 0:00:23\n",
      "     ----------------------------           206.3/272.9 MB 3.0 MB/s eta 0:00:23\n",
      "     ----------------------------           206.3/272.9 MB 2.9 MB/s eta 0:00:23\n",
      "     ----------------------------           206.5/272.9 MB 3.0 MB/s eta 0:00:23\n",
      "     ----------------------------           206.7/272.9 MB 3.0 MB/s eta 0:00:23\n",
      "     ----------------------------           206.8/272.9 MB 2.9 MB/s eta 0:00:23\n",
      "     ----------------------------           206.8/272.9 MB 2.9 MB/s eta 0:00:23\n",
      "     ----------------------------           206.9/272.9 MB 2.9 MB/s eta 0:00:23\n",
      "     ----------------------------           207.1/272.9 MB 2.9 MB/s eta 0:00:23\n",
      "     ----------------------------           207.2/272.9 MB 2.9 MB/s eta 0:00:23\n",
      "     ----------------------------           207.2/272.9 MB 2.9 MB/s eta 0:00:23\n",
      "     ----------------------------           207.4/272.9 MB 2.9 MB/s eta 0:00:23\n",
      "     ----------------------------           207.5/272.9 MB 2.9 MB/s eta 0:00:23\n",
      "     ----------------------------           207.7/272.9 MB 2.9 MB/s eta 0:00:23\n",
      "     ----------------------------           207.8/272.9 MB 2.9 MB/s eta 0:00:23\n",
      "     ----------------------------           207.9/272.9 MB 2.9 MB/s eta 0:00:23\n",
      "     ----------------------------           208.0/272.9 MB 2.8 MB/s eta 0:00:23\n",
      "     ----------------------------           208.1/272.9 MB 2.8 MB/s eta 0:00:23\n",
      "     ----------------------------           208.2/272.9 MB 2.8 MB/s eta 0:00:24\n",
      "     -----------------------------          208.3/272.9 MB 2.8 MB/s eta 0:00:24\n",
      "     -----------------------------          208.4/272.9 MB 2.8 MB/s eta 0:00:24\n",
      "     -----------------------------          208.5/272.9 MB 2.8 MB/s eta 0:00:24\n",
      "     -----------------------------          208.6/272.9 MB 2.8 MB/s eta 0:00:23\n",
      "     -----------------------------          208.7/272.9 MB 2.8 MB/s eta 0:00:24\n",
      "     -----------------------------          208.9/272.9 MB 2.8 MB/s eta 0:00:23\n",
      "     -----------------------------          209.0/272.9 MB 2.8 MB/s eta 0:00:23\n",
      "     -----------------------------          209.1/272.9 MB 2.8 MB/s eta 0:00:23\n",
      "     -----------------------------          209.2/272.9 MB 2.8 MB/s eta 0:00:24\n",
      "     -----------------------------          209.3/272.9 MB 2.8 MB/s eta 0:00:24\n",
      "     -----------------------------          209.5/272.9 MB 2.8 MB/s eta 0:00:24\n",
      "     -----------------------------          209.6/272.9 MB 2.8 MB/s eta 0:00:23\n",
      "     -----------------------------          209.7/272.9 MB 2.7 MB/s eta 0:00:24\n",
      "     -----------------------------          209.8/272.9 MB 2.7 MB/s eta 0:00:24\n",
      "     -----------------------------          209.9/272.9 MB 2.7 MB/s eta 0:00:24\n",
      "     -----------------------------          210.0/272.9 MB 2.7 MB/s eta 0:00:24\n",
      "     -----------------------------          210.1/272.9 MB 2.7 MB/s eta 0:00:24\n",
      "     -----------------------------          210.2/272.9 MB 2.7 MB/s eta 0:00:24\n",
      "     -----------------------------          210.3/272.9 MB 2.7 MB/s eta 0:00:24\n",
      "     -----------------------------          210.4/272.9 MB 2.6 MB/s eta 0:00:24\n",
      "     -----------------------------          210.5/272.9 MB 2.7 MB/s eta 0:00:24\n",
      "     -----------------------------          210.6/272.9 MB 2.6 MB/s eta 0:00:24\n",
      "     -----------------------------          210.7/272.9 MB 2.6 MB/s eta 0:00:24\n",
      "     -----------------------------          210.8/272.9 MB 2.6 MB/s eta 0:00:24\n",
      "     -----------------------------          210.9/272.9 MB 2.6 MB/s eta 0:00:24\n",
      "     -----------------------------          211.0/272.9 MB 2.6 MB/s eta 0:00:24\n",
      "     -----------------------------          211.1/272.9 MB 2.6 MB/s eta 0:00:24\n",
      "     -----------------------------          211.2/272.9 MB 2.6 MB/s eta 0:00:24\n",
      "     -----------------------------          211.3/272.9 MB 2.6 MB/s eta 0:00:24\n",
      "     -----------------------------          211.4/272.9 MB 2.6 MB/s eta 0:00:25\n",
      "     -----------------------------          211.5/272.9 MB 2.5 MB/s eta 0:00:25\n",
      "     -----------------------------          211.6/272.9 MB 2.5 MB/s eta 0:00:25\n",
      "     -----------------------------          211.7/272.9 MB 2.5 MB/s eta 0:00:25\n",
      "     -----------------------------          211.8/272.9 MB 2.5 MB/s eta 0:00:25\n",
      "     -----------------------------          211.9/272.9 MB 2.5 MB/s eta 0:00:25\n",
      "     -----------------------------          212.0/272.9 MB 2.5 MB/s eta 0:00:25\n",
      "     -----------------------------          212.1/272.9 MB 2.5 MB/s eta 0:00:25\n",
      "     -----------------------------          212.2/272.9 MB 2.5 MB/s eta 0:00:25\n",
      "     -----------------------------          212.3/272.9 MB 2.5 MB/s eta 0:00:25\n",
      "     -----------------------------          212.4/272.9 MB 2.5 MB/s eta 0:00:25\n",
      "     -----------------------------          212.4/272.9 MB 2.5 MB/s eta 0:00:25\n",
      "     -----------------------------          212.6/272.9 MB 2.4 MB/s eta 0:00:25\n",
      "     -----------------------------          212.7/272.9 MB 2.4 MB/s eta 0:00:25\n",
      "     -----------------------------          212.7/272.9 MB 2.4 MB/s eta 0:00:25\n",
      "     -----------------------------          212.9/272.9 MB 2.4 MB/s eta 0:00:25\n",
      "     -----------------------------          213.0/272.9 MB 2.4 MB/s eta 0:00:25\n",
      "     -----------------------------          213.1/272.9 MB 2.4 MB/s eta 0:00:25\n",
      "     -----------------------------          213.2/272.9 MB 2.4 MB/s eta 0:00:25\n",
      "     -----------------------------          213.3/272.9 MB 2.4 MB/s eta 0:00:25\n",
      "     -----------------------------          213.3/272.9 MB 2.4 MB/s eta 0:00:25\n",
      "     -----------------------------          213.4/272.9 MB 2.4 MB/s eta 0:00:26\n",
      "     -----------------------------          213.5/272.9 MB 2.3 MB/s eta 0:00:26\n",
      "     -----------------------------          213.7/272.9 MB 2.3 MB/s eta 0:00:26\n",
      "     -----------------------------          213.9/272.9 MB 2.3 MB/s eta 0:00:26\n",
      "     -----------------------------          213.9/272.9 MB 2.3 MB/s eta 0:00:26\n",
      "     -----------------------------          214.0/272.9 MB 2.3 MB/s eta 0:00:26\n",
      "     -----------------------------          214.2/272.9 MB 2.3 MB/s eta 0:00:26\n",
      "     -----------------------------          214.2/272.9 MB 2.3 MB/s eta 0:00:26\n",
      "     -----------------------------          214.2/272.9 MB 2.3 MB/s eta 0:00:26\n",
      "     -----------------------------          214.2/272.9 MB 2.3 MB/s eta 0:00:26\n",
      "     -----------------------------          214.2/272.9 MB 2.2 MB/s eta 0:00:27\n",
      "     -----------------------------          214.3/272.9 MB 2.2 MB/s eta 0:00:27\n",
      "     -----------------------------          214.4/272.9 MB 2.2 MB/s eta 0:00:27\n",
      "     -----------------------------          214.6/272.9 MB 2.2 MB/s eta 0:00:27\n",
      "     -----------------------------          214.8/272.9 MB 2.2 MB/s eta 0:00:26\n",
      "     -----------------------------          214.9/272.9 MB 2.2 MB/s eta 0:00:27\n",
      "     -----------------------------          214.9/272.9 MB 2.2 MB/s eta 0:00:27\n",
      "     -----------------------------          215.1/272.9 MB 2.2 MB/s eta 0:00:27\n",
      "     -----------------------------          215.1/272.9 MB 2.2 MB/s eta 0:00:27\n",
      "     -----------------------------          215.1/272.9 MB 2.2 MB/s eta 0:00:27\n",
      "     -----------------------------          215.1/272.9 MB 2.2 MB/s eta 0:00:27\n",
      "     -----------------------------          215.2/272.9 MB 2.1 MB/s eta 0:00:28\n",
      "     -----------------------------          215.4/272.9 MB 2.1 MB/s eta 0:00:28\n",
      "     ------------------------------         215.7/272.9 MB 2.1 MB/s eta 0:00:27\n",
      "     ------------------------------         215.8/272.9 MB 2.1 MB/s eta 0:00:27\n",
      "     ------------------------------         215.8/272.9 MB 2.1 MB/s eta 0:00:27\n",
      "     ------------------------------         215.9/272.9 MB 2.1 MB/s eta 0:00:28\n",
      "     ------------------------------         215.9/272.9 MB 2.1 MB/s eta 0:00:28\n",
      "     ------------------------------         216.1/272.9 MB 2.1 MB/s eta 0:00:27\n",
      "     ------------------------------         216.1/272.9 MB 2.1 MB/s eta 0:00:28\n",
      "     ------------------------------         216.2/272.9 MB 2.1 MB/s eta 0:00:28\n",
      "     ------------------------------         216.3/272.9 MB 2.1 MB/s eta 0:00:28\n",
      "     ------------------------------         216.4/272.9 MB 2.1 MB/s eta 0:00:28\n",
      "     ------------------------------         216.5/272.9 MB 2.1 MB/s eta 0:00:28\n",
      "     ------------------------------         216.6/272.9 MB 2.1 MB/s eta 0:00:28\n",
      "     ------------------------------         216.7/272.9 MB 2.1 MB/s eta 0:00:28\n",
      "     ------------------------------         216.8/272.9 MB 2.1 MB/s eta 0:00:28\n",
      "     ------------------------------         216.9/272.9 MB 2.0 MB/s eta 0:00:28\n",
      "     ------------------------------         217.0/272.9 MB 2.0 MB/s eta 0:00:28\n",
      "     ------------------------------         217.0/272.9 MB 2.0 MB/s eta 0:00:28\n",
      "     ------------------------------         217.1/272.9 MB 2.0 MB/s eta 0:00:28\n",
      "     ------------------------------         217.3/272.9 MB 2.0 MB/s eta 0:00:28\n",
      "     ------------------------------         217.3/272.9 MB 2.0 MB/s eta 0:00:28\n",
      "     ------------------------------         217.4/272.9 MB 2.0 MB/s eta 0:00:28\n",
      "     ------------------------------         217.6/272.9 MB 2.0 MB/s eta 0:00:28\n",
      "     ------------------------------         217.7/272.9 MB 2.0 MB/s eta 0:00:28\n",
      "     ------------------------------         217.8/272.9 MB 2.0 MB/s eta 0:00:28\n",
      "     ------------------------------         217.9/272.9 MB 2.0 MB/s eta 0:00:28\n",
      "     ------------------------------         218.0/272.9 MB 2.0 MB/s eta 0:00:28\n",
      "     ------------------------------         218.1/272.9 MB 2.0 MB/s eta 0:00:28\n",
      "     ------------------------------         218.2/272.9 MB 2.0 MB/s eta 0:00:28\n",
      "     ------------------------------         218.3/272.9 MB 2.0 MB/s eta 0:00:28\n",
      "     ------------------------------         218.4/272.9 MB 2.0 MB/s eta 0:00:28\n",
      "     ------------------------------         218.5/272.9 MB 2.0 MB/s eta 0:00:28\n",
      "     ------------------------------         218.6/272.9 MB 2.0 MB/s eta 0:00:28\n",
      "     ------------------------------         218.7/272.9 MB 2.0 MB/s eta 0:00:28\n",
      "     ------------------------------         218.8/272.9 MB 2.0 MB/s eta 0:00:28\n",
      "     ------------------------------         218.9/272.9 MB 2.0 MB/s eta 0:00:28\n",
      "     ------------------------------         219.0/272.9 MB 2.0 MB/s eta 0:00:28\n",
      "     ------------------------------         219.1/272.9 MB 2.0 MB/s eta 0:00:28\n",
      "     ------------------------------         219.1/272.9 MB 2.0 MB/s eta 0:00:28\n",
      "     ------------------------------         219.2/272.9 MB 1.9 MB/s eta 0:00:28\n",
      "     ------------------------------         219.3/272.9 MB 1.9 MB/s eta 0:00:28\n",
      "     ------------------------------         219.4/272.9 MB 2.0 MB/s eta 0:00:28\n",
      "     ------------------------------         219.5/272.9 MB 1.9 MB/s eta 0:00:28\n",
      "     ------------------------------         219.6/272.9 MB 1.9 MB/s eta 0:00:28\n",
      "     ------------------------------         219.7/272.9 MB 1.9 MB/s eta 0:00:28\n",
      "     ------------------------------         219.8/272.9 MB 1.9 MB/s eta 0:00:28\n",
      "     ------------------------------         219.9/272.9 MB 1.9 MB/s eta 0:00:28\n",
      "     ------------------------------         220.0/272.9 MB 1.9 MB/s eta 0:00:28\n",
      "     ------------------------------         220.1/272.9 MB 1.9 MB/s eta 0:00:28\n",
      "     ------------------------------         220.1/272.9 MB 1.9 MB/s eta 0:00:28\n",
      "     ------------------------------         220.3/272.9 MB 1.9 MB/s eta 0:00:28\n",
      "     ------------------------------         220.3/272.9 MB 1.9 MB/s eta 0:00:28\n",
      "     ------------------------------         220.4/272.9 MB 1.9 MB/s eta 0:00:28\n",
      "     ------------------------------         220.4/272.9 MB 1.9 MB/s eta 0:00:28\n",
      "     ------------------------------         220.5/272.9 MB 1.9 MB/s eta 0:00:28\n",
      "     ------------------------------         220.7/272.9 MB 1.9 MB/s eta 0:00:28\n",
      "     ------------------------------         220.7/272.9 MB 1.9 MB/s eta 0:00:28\n",
      "     ------------------------------         220.8/272.9 MB 1.9 MB/s eta 0:00:28\n",
      "     ------------------------------         220.9/272.9 MB 1.9 MB/s eta 0:00:28\n",
      "     ------------------------------         221.0/272.9 MB 1.9 MB/s eta 0:00:28\n",
      "     ------------------------------         221.1/272.9 MB 1.9 MB/s eta 0:00:28\n",
      "     ------------------------------         221.2/272.9 MB 1.9 MB/s eta 0:00:28\n",
      "     ------------------------------         221.3/272.9 MB 1.9 MB/s eta 0:00:28\n",
      "     ------------------------------         221.3/272.9 MB 1.9 MB/s eta 0:00:28\n",
      "     ------------------------------         221.4/272.9 MB 1.9 MB/s eta 0:00:28\n",
      "     ------------------------------         221.5/272.9 MB 1.9 MB/s eta 0:00:28\n",
      "     ------------------------------         221.6/272.9 MB 1.9 MB/s eta 0:00:28\n",
      "     ------------------------------         221.7/272.9 MB 1.9 MB/s eta 0:00:28\n",
      "     ------------------------------         221.7/272.9 MB 1.9 MB/s eta 0:00:28\n",
      "     ------------------------------         221.8/272.9 MB 1.9 MB/s eta 0:00:28\n",
      "     ------------------------------         221.8/272.9 MB 1.9 MB/s eta 0:00:28\n",
      "     ------------------------------         221.9/272.9 MB 1.9 MB/s eta 0:00:28\n",
      "     ------------------------------         221.9/272.9 MB 1.9 MB/s eta 0:00:28\n",
      "     ------------------------------         222.0/272.9 MB 1.8 MB/s eta 0:00:28\n",
      "     ------------------------------         222.2/272.9 MB 1.9 MB/s eta 0:00:28\n",
      "     ------------------------------         222.3/272.9 MB 1.8 MB/s eta 0:00:28\n",
      "     ------------------------------         222.4/272.9 MB 1.8 MB/s eta 0:00:28\n",
      "     ------------------------------         222.4/272.9 MB 1.8 MB/s eta 0:00:28\n",
      "     ------------------------------         222.5/272.9 MB 1.8 MB/s eta 0:00:28\n",
      "     ------------------------------         222.6/272.9 MB 1.8 MB/s eta 0:00:28\n",
      "     -------------------------------        222.6/272.9 MB 1.8 MB/s eta 0:00:28\n",
      "     -------------------------------        222.8/272.9 MB 1.8 MB/s eta 0:00:28\n",
      "     -------------------------------        222.8/272.9 MB 1.8 MB/s eta 0:00:28\n",
      "     -------------------------------        222.9/272.9 MB 1.8 MB/s eta 0:00:28\n",
      "     -------------------------------        222.9/272.9 MB 1.8 MB/s eta 0:00:28\n",
      "     -------------------------------        223.0/272.9 MB 1.8 MB/s eta 0:00:28\n",
      "     -------------------------------        223.0/272.9 MB 1.8 MB/s eta 0:00:28\n",
      "     -------------------------------        223.2/272.9 MB 1.8 MB/s eta 0:00:28\n",
      "     -------------------------------        223.3/272.9 MB 1.8 MB/s eta 0:00:28\n",
      "     -------------------------------        223.3/272.9 MB 1.8 MB/s eta 0:00:28\n",
      "     -------------------------------        223.4/272.9 MB 1.8 MB/s eta 0:00:28\n",
      "     -------------------------------        223.5/272.9 MB 1.8 MB/s eta 0:00:28\n",
      "     -------------------------------        223.5/272.9 MB 1.8 MB/s eta 0:00:28\n",
      "     -------------------------------        223.6/272.9 MB 1.8 MB/s eta 0:00:28\n",
      "     -------------------------------        223.7/272.9 MB 1.8 MB/s eta 0:00:28\n",
      "     -------------------------------        223.8/272.9 MB 1.8 MB/s eta 0:00:28\n",
      "     -------------------------------        223.9/272.9 MB 1.8 MB/s eta 0:00:28\n",
      "     -------------------------------        223.9/272.9 MB 1.8 MB/s eta 0:00:28\n",
      "     -------------------------------        224.0/272.9 MB 1.8 MB/s eta 0:00:28\n",
      "     -------------------------------        224.1/272.9 MB 1.8 MB/s eta 0:00:28\n",
      "     -------------------------------        224.2/272.9 MB 1.8 MB/s eta 0:00:28\n",
      "     -------------------------------        224.3/272.9 MB 1.8 MB/s eta 0:00:28\n",
      "     -------------------------------        224.4/272.9 MB 1.8 MB/s eta 0:00:28\n",
      "     -------------------------------        224.5/272.9 MB 1.8 MB/s eta 0:00:27\n",
      "     -------------------------------        224.6/272.9 MB 1.8 MB/s eta 0:00:27\n",
      "     -------------------------------        224.7/272.9 MB 1.8 MB/s eta 0:00:27\n",
      "     -------------------------------        224.8/272.9 MB 1.8 MB/s eta 0:00:27\n",
      "     -------------------------------        224.9/272.9 MB 1.8 MB/s eta 0:00:27\n",
      "     -------------------------------        225.0/272.9 MB 1.8 MB/s eta 0:00:27\n",
      "     -------------------------------        225.1/272.9 MB 1.8 MB/s eta 0:00:27\n",
      "     -------------------------------        225.1/272.9 MB 1.8 MB/s eta 0:00:27\n",
      "     -------------------------------        225.1/272.9 MB 1.8 MB/s eta 0:00:27\n",
      "     -------------------------------        225.4/272.9 MB 1.8 MB/s eta 0:00:26\n",
      "     -------------------------------        225.5/272.9 MB 1.8 MB/s eta 0:00:26\n",
      "     -------------------------------        225.7/272.9 MB 1.8 MB/s eta 0:00:26\n",
      "     -------------------------------        225.8/272.9 MB 1.8 MB/s eta 0:00:26\n",
      "     -------------------------------        226.0/272.9 MB 1.9 MB/s eta 0:00:26\n",
      "     -------------------------------        226.1/272.9 MB 1.9 MB/s eta 0:00:26\n",
      "     -------------------------------        226.2/272.9 MB 1.9 MB/s eta 0:00:25\n",
      "     -------------------------------        226.4/272.9 MB 1.9 MB/s eta 0:00:25\n",
      "     -------------------------------        226.6/272.9 MB 1.9 MB/s eta 0:00:25\n",
      "     -------------------------------        226.8/272.9 MB 1.9 MB/s eta 0:00:25\n",
      "     -------------------------------        227.0/272.9 MB 1.9 MB/s eta 0:00:24\n",
      "     -------------------------------        227.1/272.9 MB 1.9 MB/s eta 0:00:24\n",
      "     -------------------------------        227.3/272.9 MB 2.0 MB/s eta 0:00:24\n",
      "     -------------------------------        227.4/272.9 MB 2.0 MB/s eta 0:00:24\n",
      "     -------------------------------        227.5/272.9 MB 1.9 MB/s eta 0:00:24\n",
      "     -------------------------------        227.7/272.9 MB 2.0 MB/s eta 0:00:23\n",
      "     -------------------------------        227.8/272.9 MB 2.0 MB/s eta 0:00:23\n",
      "     -------------------------------        227.8/272.9 MB 2.0 MB/s eta 0:00:23\n",
      "     -------------------------------        228.0/272.9 MB 2.0 MB/s eta 0:00:23\n",
      "     -------------------------------        228.2/272.9 MB 2.0 MB/s eta 0:00:23\n",
      "     -------------------------------        228.3/272.9 MB 2.0 MB/s eta 0:00:23\n",
      "     -------------------------------        228.4/272.9 MB 2.0 MB/s eta 0:00:23\n",
      "     -------------------------------        228.8/272.9 MB 2.1 MB/s eta 0:00:22\n",
      "     -------------------------------        229.0/272.9 MB 2.1 MB/s eta 0:00:22\n",
      "     -------------------------------        229.1/272.9 MB 2.1 MB/s eta 0:00:22\n",
      "     -------------------------------        229.2/272.9 MB 2.1 MB/s eta 0:00:21\n",
      "     -------------------------------        229.3/272.9 MB 2.1 MB/s eta 0:00:21\n",
      "     -------------------------------        229.4/272.9 MB 2.1 MB/s eta 0:00:21\n",
      "     -------------------------------        229.4/272.9 MB 2.1 MB/s eta 0:00:21\n",
      "     -------------------------------        229.6/272.9 MB 2.1 MB/s eta 0:00:21\n",
      "     -------------------------------        229.6/272.9 MB 2.1 MB/s eta 0:00:21\n",
      "     -------------------------------        229.8/272.9 MB 2.1 MB/s eta 0:00:21\n",
      "     --------------------------------       229.9/272.9 MB 2.1 MB/s eta 0:00:21\n",
      "     --------------------------------       230.1/272.9 MB 2.1 MB/s eta 0:00:21\n",
      "     --------------------------------       230.2/272.9 MB 2.1 MB/s eta 0:00:21\n",
      "     --------------------------------       230.4/272.9 MB 2.1 MB/s eta 0:00:20\n",
      "     --------------------------------       230.5/272.9 MB 2.2 MB/s eta 0:00:20\n",
      "     --------------------------------       230.7/272.9 MB 2.2 MB/s eta 0:00:20\n",
      "     --------------------------------       230.7/272.9 MB 2.2 MB/s eta 0:00:20\n",
      "     --------------------------------       230.8/272.9 MB 2.2 MB/s eta 0:00:20\n",
      "     --------------------------------       231.0/272.9 MB 2.2 MB/s eta 0:00:20\n",
      "     --------------------------------       231.0/272.9 MB 2.2 MB/s eta 0:00:20\n",
      "     --------------------------------       231.1/272.9 MB 2.2 MB/s eta 0:00:20\n",
      "     --------------------------------       231.3/272.9 MB 2.2 MB/s eta 0:00:20\n",
      "     --------------------------------       231.6/272.9 MB 2.2 MB/s eta 0:00:19\n",
      "     --------------------------------       231.6/272.9 MB 2.2 MB/s eta 0:00:19\n",
      "     --------------------------------       231.7/272.9 MB 2.2 MB/s eta 0:00:19\n",
      "     --------------------------------       231.8/272.9 MB 2.2 MB/s eta 0:00:19\n",
      "     --------------------------------       231.8/272.9 MB 2.2 MB/s eta 0:00:19\n",
      "     --------------------------------       231.8/272.9 MB 2.2 MB/s eta 0:00:19\n",
      "     --------------------------------       232.1/272.9 MB 2.3 MB/s eta 0:00:18\n",
      "     --------------------------------       232.3/272.9 MB 2.3 MB/s eta 0:00:18\n",
      "     --------------------------------       232.3/272.9 MB 2.3 MB/s eta 0:00:18\n",
      "     --------------------------------       232.6/272.9 MB 2.3 MB/s eta 0:00:18\n",
      "     --------------------------------       232.7/272.9 MB 2.4 MB/s eta 0:00:18\n",
      "     --------------------------------       232.8/272.9 MB 2.4 MB/s eta 0:00:17\n",
      "     --------------------------------       232.8/272.9 MB 2.4 MB/s eta 0:00:18\n",
      "     --------------------------------       232.9/272.9 MB 2.4 MB/s eta 0:00:17\n",
      "     --------------------------------       233.1/272.9 MB 2.4 MB/s eta 0:00:17\n",
      "     --------------------------------       233.2/272.9 MB 2.4 MB/s eta 0:00:17\n",
      "     --------------------------------       233.4/272.9 MB 2.4 MB/s eta 0:00:17\n",
      "     --------------------------------       233.5/272.9 MB 2.5 MB/s eta 0:00:17\n",
      "     --------------------------------       233.6/272.9 MB 2.5 MB/s eta 0:00:16\n",
      "     --------------------------------       233.7/272.9 MB 2.5 MB/s eta 0:00:16\n",
      "     --------------------------------       233.8/272.9 MB 2.5 MB/s eta 0:00:16\n",
      "     --------------------------------       234.1/272.9 MB 2.5 MB/s eta 0:00:16\n",
      "     --------------------------------       234.1/272.9 MB 2.5 MB/s eta 0:00:16\n",
      "     --------------------------------       234.2/272.9 MB 2.5 MB/s eta 0:00:16\n",
      "     --------------------------------       234.4/272.9 MB 2.6 MB/s eta 0:00:15\n",
      "     --------------------------------       234.5/272.9 MB 2.6 MB/s eta 0:00:15\n",
      "     --------------------------------       234.5/272.9 MB 2.6 MB/s eta 0:00:15\n",
      "     --------------------------------       234.6/272.9 MB 2.6 MB/s eta 0:00:15\n",
      "     --------------------------------       234.8/272.9 MB 2.6 MB/s eta 0:00:15\n",
      "     --------------------------------       234.9/272.9 MB 2.6 MB/s eta 0:00:15\n",
      "     --------------------------------       235.0/272.9 MB 2.6 MB/s eta 0:00:15\n",
      "     --------------------------------       235.2/272.9 MB 2.6 MB/s eta 0:00:15\n",
      "     --------------------------------       235.3/272.9 MB 2.6 MB/s eta 0:00:15\n",
      "     --------------------------------       235.4/272.9 MB 2.7 MB/s eta 0:00:14\n",
      "     --------------------------------       235.5/272.9 MB 2.7 MB/s eta 0:00:15\n",
      "     --------------------------------       235.5/272.9 MB 2.6 MB/s eta 0:00:15\n",
      "     --------------------------------       235.6/272.9 MB 2.6 MB/s eta 0:00:15\n",
      "     --------------------------------       235.8/272.9 MB 2.6 MB/s eta 0:00:15\n",
      "     --------------------------------       235.8/272.9 MB 2.6 MB/s eta 0:00:15\n",
      "     --------------------------------       235.9/272.9 MB 2.6 MB/s eta 0:00:15\n",
      "     --------------------------------       236.0/272.9 MB 2.6 MB/s eta 0:00:15\n",
      "     --------------------------------       236.1/272.9 MB 2.5 MB/s eta 0:00:15\n",
      "     --------------------------------       236.1/272.9 MB 2.5 MB/s eta 0:00:15\n",
      "     --------------------------------       236.1/272.9 MB 2.5 MB/s eta 0:00:15\n",
      "     --------------------------------       236.1/272.9 MB 2.5 MB/s eta 0:00:15\n",
      "     --------------------------------       236.2/272.9 MB 2.5 MB/s eta 0:00:15\n",
      "     --------------------------------       236.4/272.9 MB 2.5 MB/s eta 0:00:15\n",
      "     --------------------------------       236.6/272.9 MB 2.5 MB/s eta 0:00:15\n",
      "     --------------------------------       236.7/272.9 MB 2.5 MB/s eta 0:00:15\n",
      "     --------------------------------       236.9/272.9 MB 2.5 MB/s eta 0:00:15\n",
      "     ---------------------------------      237.2/272.9 MB 2.5 MB/s eta 0:00:15\n",
      "     ---------------------------------      237.3/272.9 MB 2.5 MB/s eta 0:00:15\n",
      "     ---------------------------------      237.5/272.9 MB 2.5 MB/s eta 0:00:15\n",
      "     ---------------------------------      237.5/272.9 MB 2.5 MB/s eta 0:00:15\n",
      "     ---------------------------------      237.7/272.9 MB 2.5 MB/s eta 0:00:15\n",
      "     ---------------------------------      237.7/272.9 MB 2.5 MB/s eta 0:00:15\n",
      "     ---------------------------------      237.9/272.9 MB 2.4 MB/s eta 0:00:15\n",
      "     ---------------------------------      237.9/272.9 MB 2.4 MB/s eta 0:00:15\n",
      "     ---------------------------------      238.1/272.9 MB 2.5 MB/s eta 0:00:15\n",
      "     ---------------------------------      238.1/272.9 MB 2.5 MB/s eta 0:00:15\n",
      "     ---------------------------------      238.3/272.9 MB 2.4 MB/s eta 0:00:15\n",
      "     ---------------------------------      238.5/272.9 MB 2.4 MB/s eta 0:00:15\n",
      "     ---------------------------------      238.7/272.9 MB 2.4 MB/s eta 0:00:14\n",
      "     ---------------------------------      238.9/272.9 MB 2.4 MB/s eta 0:00:15\n",
      "     ---------------------------------      239.0/272.9 MB 2.4 MB/s eta 0:00:15\n",
      "     ---------------------------------      239.1/272.9 MB 2.4 MB/s eta 0:00:15\n",
      "     ---------------------------------      239.3/272.9 MB 2.4 MB/s eta 0:00:15\n",
      "     ---------------------------------      239.3/272.9 MB 2.4 MB/s eta 0:00:15\n",
      "     ---------------------------------      239.3/272.9 MB 2.4 MB/s eta 0:00:15\n",
      "     ---------------------------------      239.5/272.9 MB 2.4 MB/s eta 0:00:15\n",
      "     ---------------------------------      239.6/272.9 MB 2.4 MB/s eta 0:00:14\n",
      "     ---------------------------------      239.7/272.9 MB 2.4 MB/s eta 0:00:14\n",
      "     ---------------------------------      239.8/272.9 MB 2.4 MB/s eta 0:00:14\n",
      "     ---------------------------------      239.9/272.9 MB 2.4 MB/s eta 0:00:14\n",
      "     ---------------------------------      240.0/272.9 MB 2.4 MB/s eta 0:00:14\n",
      "     ---------------------------------      240.1/272.9 MB 2.4 MB/s eta 0:00:14\n",
      "     ---------------------------------      240.2/272.9 MB 2.4 MB/s eta 0:00:14\n",
      "     ---------------------------------      240.3/272.9 MB 2.4 MB/s eta 0:00:14\n",
      "     ---------------------------------      240.4/272.9 MB 2.4 MB/s eta 0:00:14\n",
      "     ---------------------------------      240.6/272.9 MB 2.4 MB/s eta 0:00:14\n",
      "     ---------------------------------      240.7/272.9 MB 2.4 MB/s eta 0:00:14\n",
      "     ---------------------------------      240.7/272.9 MB 2.4 MB/s eta 0:00:14\n",
      "     ---------------------------------      241.0/272.9 MB 2.4 MB/s eta 0:00:14\n",
      "     ---------------------------------      241.0/272.9 MB 2.4 MB/s eta 0:00:14\n",
      "     ---------------------------------      241.1/272.9 MB 2.4 MB/s eta 0:00:14\n",
      "     ---------------------------------      241.2/272.9 MB 2.4 MB/s eta 0:00:14\n",
      "     ---------------------------------      241.3/272.9 MB 2.4 MB/s eta 0:00:14\n",
      "     ---------------------------------      241.4/272.9 MB 2.4 MB/s eta 0:00:14\n",
      "     ---------------------------------      241.6/272.9 MB 2.4 MB/s eta 0:00:14\n",
      "     ---------------------------------      241.6/272.9 MB 2.4 MB/s eta 0:00:14\n",
      "     ---------------------------------      241.9/272.9 MB 2.4 MB/s eta 0:00:14\n",
      "     ---------------------------------      242.0/272.9 MB 2.4 MB/s eta 0:00:13\n",
      "     ---------------------------------      242.2/272.9 MB 2.4 MB/s eta 0:00:13\n",
      "     ---------------------------------      242.2/272.9 MB 2.4 MB/s eta 0:00:13\n",
      "     ---------------------------------      242.4/272.9 MB 2.4 MB/s eta 0:00:13\n",
      "     ---------------------------------      242.5/272.9 MB 2.4 MB/s eta 0:00:13\n",
      "     ---------------------------------      242.7/272.9 MB 2.4 MB/s eta 0:00:13\n",
      "     ---------------------------------      242.7/272.9 MB 2.4 MB/s eta 0:00:13\n",
      "     ---------------------------------      242.8/272.9 MB 2.4 MB/s eta 0:00:13\n",
      "     ---------------------------------      242.8/272.9 MB 2.4 MB/s eta 0:00:13\n",
      "     ---------------------------------      243.1/272.9 MB 2.4 MB/s eta 0:00:13\n",
      "     ---------------------------------      243.2/272.9 MB 2.4 MB/s eta 0:00:13\n",
      "     ---------------------------------      243.4/272.9 MB 2.4 MB/s eta 0:00:13\n",
      "     ---------------------------------      243.5/272.9 MB 2.4 MB/s eta 0:00:13\n",
      "     ---------------------------------      243.5/272.9 MB 2.4 MB/s eta 0:00:13\n",
      "     ---------------------------------      243.5/272.9 MB 2.4 MB/s eta 0:00:13\n",
      "     ---------------------------------      243.5/272.9 MB 2.4 MB/s eta 0:00:13\n",
      "     ---------------------------------      243.5/272.9 MB 2.4 MB/s eta 0:00:13\n",
      "     ---------------------------------      243.5/272.9 MB 2.4 MB/s eta 0:00:13\n",
      "     ---------------------------------      243.5/272.9 MB 2.4 MB/s eta 0:00:13\n",
      "     ---------------------------------      244.0/272.9 MB 2.3 MB/s eta 0:00:13\n",
      "     ---------------------------------      244.1/272.9 MB 2.3 MB/s eta 0:00:13\n",
      "     ---------------------------------      244.1/272.9 MB 2.3 MB/s eta 0:00:13\n",
      "     ----------------------------------     244.2/272.9 MB 2.3 MB/s eta 0:00:13\n",
      "     ----------------------------------     244.3/272.9 MB 2.3 MB/s eta 0:00:13\n",
      "     ----------------------------------     244.3/272.9 MB 2.3 MB/s eta 0:00:13\n",
      "     ----------------------------------     244.3/272.9 MB 2.3 MB/s eta 0:00:13\n",
      "     ----------------------------------     244.3/272.9 MB 2.2 MB/s eta 0:00:14\n",
      "     ----------------------------------     244.3/272.9 MB 2.2 MB/s eta 0:00:14\n",
      "     ----------------------------------     244.3/272.9 MB 2.2 MB/s eta 0:00:14\n",
      "     ----------------------------------     244.3/272.9 MB 2.2 MB/s eta 0:00:14\n",
      "     ----------------------------------     244.3/272.9 MB 2.2 MB/s eta 0:00:14\n",
      "     ----------------------------------     244.3/272.9 MB 2.2 MB/s eta 0:00:14\n",
      "     ----------------------------------     244.6/272.9 MB 2.1 MB/s eta 0:00:14\n",
      "     ----------------------------------     244.7/272.9 MB 2.1 MB/s eta 0:00:14\n",
      "     ----------------------------------     244.7/272.9 MB 2.1 MB/s eta 0:00:14\n",
      "     ----------------------------------     244.7/272.9 MB 2.1 MB/s eta 0:00:14\n",
      "     ----------------------------------     244.7/272.9 MB 2.1 MB/s eta 0:00:14\n",
      "     ----------------------------------     244.7/272.9 MB 2.1 MB/s eta 0:00:14\n",
      "     ----------------------------------     244.8/272.9 MB 2.0 MB/s eta 0:00:14\n",
      "     ----------------------------------     244.8/272.9 MB 2.0 MB/s eta 0:00:14\n",
      "     ----------------------------------     244.9/272.9 MB 2.0 MB/s eta 0:00:14\n",
      "     ----------------------------------     244.9/272.9 MB 2.0 MB/s eta 0:00:14\n",
      "     ----------------------------------     244.9/272.9 MB 2.0 MB/s eta 0:00:14\n",
      "     ----------------------------------     244.9/272.9 MB 2.0 MB/s eta 0:00:15\n",
      "     ----------------------------------     244.9/272.9 MB 2.0 MB/s eta 0:00:15\n",
      "     ----------------------------------     244.9/272.9 MB 2.0 MB/s eta 0:00:15\n",
      "     ----------------------------------     244.9/272.9 MB 1.9 MB/s eta 0:00:15\n",
      "     ----------------------------------     244.9/272.9 MB 1.9 MB/s eta 0:00:15\n",
      "     ----------------------------------     244.9/272.9 MB 1.9 MB/s eta 0:00:15\n",
      "     ----------------------------------     244.9/272.9 MB 1.9 MB/s eta 0:00:15\n",
      "     ----------------------------------     244.9/272.9 MB 1.9 MB/s eta 0:00:15\n",
      "     ----------------------------------     245.1/272.9 MB 1.8 MB/s eta 0:00:16\n",
      "     ----------------------------------     245.1/272.9 MB 1.8 MB/s eta 0:00:16\n",
      "     ----------------------------------     245.1/272.9 MB 1.8 MB/s eta 0:00:16\n",
      "     ----------------------------------     245.1/272.9 MB 1.8 MB/s eta 0:00:16\n",
      "     ----------------------------------     245.1/272.9 MB 1.8 MB/s eta 0:00:16\n",
      "     ----------------------------------     245.1/272.9 MB 1.8 MB/s eta 0:00:16\n",
      "     ----------------------------------     245.2/272.9 MB 1.8 MB/s eta 0:00:16\n",
      "     ----------------------------------     245.3/272.9 MB 1.8 MB/s eta 0:00:16\n",
      "     ----------------------------------     245.3/272.9 MB 1.8 MB/s eta 0:00:16\n",
      "     ----------------------------------     245.3/272.9 MB 1.7 MB/s eta 0:00:16\n",
      "     ----------------------------------     245.6/272.9 MB 1.8 MB/s eta 0:00:16\n",
      "     ----------------------------------     245.6/272.9 MB 1.8 MB/s eta 0:00:16\n",
      "     ----------------------------------     245.6/272.9 MB 1.7 MB/s eta 0:00:16\n",
      "     ----------------------------------     245.6/272.9 MB 1.7 MB/s eta 0:00:16\n",
      "     ----------------------------------     245.6/272.9 MB 1.7 MB/s eta 0:00:16\n",
      "     ----------------------------------     245.7/272.9 MB 1.7 MB/s eta 0:00:16\n",
      "     ----------------------------------     245.8/272.9 MB 1.7 MB/s eta 0:00:16\n",
      "     ----------------------------------     245.8/272.9 MB 1.7 MB/s eta 0:00:16\n",
      "     ----------------------------------     245.9/272.9 MB 1.7 MB/s eta 0:00:16\n",
      "     ----------------------------------     246.2/272.9 MB 1.7 MB/s eta 0:00:16\n",
      "     ----------------------------------     246.3/272.9 MB 1.7 MB/s eta 0:00:16\n",
      "     ----------------------------------     246.4/272.9 MB 1.7 MB/s eta 0:00:16\n",
      "     ----------------------------------     246.5/272.9 MB 1.7 MB/s eta 0:00:16\n",
      "     ----------------------------------     246.6/272.9 MB 1.7 MB/s eta 0:00:16\n",
      "     ----------------------------------     246.7/272.9 MB 1.7 MB/s eta 0:00:16\n",
      "     ----------------------------------     246.9/272.9 MB 1.7 MB/s eta 0:00:16\n",
      "     ----------------------------------     247.0/272.9 MB 1.7 MB/s eta 0:00:16\n",
      "     ----------------------------------     247.1/272.9 MB 1.7 MB/s eta 0:00:15\n",
      "     ----------------------------------     247.2/272.9 MB 1.7 MB/s eta 0:00:16\n",
      "     ----------------------------------     247.5/272.9 MB 1.7 MB/s eta 0:00:15\n",
      "     ----------------------------------     247.6/272.9 MB 1.7 MB/s eta 0:00:15\n",
      "     ----------------------------------     247.7/272.9 MB 1.7 MB/s eta 0:00:15\n",
      "     ----------------------------------     247.7/272.9 MB 1.7 MB/s eta 0:00:15\n",
      "     ----------------------------------     248.0/272.9 MB 1.7 MB/s eta 0:00:15\n",
      "     ----------------------------------     248.2/272.9 MB 1.7 MB/s eta 0:00:15\n",
      "     ----------------------------------     248.3/272.9 MB 1.7 MB/s eta 0:00:15\n",
      "     ----------------------------------     248.4/272.9 MB 1.7 MB/s eta 0:00:15\n",
      "     ----------------------------------     248.6/272.9 MB 1.7 MB/s eta 0:00:15\n",
      "     ----------------------------------     248.8/272.9 MB 1.7 MB/s eta 0:00:14\n",
      "     ----------------------------------     249.0/272.9 MB 1.7 MB/s eta 0:00:14\n",
      "     ----------------------------------     249.3/272.9 MB 1.8 MB/s eta 0:00:14\n",
      "     ----------------------------------     249.4/272.9 MB 1.8 MB/s eta 0:00:14\n",
      "     ----------------------------------     249.7/272.9 MB 1.8 MB/s eta 0:00:14\n",
      "     ----------------------------------     249.7/272.9 MB 1.8 MB/s eta 0:00:14\n",
      "     ----------------------------------     249.7/272.9 MB 1.8 MB/s eta 0:00:14\n",
      "     ----------------------------------     249.7/272.9 MB 1.8 MB/s eta 0:00:14\n",
      "     ----------------------------------     249.7/272.9 MB 1.8 MB/s eta 0:00:14\n",
      "     ----------------------------------     250.8/272.9 MB 1.8 MB/s eta 0:00:13\n",
      "     ----------------------------------     250.8/272.9 MB 1.8 MB/s eta 0:00:12\n",
      "     ----------------------------------     251.3/272.9 MB 1.9 MB/s eta 0:00:12\n",
      "     -----------------------------------    251.6/272.9 MB 1.9 MB/s eta 0:00:12\n",
      "     -----------------------------------    252.0/272.9 MB 1.9 MB/s eta 0:00:11\n",
      "     -----------------------------------    252.1/272.9 MB 1.9 MB/s eta 0:00:11\n",
      "     -----------------------------------    252.2/272.9 MB 1.9 MB/s eta 0:00:11\n",
      "     -----------------------------------    252.4/272.9 MB 1.9 MB/s eta 0:00:11\n",
      "     -----------------------------------    252.6/272.9 MB 1.9 MB/s eta 0:00:11\n",
      "     -----------------------------------    252.6/272.9 MB 2.0 MB/s eta 0:00:11\n",
      "     -----------------------------------    252.8/272.9 MB 2.0 MB/s eta 0:00:11\n",
      "     -----------------------------------    253.2/272.9 MB 2.0 MB/s eta 0:00:10\n",
      "     -----------------------------------    253.2/272.9 MB 2.0 MB/s eta 0:00:11\n",
      "     -----------------------------------    253.3/272.9 MB 2.0 MB/s eta 0:00:11\n",
      "     -----------------------------------    253.3/272.9 MB 2.0 MB/s eta 0:00:11\n",
      "     -----------------------------------    253.3/272.9 MB 2.0 MB/s eta 0:00:11\n",
      "     -----------------------------------    254.5/272.9 MB 2.2 MB/s eta 0:00:09\n",
      "     -----------------------------------    254.7/272.9 MB 2.3 MB/s eta 0:00:08\n",
      "     -----------------------------------    254.9/272.9 MB 2.3 MB/s eta 0:00:08\n",
      "     -----------------------------------    255.1/272.9 MB 2.5 MB/s eta 0:00:08\n",
      "     -----------------------------------    255.3/272.9 MB 3.1 MB/s eta 0:00:06\n",
      "     -----------------------------------    255.5/272.9 MB 3.2 MB/s eta 0:00:06\n",
      "     -----------------------------------    255.6/272.9 MB 3.1 MB/s eta 0:00:06\n",
      "     -----------------------------------    255.8/272.9 MB 3.4 MB/s eta 0:00:05\n",
      "     -----------------------------------    256.0/272.9 MB 3.5 MB/s eta 0:00:05\n",
      "     -----------------------------------    256.1/272.9 MB 3.5 MB/s eta 0:00:05\n",
      "     -----------------------------------    256.5/272.9 MB 3.6 MB/s eta 0:00:05\n",
      "     -----------------------------------    256.7/272.9 MB 3.7 MB/s eta 0:00:05\n",
      "     -----------------------------------    256.8/272.9 MB 3.7 MB/s eta 0:00:05\n",
      "     -----------------------------------    256.8/272.9 MB 3.6 MB/s eta 0:00:05\n",
      "     -----------------------------------    257.1/272.9 MB 3.7 MB/s eta 0:00:05\n",
      "     -----------------------------------    257.4/272.9 MB 3.8 MB/s eta 0:00:05\n",
      "     -----------------------------------    257.5/272.9 MB 3.9 MB/s eta 0:00:04\n",
      "     -----------------------------------    257.7/272.9 MB 3.8 MB/s eta 0:00:04\n",
      "     -----------------------------------    257.9/272.9 MB 3.9 MB/s eta 0:00:04\n",
      "     -----------------------------------    258.0/272.9 MB 3.9 MB/s eta 0:00:04\n",
      "     -----------------------------------    258.0/272.9 MB 3.9 MB/s eta 0:00:04\n",
      "     -----------------------------------    258.0/272.9 MB 3.9 MB/s eta 0:00:04\n",
      "     ------------------------------------   258.9/272.9 MB 4.0 MB/s eta 0:00:04\n",
      "     ------------------------------------   259.3/272.9 MB 3.9 MB/s eta 0:00:04\n",
      "     ------------------------------------   259.5/272.9 MB 3.9 MB/s eta 0:00:04\n",
      "     ------------------------------------   259.9/272.9 MB 3.9 MB/s eta 0:00:04\n",
      "     ------------------------------------   260.0/272.9 MB 4.3 MB/s eta 0:00:04\n",
      "     ------------------------------------   260.1/272.9 MB 4.1 MB/s eta 0:00:04\n",
      "     ------------------------------------   260.5/272.9 MB 4.0 MB/s eta 0:00:04\n",
      "     ------------------------------------   260.7/272.9 MB 3.9 MB/s eta 0:00:04\n",
      "     ------------------------------------   260.9/272.9 MB 3.8 MB/s eta 0:00:04\n",
      "     ------------------------------------   261.4/272.9 MB 3.8 MB/s eta 0:00:04\n",
      "     ------------------------------------   261.6/272.9 MB 3.7 MB/s eta 0:00:04\n",
      "     ------------------------------------   261.7/272.9 MB 3.7 MB/s eta 0:00:03\n",
      "     ------------------------------------   261.7/272.9 MB 3.7 MB/s eta 0:00:04\n",
      "     ------------------------------------   261.8/272.9 MB 3.6 MB/s eta 0:00:04\n",
      "     ------------------------------------   261.8/272.9 MB 3.6 MB/s eta 0:00:04\n",
      "     ------------------------------------   261.8/272.9 MB 3.6 MB/s eta 0:00:04\n",
      "     ------------------------------------   261.8/272.9 MB 3.4 MB/s eta 0:00:04\n",
      "     ------------------------------------   261.8/272.9 MB 3.4 MB/s eta 0:00:04\n",
      "     ------------------------------------   262.0/272.9 MB 3.3 MB/s eta 0:00:04\n",
      "     ------------------------------------   262.0/272.9 MB 3.3 MB/s eta 0:00:04\n",
      "     ------------------------------------   262.1/272.9 MB 3.2 MB/s eta 0:00:04\n",
      "     ------------------------------------   262.2/272.9 MB 3.2 MB/s eta 0:00:04\n",
      "     ------------------------------------   262.4/272.9 MB 3.2 MB/s eta 0:00:04\n",
      "     ------------------------------------   262.4/272.9 MB 3.2 MB/s eta 0:00:04\n",
      "     ------------------------------------   262.6/272.9 MB 3.2 MB/s eta 0:00:04\n",
      "     ------------------------------------   263.0/272.9 MB 3.3 MB/s eta 0:00:04\n",
      "     ------------------------------------   263.1/272.9 MB 3.3 MB/s eta 0:00:03\n",
      "     ------------------------------------   263.4/272.9 MB 3.2 MB/s eta 0:00:03\n",
      "     ------------------------------------   263.9/272.9 MB 3.4 MB/s eta 0:00:03\n",
      "     ------------------------------------   264.1/272.9 MB 3.3 MB/s eta 0:00:03\n",
      "     ------------------------------------   264.2/272.9 MB 3.3 MB/s eta 0:00:03\n",
      "     ------------------------------------   264.4/272.9 MB 3.2 MB/s eta 0:00:03\n",
      "     ------------------------------------   264.8/272.9 MB 3.1 MB/s eta 0:00:03\n",
      "     ------------------------------------   264.9/272.9 MB 3.1 MB/s eta 0:00:03\n",
      "     ------------------------------------   265.2/272.9 MB 3.1 MB/s eta 0:00:03\n",
      "     ------------------------------------   265.4/272.9 MB 3.1 MB/s eta 0:00:03\n",
      "     ------------------------------------   265.7/272.9 MB 3.1 MB/s eta 0:00:03\n",
      "     -------------------------------------  265.8/272.9 MB 3.1 MB/s eta 0:00:03\n",
      "     -------------------------------------  266.0/272.9 MB 3.1 MB/s eta 0:00:03\n",
      "     -------------------------------------  266.1/272.9 MB 3.1 MB/s eta 0:00:03\n",
      "     -------------------------------------  266.5/272.9 MB 3.0 MB/s eta 0:00:03\n",
      "     -------------------------------------  267.1/272.9 MB 3.1 MB/s eta 0:00:02\n",
      "     -------------------------------------  267.3/272.9 MB 3.1 MB/s eta 0:00:02\n",
      "     -------------------------------------  267.3/272.9 MB 3.1 MB/s eta 0:00:02\n",
      "     -------------------------------------  267.9/272.9 MB 3.0 MB/s eta 0:00:02\n",
      "     -------------------------------------  268.5/272.9 MB 3.1 MB/s eta 0:00:02\n",
      "     -------------------------------------  268.7/272.9 MB 3.1 MB/s eta 0:00:02\n",
      "     -------------------------------------  269.2/272.9 MB 3.1 MB/s eta 0:00:02\n",
      "     -------------------------------------  269.3/272.9 MB 3.0 MB/s eta 0:00:02\n",
      "     -------------------------------------  269.3/272.9 MB 3.0 MB/s eta 0:00:02\n",
      "     -------------------------------------  269.4/272.9 MB 3.0 MB/s eta 0:00:02\n",
      "     -------------------------------------  269.6/272.9 MB 3.0 MB/s eta 0:00:02\n",
      "     -------------------------------------  269.8/272.9 MB 3.1 MB/s eta 0:00:01\n",
      "     -------------------------------------  270.2/272.9 MB 3.1 MB/s eta 0:00:01\n",
      "     -------------------------------------  270.2/272.9 MB 3.1 MB/s eta 0:00:01\n",
      "     -------------------------------------  270.5/272.9 MB 3.1 MB/s eta 0:00:01\n",
      "     -------------------------------------  270.6/272.9 MB 3.1 MB/s eta 0:00:01\n",
      "     -------------------------------------  270.7/272.9 MB 3.1 MB/s eta 0:00:01\n",
      "     -------------------------------------  270.9/272.9 MB 3.1 MB/s eta 0:00:01\n",
      "     -------------------------------------  271.0/272.9 MB 3.1 MB/s eta 0:00:01\n",
      "     -------------------------------------  271.3/272.9 MB 3.1 MB/s eta 0:00:01\n",
      "     -------------------------------------  271.3/272.9 MB 3.1 MB/s eta 0:00:01\n",
      "     -------------------------------------  271.6/272.9 MB 3.1 MB/s eta 0:00:01\n",
      "     -------------------------------------  271.7/272.9 MB 3.1 MB/s eta 0:00:01\n",
      "     -------------------------------------  271.9/272.9 MB 3.1 MB/s eta 0:00:01\n",
      "     -------------------------------------  272.3/272.9 MB 3.6 MB/s eta 0:00:01\n",
      "     -------------------------------------  272.4/272.9 MB 3.5 MB/s eta 0:00:01\n",
      "     -------------------------------------  272.6/272.9 MB 3.5 MB/s eta 0:00:01\n",
      "     -------------------------------------  272.7/272.9 MB 3.6 MB/s eta 0:00:01\n",
      "     -------------------------------------  272.9/272.9 MB 3.6 MB/s eta 0:00:01\n",
      "     -------------------------------------  272.9/272.9 MB 3.6 MB/s eta 0:00:01\n",
      "     -------------------------------------  272.9/272.9 MB 3.6 MB/s eta 0:00:01\n",
      "     -------------------------------------  272.9/272.9 MB 3.6 MB/s eta 0:00:01\n",
      "     -------------------------------------  272.9/272.9 MB 3.6 MB/s eta 0:00:01\n",
      "     -------------------------------------  272.9/272.9 MB 3.6 MB/s eta 0:00:01\n",
      "     -------------------------------------  272.9/272.9 MB 3.6 MB/s eta 0:00:01\n",
      "     -------------------------------------  272.9/272.9 MB 3.6 MB/s eta 0:00:01\n",
      "     -------------------------------------  272.9/272.9 MB 3.6 MB/s eta 0:00:01\n",
      "     -------------------------------------  272.9/272.9 MB 3.6 MB/s eta 0:00:01\n",
      "     -------------------------------------  272.9/272.9 MB 3.6 MB/s eta 0:00:01\n",
      "     -------------------------------------  272.9/272.9 MB 3.6 MB/s eta 0:00:01\n",
      "     -------------------------------------  272.9/272.9 MB 3.6 MB/s eta 0:00:01\n",
      "     -------------------------------------  272.9/272.9 MB 3.6 MB/s eta 0:00:01\n",
      "     -------------------------------------  272.9/272.9 MB 3.6 MB/s eta 0:00:01\n",
      "     -------------------------------------  272.9/272.9 MB 3.6 MB/s eta 0:00:01\n",
      "     -------------------------------------  272.9/272.9 MB 3.6 MB/s eta 0:00:01\n",
      "     -------------------------------------  272.9/272.9 MB 3.6 MB/s eta 0:00:01\n",
      "     -------------------------------------  272.9/272.9 MB 3.6 MB/s eta 0:00:01\n",
      "     -------------------------------------  272.9/272.9 MB 3.6 MB/s eta 0:00:01\n",
      "     -------------------------------------  272.9/272.9 MB 3.6 MB/s eta 0:00:01\n",
      "     -------------------------------------  272.9/272.9 MB 3.6 MB/s eta 0:00:01\n",
      "     -------------------------------------  272.9/272.9 MB 3.6 MB/s eta 0:00:01\n",
      "     -------------------------------------  272.9/272.9 MB 3.6 MB/s eta 0:00:01\n",
      "     -------------------------------------  272.9/272.9 MB 3.6 MB/s eta 0:00:01\n",
      "     -------------------------------------  272.9/272.9 MB 3.6 MB/s eta 0:00:01\n",
      "     -------------------------------------  272.9/272.9 MB 3.6 MB/s eta 0:00:01\n",
      "     -------------------------------------  272.9/272.9 MB 3.6 MB/s eta 0:00:01\n",
      "     -------------------------------------  272.9/272.9 MB 3.6 MB/s eta 0:00:01\n",
      "     -------------------------------------  272.9/272.9 MB 3.6 MB/s eta 0:00:01\n",
      "     -------------------------------------  272.9/272.9 MB 3.6 MB/s eta 0:00:01\n",
      "     -------------------------------------  272.9/272.9 MB 3.6 MB/s eta 0:00:01\n",
      "     -------------------------------------  272.9/272.9 MB 3.6 MB/s eta 0:00:01\n",
      "     -------------------------------------  272.9/272.9 MB 3.6 MB/s eta 0:00:01\n",
      "     -------------------------------------  272.9/272.9 MB 3.6 MB/s eta 0:00:01\n",
      "     -------------------------------------  272.9/272.9 MB 3.6 MB/s eta 0:00:01\n",
      "     -------------------------------------  272.9/272.9 MB 3.6 MB/s eta 0:00:01\n",
      "     -------------------------------------  272.9/272.9 MB 3.6 MB/s eta 0:00:01\n",
      "     -------------------------------------  272.9/272.9 MB 3.6 MB/s eta 0:00:01\n",
      "     -------------------------------------  272.9/272.9 MB 3.6 MB/s eta 0:00:01\n",
      "     -------------------------------------  272.9/272.9 MB 3.6 MB/s eta 0:00:01\n",
      "     -------------------------------------  272.9/272.9 MB 3.6 MB/s eta 0:00:01\n",
      "     -------------------------------------  272.9/272.9 MB 3.6 MB/s eta 0:00:01\n",
      "     -------------------------------------  272.9/272.9 MB 3.6 MB/s eta 0:00:01\n",
      "     -------------------------------------  272.9/272.9 MB 3.6 MB/s eta 0:00:01\n",
      "     -------------------------------------  272.9/272.9 MB 3.6 MB/s eta 0:00:01\n",
      "     -------------------------------------  272.9/272.9 MB 3.6 MB/s eta 0:00:01\n",
      "     -------------------------------------  272.9/272.9 MB 3.6 MB/s eta 0:00:01\n",
      "     -------------------------------------  272.9/272.9 MB 3.6 MB/s eta 0:00:01\n",
      "     -------------------------------------  272.9/272.9 MB 3.6 MB/s eta 0:00:01\n",
      "     -------------------------------------  272.9/272.9 MB 3.6 MB/s eta 0:00:01\n",
      "     -------------------------------------  272.9/272.9 MB 3.6 MB/s eta 0:00:01\n",
      "     -------------------------------------  272.9/272.9 MB 3.6 MB/s eta 0:00:01\n",
      "     -------------------------------------  272.9/272.9 MB 3.6 MB/s eta 0:00:01\n",
      "     -------------------------------------  272.9/272.9 MB 3.6 MB/s eta 0:00:01\n",
      "     -------------------------------------  272.9/272.9 MB 3.6 MB/s eta 0:00:01\n",
      "     -------------------------------------  272.9/272.9 MB 3.6 MB/s eta 0:00:01\n",
      "     -------------------------------------  272.9/272.9 MB 3.6 MB/s eta 0:00:01\n",
      "     -------------------------------------  272.9/272.9 MB 3.6 MB/s eta 0:00:01\n",
      "     -------------------------------------  272.9/272.9 MB 3.6 MB/s eta 0:00:01\n",
      "     -------------------------------------  272.9/272.9 MB 3.6 MB/s eta 0:00:01\n",
      "     -------------------------------------  272.9/272.9 MB 3.6 MB/s eta 0:00:01\n",
      "     -------------------------------------  272.9/272.9 MB 3.6 MB/s eta 0:00:01\n",
      "     -------------------------------------  272.9/272.9 MB 3.6 MB/s eta 0:00:01\n",
      "     -------------------------------------  272.9/272.9 MB 3.6 MB/s eta 0:00:01\n",
      "     -------------------------------------  272.9/272.9 MB 3.6 MB/s eta 0:00:01\n",
      "     -------------------------------------  272.9/272.9 MB 3.6 MB/s eta 0:00:01\n",
      "     -------------------------------------  272.9/272.9 MB 3.6 MB/s eta 0:00:01\n",
      "     -------------------------------------  272.9/272.9 MB 3.6 MB/s eta 0:00:01\n",
      "     -------------------------------------  272.9/272.9 MB 3.6 MB/s eta 0:00:01\n",
      "     -------------------------------------  272.9/272.9 MB 3.6 MB/s eta 0:00:01\n",
      "     -------------------------------------  272.9/272.9 MB 3.6 MB/s eta 0:00:01\n",
      "     -------------------------------------  272.9/272.9 MB 3.6 MB/s eta 0:00:01\n",
      "     -------------------------------------  272.9/272.9 MB 3.6 MB/s eta 0:00:01\n",
      "     -------------------------------------  272.9/272.9 MB 3.6 MB/s eta 0:00:01\n",
      "     -------------------------------------  272.9/272.9 MB 3.6 MB/s eta 0:00:01\n",
      "     -------------------------------------  272.9/272.9 MB 3.6 MB/s eta 0:00:01\n",
      "     -------------------------------------  272.9/272.9 MB 3.6 MB/s eta 0:00:01\n",
      "     -------------------------------------  272.9/272.9 MB 3.6 MB/s eta 0:00:01\n",
      "     -------------------------------------  272.9/272.9 MB 3.6 MB/s eta 0:00:01\n",
      "     -------------------------------------  272.9/272.9 MB 3.6 MB/s eta 0:00:01\n",
      "     -------------------------------------  272.9/272.9 MB 3.6 MB/s eta 0:00:01\n",
      "     -------------------------------------  272.9/272.9 MB 3.6 MB/s eta 0:00:01\n",
      "     -------------------------------------  272.9/272.9 MB 3.6 MB/s eta 0:00:01\n",
      "     -------------------------------------  272.9/272.9 MB 3.6 MB/s eta 0:00:01\n",
      "     -------------------------------------  272.9/272.9 MB 3.6 MB/s eta 0:00:01\n",
      "     -------------------------------------  272.9/272.9 MB 3.6 MB/s eta 0:00:01\n",
      "     -------------------------------------  272.9/272.9 MB 3.6 MB/s eta 0:00:01\n",
      "     -------------------------------------  272.9/272.9 MB 3.6 MB/s eta 0:00:01\n",
      "     -------------------------------------  272.9/272.9 MB 3.6 MB/s eta 0:00:01\n",
      "     -------------------------------------  272.9/272.9 MB 3.6 MB/s eta 0:00:01\n",
      "     -------------------------------------  272.9/272.9 MB 3.6 MB/s eta 0:00:01\n",
      "     -------------------------------------  272.9/272.9 MB 3.6 MB/s eta 0:00:01\n",
      "     -------------------------------------  272.9/272.9 MB 3.6 MB/s eta 0:00:01\n",
      "     -------------------------------------  272.9/272.9 MB 3.6 MB/s eta 0:00:01\n",
      "     -------------------------------------  272.9/272.9 MB 3.6 MB/s eta 0:00:01\n",
      "     -------------------------------------  272.9/272.9 MB 3.6 MB/s eta 0:00:01\n",
      "     -------------------------------------  272.9/272.9 MB 3.6 MB/s eta 0:00:01\n",
      "     -------------------------------------  272.9/272.9 MB 3.6 MB/s eta 0:00:01\n",
      "     -------------------------------------  272.9/272.9 MB 3.6 MB/s eta 0:00:01\n",
      "     -------------------------------------  272.9/272.9 MB 3.6 MB/s eta 0:00:01\n",
      "     -------------------------------------  272.9/272.9 MB 3.6 MB/s eta 0:00:01\n",
      "     -------------------------------------  272.9/272.9 MB 3.6 MB/s eta 0:00:01\n",
      "     -------------------------------------  272.9/272.9 MB 3.6 MB/s eta 0:00:01\n",
      "     -------------------------------------  272.9/272.9 MB 3.6 MB/s eta 0:00:01\n",
      "     -------------------------------------  272.9/272.9 MB 3.6 MB/s eta 0:00:01\n",
      "     -------------------------------------  272.9/272.9 MB 3.6 MB/s eta 0:00:01\n",
      "     -------------------------------------  272.9/272.9 MB 3.6 MB/s eta 0:00:01\n",
      "     -------------------------------------  272.9/272.9 MB 3.6 MB/s eta 0:00:01\n",
      "     -------------------------------------  272.9/272.9 MB 3.6 MB/s eta 0:00:01\n",
      "     -------------------------------------  272.9/272.9 MB 3.6 MB/s eta 0:00:01\n",
      "     -------------------------------------  272.9/272.9 MB 3.6 MB/s eta 0:00:01\n",
      "     -------------------------------------  272.9/272.9 MB 3.6 MB/s eta 0:00:01\n",
      "     -------------------------------------  272.9/272.9 MB 3.6 MB/s eta 0:00:01\n",
      "     -------------------------------------  272.9/272.9 MB 3.6 MB/s eta 0:00:01\n",
      "     -------------------------------------  272.9/272.9 MB 3.6 MB/s eta 0:00:01\n",
      "     -------------------------------------  272.9/272.9 MB 3.6 MB/s eta 0:00:01\n",
      "     -------------------------------------  272.9/272.9 MB 3.6 MB/s eta 0:00:01\n",
      "     -------------------------------------  272.9/272.9 MB 3.6 MB/s eta 0:00:01\n",
      "     -------------------------------------  272.9/272.9 MB 3.6 MB/s eta 0:00:01\n",
      "     -------------------------------------  272.9/272.9 MB 3.6 MB/s eta 0:00:01\n",
      "     -------------------------------------  272.9/272.9 MB 3.6 MB/s eta 0:00:01\n",
      "     -------------------------------------  272.9/272.9 MB 3.6 MB/s eta 0:00:01\n",
      "     -------------------------------------  272.9/272.9 MB 3.6 MB/s eta 0:00:01\n",
      "     -------------------------------------  272.9/272.9 MB 3.6 MB/s eta 0:00:01\n",
      "     -------------------------------------  272.9/272.9 MB 3.6 MB/s eta 0:00:01\n",
      "     -------------------------------------  272.9/272.9 MB 3.6 MB/s eta 0:00:01\n",
      "     -------------------------------------  272.9/272.9 MB 3.6 MB/s eta 0:00:01\n",
      "     -------------------------------------  272.9/272.9 MB 3.6 MB/s eta 0:00:01\n",
      "     -------------------------------------  272.9/272.9 MB 3.6 MB/s eta 0:00:01\n",
      "     -------------------------------------  272.9/272.9 MB 3.6 MB/s eta 0:00:01\n",
      "     -------------------------------------  272.9/272.9 MB 3.6 MB/s eta 0:00:01\n",
      "     -------------------------------------  272.9/272.9 MB 3.6 MB/s eta 0:00:01\n",
      "     -------------------------------------  272.9/272.9 MB 3.6 MB/s eta 0:00:01\n",
      "     -------------------------------------  272.9/272.9 MB 3.6 MB/s eta 0:00:01\n",
      "     -------------------------------------  272.9/272.9 MB 3.6 MB/s eta 0:00:01\n",
      "     -------------------------------------  272.9/272.9 MB 3.6 MB/s eta 0:00:01\n",
      "     -------------------------------------  272.9/272.9 MB 3.6 MB/s eta 0:00:01\n",
      "     -------------------------------------  272.9/272.9 MB 3.6 MB/s eta 0:00:01\n",
      "     -------------------------------------  272.9/272.9 MB 3.6 MB/s eta 0:00:01\n",
      "     -------------------------------------  272.9/272.9 MB 3.6 MB/s eta 0:00:01\n",
      "     -------------------------------------  272.9/272.9 MB 3.6 MB/s eta 0:00:01\n",
      "     -------------------------------------  272.9/272.9 MB 3.6 MB/s eta 0:00:01\n",
      "     -------------------------------------  272.9/272.9 MB 3.6 MB/s eta 0:00:01\n",
      "     -------------------------------------  272.9/272.9 MB 3.6 MB/s eta 0:00:01\n",
      "     -------------------------------------  272.9/272.9 MB 3.6 MB/s eta 0:00:01\n",
      "     -------------------------------------  272.9/272.9 MB 3.6 MB/s eta 0:00:01\n",
      "     -------------------------------------  272.9/272.9 MB 3.6 MB/s eta 0:00:01\n",
      "     -------------------------------------  272.9/272.9 MB 3.6 MB/s eta 0:00:01\n",
      "     -------------------------------------  272.9/272.9 MB 3.6 MB/s eta 0:00:01\n",
      "     -------------------------------------  272.9/272.9 MB 3.6 MB/s eta 0:00:01\n",
      "     -------------------------------------  272.9/272.9 MB 3.6 MB/s eta 0:00:01\n",
      "     -------------------------------------  272.9/272.9 MB 3.6 MB/s eta 0:00:01\n",
      "     -------------------------------------  272.9/272.9 MB 3.6 MB/s eta 0:00:01\n",
      "     -------------------------------------  272.9/272.9 MB 3.6 MB/s eta 0:00:01\n",
      "     -------------------------------------  272.9/272.9 MB 3.6 MB/s eta 0:00:01\n",
      "     -------------------------------------  272.9/272.9 MB 3.6 MB/s eta 0:00:01\n",
      "     -------------------------------------  272.9/272.9 MB 3.6 MB/s eta 0:00:01\n",
      "     -------------------------------------  272.9/272.9 MB 3.6 MB/s eta 0:00:01\n",
      "     -------------------------------------  272.9/272.9 MB 3.6 MB/s eta 0:00:01\n",
      "     -------------------------------------  272.9/272.9 MB 3.6 MB/s eta 0:00:01\n",
      "     -------------------------------------  272.9/272.9 MB 3.6 MB/s eta 0:00:01\n",
      "     -------------------------------------  272.9/272.9 MB 3.6 MB/s eta 0:00:01\n",
      "     -------------------------------------  272.9/272.9 MB 3.6 MB/s eta 0:00:01\n",
      "     -------------------------------------  272.9/272.9 MB 3.6 MB/s eta 0:00:01\n",
      "     -------------------------------------  272.9/272.9 MB 3.6 MB/s eta 0:00:01\n",
      "     -------------------------------------  272.9/272.9 MB 3.6 MB/s eta 0:00:01\n",
      "     -------------------------------------  272.9/272.9 MB 3.6 MB/s eta 0:00:01\n",
      "     -------------------------------------  272.9/272.9 MB 3.6 MB/s eta 0:00:01\n",
      "     -------------------------------------  272.9/272.9 MB 3.6 MB/s eta 0:00:01\n",
      "     -------------------------------------  272.9/272.9 MB 3.6 MB/s eta 0:00:01\n",
      "     -------------------------------------  272.9/272.9 MB 3.6 MB/s eta 0:00:01\n",
      "     -------------------------------------  272.9/272.9 MB 3.6 MB/s eta 0:00:01\n",
      "     -------------------------------------  272.9/272.9 MB 3.6 MB/s eta 0:00:01\n",
      "     -------------------------------------  272.9/272.9 MB 3.6 MB/s eta 0:00:01\n",
      "     -------------------------------------  272.9/272.9 MB 3.6 MB/s eta 0:00:01\n",
      "     -------------------------------------  272.9/272.9 MB 3.6 MB/s eta 0:00:01\n",
      "     -------------------------------------  272.9/272.9 MB 3.6 MB/s eta 0:00:01\n",
      "     -------------------------------------  272.9/272.9 MB 3.6 MB/s eta 0:00:01\n",
      "     -------------------------------------  272.9/272.9 MB 3.6 MB/s eta 0:00:01\n",
      "     -------------------------------------  272.9/272.9 MB 3.6 MB/s eta 0:00:01\n",
      "     -------------------------------------  272.9/272.9 MB 3.6 MB/s eta 0:00:01\n",
      "     -------------------------------------  272.9/272.9 MB 3.6 MB/s eta 0:00:01\n",
      "     -------------------------------------  272.9/272.9 MB 3.6 MB/s eta 0:00:01\n",
      "     -------------------------------------  272.9/272.9 MB 3.6 MB/s eta 0:00:01\n",
      "     -------------------------------------  272.9/272.9 MB 3.6 MB/s eta 0:00:01\n",
      "     -------------------------------------  272.9/272.9 MB 3.6 MB/s eta 0:00:01\n",
      "     -------------------------------------  272.9/272.9 MB 3.6 MB/s eta 0:00:01\n",
      "     -------------------------------------  272.9/272.9 MB 3.6 MB/s eta 0:00:01\n",
      "     -------------------------------------  272.9/272.9 MB 3.6 MB/s eta 0:00:01\n",
      "     -------------------------------------  272.9/272.9 MB 3.6 MB/s eta 0:00:01\n",
      "     -------------------------------------  272.9/272.9 MB 3.6 MB/s eta 0:00:01\n",
      "     -------------------------------------  272.9/272.9 MB 3.6 MB/s eta 0:00:01\n",
      "     -------------------------------------  272.9/272.9 MB 3.6 MB/s eta 0:00:01\n",
      "     -------------------------------------  272.9/272.9 MB 3.6 MB/s eta 0:00:01\n",
      "     -------------------------------------  272.9/272.9 MB 3.6 MB/s eta 0:00:01\n",
      "     -------------------------------------  272.9/272.9 MB 3.6 MB/s eta 0:00:01\n",
      "     -------------------------------------  272.9/272.9 MB 3.6 MB/s eta 0:00:01\n",
      "     -------------------------------------  272.9/272.9 MB 3.6 MB/s eta 0:00:01\n",
      "     -------------------------------------  272.9/272.9 MB 3.6 MB/s eta 0:00:01\n",
      "     -------------------------------------  272.9/272.9 MB 3.6 MB/s eta 0:00:01\n",
      "     -------------------------------------  272.9/272.9 MB 3.6 MB/s eta 0:00:01\n",
      "     -------------------------------------  272.9/272.9 MB 3.6 MB/s eta 0:00:01\n",
      "     -------------------------------------  272.9/272.9 MB 3.6 MB/s eta 0:00:01\n",
      "     -------------------------------------  272.9/272.9 MB 3.6 MB/s eta 0:00:01\n",
      "     -------------------------------------  272.9/272.9 MB 3.6 MB/s eta 0:00:01\n",
      "     -------------------------------------  272.9/272.9 MB 3.6 MB/s eta 0:00:01\n",
      "     -------------------------------------  272.9/272.9 MB 3.6 MB/s eta 0:00:01\n",
      "     -------------------------------------  272.9/272.9 MB 3.6 MB/s eta 0:00:01\n",
      "     -------------------------------------  272.9/272.9 MB 3.6 MB/s eta 0:00:01\n",
      "     -------------------------------------  272.9/272.9 MB 3.6 MB/s eta 0:00:01\n",
      "     -------------------------------------  272.9/272.9 MB 3.6 MB/s eta 0:00:01\n",
      "     -------------------------------------  272.9/272.9 MB 3.6 MB/s eta 0:00:01\n",
      "     -------------------------------------  272.9/272.9 MB 3.6 MB/s eta 0:00:01\n",
      "     -------------------------------------  272.9/272.9 MB 3.6 MB/s eta 0:00:01\n",
      "     -------------------------------------  272.9/272.9 MB 3.6 MB/s eta 0:00:01\n",
      "     -------------------------------------  272.9/272.9 MB 3.6 MB/s eta 0:00:01\n",
      "     -------------------------------------  272.9/272.9 MB 3.6 MB/s eta 0:00:01\n",
      "     -------------------------------------  272.9/272.9 MB 3.6 MB/s eta 0:00:01\n",
      "     -------------------------------------  272.9/272.9 MB 3.6 MB/s eta 0:00:01\n",
      "     -------------------------------------  272.9/272.9 MB 3.6 MB/s eta 0:00:01\n",
      "     -------------------------------------  272.9/272.9 MB 3.6 MB/s eta 0:00:01\n",
      "     -------------------------------------  272.9/272.9 MB 3.6 MB/s eta 0:00:01\n",
      "     -------------------------------------  272.9/272.9 MB 3.6 MB/s eta 0:00:01\n",
      "     -------------------------------------  272.9/272.9 MB 3.6 MB/s eta 0:00:01\n",
      "     -------------------------------------  272.9/272.9 MB 3.6 MB/s eta 0:00:01\n",
      "     -------------------------------------  272.9/272.9 MB 3.6 MB/s eta 0:00:01\n",
      "     -------------------------------------  272.9/272.9 MB 3.6 MB/s eta 0:00:01\n",
      "     -------------------------------------  272.9/272.9 MB 3.6 MB/s eta 0:00:01\n",
      "     -------------------------------------  272.9/272.9 MB 3.6 MB/s eta 0:00:01\n",
      "     -------------------------------------  272.9/272.9 MB 3.6 MB/s eta 0:00:01\n",
      "     -------------------------------------  272.9/272.9 MB 3.6 MB/s eta 0:00:01\n",
      "     -------------------------------------  272.9/272.9 MB 3.6 MB/s eta 0:00:01\n",
      "     -------------------------------------  272.9/272.9 MB 3.6 MB/s eta 0:00:01\n",
      "     -------------------------------------  272.9/272.9 MB 3.6 MB/s eta 0:00:01\n",
      "     -------------------------------------  272.9/272.9 MB 3.6 MB/s eta 0:00:01\n",
      "     -------------------------------------  272.9/272.9 MB 3.6 MB/s eta 0:00:01\n",
      "     -------------------------------------  272.9/272.9 MB 3.6 MB/s eta 0:00:01\n",
      "     -------------------------------------  272.9/272.9 MB 3.6 MB/s eta 0:00:01\n",
      "     -------------------------------------  272.9/272.9 MB 3.6 MB/s eta 0:00:01\n",
      "     -------------------------------------  272.9/272.9 MB 3.6 MB/s eta 0:00:01\n",
      "     -------------------------------------  272.9/272.9 MB 3.6 MB/s eta 0:00:01\n",
      "     -------------------------------------  272.9/272.9 MB 3.6 MB/s eta 0:00:01\n",
      "     -------------------------------------  272.9/272.9 MB 3.6 MB/s eta 0:00:01\n",
      "     -------------------------------------  272.9/272.9 MB 3.6 MB/s eta 0:00:01\n",
      "     -------------------------------------  272.9/272.9 MB 3.6 MB/s eta 0:00:01\n",
      "     -------------------------------------  272.9/272.9 MB 3.6 MB/s eta 0:00:01\n",
      "     -------------------------------------  272.9/272.9 MB 3.6 MB/s eta 0:00:01\n",
      "     -------------------------------------  272.9/272.9 MB 3.6 MB/s eta 0:00:01\n",
      "     -------------------------------------  272.9/272.9 MB 3.6 MB/s eta 0:00:01\n",
      "     -------------------------------------  272.9/272.9 MB 3.6 MB/s eta 0:00:01\n",
      "     -------------------------------------  272.9/272.9 MB 3.6 MB/s eta 0:00:01\n",
      "     -------------------------------------  272.9/272.9 MB 3.6 MB/s eta 0:00:01\n",
      "     -------------------------------------  272.9/272.9 MB 3.6 MB/s eta 0:00:01\n",
      "     -------------------------------------  272.9/272.9 MB 3.6 MB/s eta 0:00:01\n",
      "     -------------------------------------  272.9/272.9 MB 3.6 MB/s eta 0:00:01\n",
      "     -------------------------------------  272.9/272.9 MB 3.6 MB/s eta 0:00:01\n",
      "     -------------------------------------  272.9/272.9 MB 3.6 MB/s eta 0:00:01\n",
      "     -------------------------------------  272.9/272.9 MB 3.6 MB/s eta 0:00:01\n",
      "     -------------------------------------  272.9/272.9 MB 3.6 MB/s eta 0:00:01\n",
      "     -------------------------------------  272.9/272.9 MB 3.6 MB/s eta 0:00:01\n",
      "     -------------------------------------  272.9/272.9 MB 3.6 MB/s eta 0:00:01\n",
      "     -------------------------------------  272.9/272.9 MB 3.6 MB/s eta 0:00:01\n",
      "     -------------------------------------  272.9/272.9 MB 3.6 MB/s eta 0:00:01\n",
      "     -------------------------------------  272.9/272.9 MB 3.6 MB/s eta 0:00:01\n",
      "     -------------------------------------  272.9/272.9 MB 3.6 MB/s eta 0:00:01\n",
      "     -------------------------------------  272.9/272.9 MB 3.6 MB/s eta 0:00:01\n",
      "     -------------------------------------  272.9/272.9 MB 3.6 MB/s eta 0:00:01\n",
      "     -------------------------------------  272.9/272.9 MB 3.6 MB/s eta 0:00:01\n",
      "     -------------------------------------  272.9/272.9 MB 3.6 MB/s eta 0:00:01\n",
      "     -------------------------------------  272.9/272.9 MB 3.6 MB/s eta 0:00:01\n",
      "     -------------------------------------  272.9/272.9 MB 3.6 MB/s eta 0:00:01\n",
      "     -------------------------------------  272.9/272.9 MB 3.6 MB/s eta 0:00:01\n",
      "     -------------------------------------  272.9/272.9 MB 3.6 MB/s eta 0:00:01\n",
      "     -------------------------------------  272.9/272.9 MB 3.6 MB/s eta 0:00:01\n",
      "     -------------------------------------  272.9/272.9 MB 3.6 MB/s eta 0:00:01\n",
      "     -------------------------------------  272.9/272.9 MB 3.6 MB/s eta 0:00:01\n",
      "     -------------------------------------  272.9/272.9 MB 3.6 MB/s eta 0:00:01\n",
      "     -------------------------------------  272.9/272.9 MB 3.6 MB/s eta 0:00:01\n",
      "     ------------------------------------ 272.9/272.9 MB 522.1 kB/s eta 0:00:00\n",
      "Collecting absl-py>=1.0.0 (from tensorflow-intel==2.12.0->tensorflow)\n",
      "  Using cached absl_py-1.4.0-py3-none-any.whl (126 kB)\n",
      "Collecting astunparse>=1.6.0 (from tensorflow-intel==2.12.0->tensorflow)\n",
      "  Using cached astunparse-1.6.3-py2.py3-none-any.whl (12 kB)\n",
      "Collecting flatbuffers>=2.0 (from tensorflow-intel==2.12.0->tensorflow)\n",
      "  Using cached flatbuffers-23.3.3-py2.py3-none-any.whl (26 kB)\n",
      "Collecting gast<=0.4.0,>=0.2.1 (from tensorflow-intel==2.12.0->tensorflow)\n",
      "  Using cached gast-0.4.0-py3-none-any.whl (9.8 kB)\n",
      "Collecting google-pasta>=0.1.1 (from tensorflow-intel==2.12.0->tensorflow)\n",
      "  Using cached google_pasta-0.2.0-py3-none-any.whl (57 kB)\n",
      "Collecting h5py>=2.9.0 (from tensorflow-intel==2.12.0->tensorflow)\n",
      "  Downloading h5py-3.8.0-cp311-cp311-win_amd64.whl (2.6 MB)\n",
      "                                              0.0/2.6 MB ? eta -:--:--\n",
      "                                              0.0/2.6 MB ? eta -:--:--\n",
      "                                              0.0/2.6 MB ? eta -:--:--\n",
      "                                              0.0/2.6 MB 262.6 kB/s eta 0:00:10\n",
      "                                              0.0/2.6 MB 262.6 kB/s eta 0:00:10\n",
      "     --                                       0.2/2.6 MB 952.6 kB/s eta 0:00:03\n",
      "     --                                       0.2/2.6 MB 952.6 kB/s eta 0:00:03\n",
      "     --                                       0.2/2.6 MB 952.6 kB/s eta 0:00:03\n",
      "     -------                                  0.5/2.6 MB 1.4 MB/s eta 0:00:02\n",
      "     --------                                 0.6/2.6 MB 1.5 MB/s eta 0:00:02\n",
      "     ---------                                0.6/2.6 MB 1.6 MB/s eta 0:00:02\n",
      "     -----------                              0.7/2.6 MB 1.7 MB/s eta 0:00:02\n",
      "     ------------                             0.8/2.6 MB 1.6 MB/s eta 0:00:02\n",
      "     -----------------                        1.2/2.6 MB 2.0 MB/s eta 0:00:01\n",
      "     ------------------                       1.2/2.6 MB 2.0 MB/s eta 0:00:01\n",
      "     -------------------                      1.3/2.6 MB 2.0 MB/s eta 0:00:01\n",
      "     --------------------                     1.3/2.6 MB 1.9 MB/s eta 0:00:01\n",
      "     --------------------                     1.3/2.6 MB 1.8 MB/s eta 0:00:01\n",
      "     --------------------                     1.3/2.6 MB 1.8 MB/s eta 0:00:01\n",
      "     ----------------------                   1.5/2.6 MB 1.8 MB/s eta 0:00:01\n",
      "     ------------------------                 1.6/2.6 MB 1.7 MB/s eta 0:00:01\n",
      "     ------------------------                 1.6/2.6 MB 1.7 MB/s eta 0:00:01\n",
      "     -------------------------                1.7/2.6 MB 1.7 MB/s eta 0:00:01\n",
      "     -------------------------                1.7/2.6 MB 1.7 MB/s eta 0:00:01\n",
      "     ---------------------------              1.8/2.6 MB 1.7 MB/s eta 0:00:01\n",
      "     -----------------------------            1.9/2.6 MB 1.7 MB/s eta 0:00:01\n",
      "     ------------------------------           2.0/2.6 MB 1.7 MB/s eta 0:00:01\n",
      "     ------------------------------           2.0/2.6 MB 1.7 MB/s eta 0:00:01\n",
      "     ---------------------------------        2.2/2.6 MB 1.7 MB/s eta 0:00:01\n",
      "     ---------------------------------        2.2/2.6 MB 1.7 MB/s eta 0:00:01\n",
      "     -----------------------------------      2.3/2.6 MB 1.7 MB/s eta 0:00:01\n",
      "     --------------------------------------   2.5/2.6 MB 1.8 MB/s eta 0:00:01\n",
      "     --------------------------------------   2.5/2.6 MB 1.8 MB/s eta 0:00:01\n",
      "     --------------------------------------   2.5/2.6 MB 1.8 MB/s eta 0:00:01\n",
      "     ---------------------------------------  2.6/2.6 MB 1.7 MB/s eta 0:00:01\n",
      "     ---------------------------------------- 2.6/2.6 MB 1.6 MB/s eta 0:00:00\n",
      "Collecting jax>=0.3.15 (from tensorflow-intel==2.12.0->tensorflow)\n",
      "  Using cached jax-0.4.8.tar.gz (1.2 MB)\n",
      "  Installing build dependencies: started\n",
      "  Installing build dependencies: finished with status 'done'\n",
      "  Getting requirements to build wheel: started\n",
      "  Getting requirements to build wheel: finished with status 'done'\n",
      "  Preparing metadata (pyproject.toml): started\n",
      "  Preparing metadata (pyproject.toml): finished with status 'done'\n",
      "Collecting libclang>=13.0.0 (from tensorflow-intel==2.12.0->tensorflow)\n",
      "  Using cached libclang-16.0.0-py2.py3-none-win_amd64.whl (24.4 MB)\n",
      "Collecting numpy<1.24,>=1.22 (from tensorflow-intel==2.12.0->tensorflow)\n",
      "  Downloading numpy-1.23.5-cp311-cp311-win_amd64.whl (14.6 MB)\n",
      "                                              0.0/14.6 MB ? eta -:--:--\n",
      "                                              0.0/14.6 MB ? eta -:--:--\n",
      "                                              0.1/14.6 MB ? eta -:--:--\n",
      "                                              0.1/14.6 MB ? eta -:--:--\n",
      "                                              0.1/14.6 MB 1.2 MB/s eta 0:00:13\n",
      "                                              0.1/14.6 MB 1.2 MB/s eta 0:00:13\n",
      "                                              0.2/14.6 MB 1.3 MB/s eta 0:00:11\n",
      "                                              0.3/14.6 MB 1.3 MB/s eta 0:00:12\n",
      "                                              0.3/14.6 MB 1.2 MB/s eta 0:00:13\n",
      "                                              0.4/14.6 MB 1.2 MB/s eta 0:00:13\n",
      "     -                                        0.5/14.6 MB 1.2 MB/s eta 0:00:12\n",
      "     -                                        0.6/14.6 MB 1.3 MB/s eta 0:00:11\n",
      "     -                                        0.7/14.6 MB 1.3 MB/s eta 0:00:11\n",
      "     -                                        0.7/14.6 MB 1.3 MB/s eta 0:00:11\n",
      "     -                                        0.7/14.6 MB 1.3 MB/s eta 0:00:11\n",
      "     -                                        0.7/14.6 MB 1.3 MB/s eta 0:00:11\n",
      "     --                                       0.9/14.6 MB 1.3 MB/s eta 0:00:11\n",
      "     --                                       0.9/14.6 MB 1.3 MB/s eta 0:00:11\n",
      "     --                                       1.1/14.6 MB 1.3 MB/s eta 0:00:11\n",
      "     ---                                      1.1/14.6 MB 1.3 MB/s eta 0:00:11\n",
      "     ---                                      1.1/14.6 MB 1.2 MB/s eta 0:00:11\n",
      "     ---                                      1.2/14.6 MB 1.2 MB/s eta 0:00:11\n",
      "     ---                                      1.3/14.6 MB 1.3 MB/s eta 0:00:11\n",
      "     ---                                      1.3/14.6 MB 1.2 MB/s eta 0:00:11\n",
      "     ---                                      1.4/14.6 MB 1.3 MB/s eta 0:00:11\n",
      "     ----                                     1.5/14.6 MB 1.3 MB/s eta 0:00:11\n",
      "     ----                                     1.5/14.6 MB 1.3 MB/s eta 0:00:11\n",
      "     ----                                     1.6/14.6 MB 1.3 MB/s eta 0:00:11\n",
      "     ----                                     1.7/14.6 MB 1.2 MB/s eta 0:00:11\n",
      "     ----                                     1.7/14.6 MB 1.2 MB/s eta 0:00:11\n",
      "     ----                                     1.8/14.6 MB 1.3 MB/s eta 0:00:11\n",
      "     -----                                    1.8/14.6 MB 1.3 MB/s eta 0:00:11\n",
      "     -----                                    1.9/14.6 MB 1.2 MB/s eta 0:00:11\n",
      "     -----                                    1.9/14.6 MB 1.2 MB/s eta 0:00:11\n",
      "     -----                                    2.0/14.6 MB 1.2 MB/s eta 0:00:11\n",
      "     -----                                    2.0/14.6 MB 1.2 MB/s eta 0:00:11\n",
      "     -----                                    2.0/14.6 MB 1.2 MB/s eta 0:00:11\n",
      "     -----                                    2.1/14.6 MB 1.2 MB/s eta 0:00:11\n",
      "     -----                                    2.2/14.6 MB 1.2 MB/s eta 0:00:11\n",
      "     ------                                   2.2/14.6 MB 1.2 MB/s eta 0:00:11\n",
      "     ------                                   2.3/14.6 MB 1.2 MB/s eta 0:00:11\n",
      "     ------                                   2.3/14.6 MB 1.2 MB/s eta 0:00:11\n",
      "     ------                                   2.3/14.6 MB 1.2 MB/s eta 0:00:11\n",
      "     ------                                   2.4/14.6 MB 1.2 MB/s eta 0:00:11\n",
      "     ------                                   2.4/14.6 MB 1.2 MB/s eta 0:00:11\n",
      "     ------                                   2.4/14.6 MB 1.2 MB/s eta 0:00:11\n",
      "     -------                                  2.6/14.6 MB 1.2 MB/s eta 0:00:11\n",
      "     -------                                  2.6/14.6 MB 1.2 MB/s eta 0:00:11\n",
      "     -------                                  2.7/14.6 MB 1.2 MB/s eta 0:00:11\n",
      "     -------                                  2.7/14.6 MB 1.2 MB/s eta 0:00:11\n",
      "     -------                                  2.7/14.6 MB 1.2 MB/s eta 0:00:11\n",
      "     -------                                  2.8/14.6 MB 1.2 MB/s eta 0:00:11\n",
      "     -------                                  2.9/14.6 MB 1.2 MB/s eta 0:00:11\n",
      "     -------                                  2.9/14.6 MB 1.1 MB/s eta 0:00:11\n",
      "     -------                                  2.9/14.6 MB 1.1 MB/s eta 0:00:11\n",
      "     --------                                 3.0/14.6 MB 1.2 MB/s eta 0:00:11\n",
      "     --------                                 3.0/14.6 MB 1.1 MB/s eta 0:00:11\n",
      "     --------                                 3.1/14.6 MB 1.1 MB/s eta 0:00:11\n",
      "     --------                                 3.1/14.6 MB 1.1 MB/s eta 0:00:11\n",
      "     --------                                 3.2/14.6 MB 1.1 MB/s eta 0:00:11\n",
      "     --------                                 3.2/14.6 MB 1.1 MB/s eta 0:00:11\n",
      "     --------                                 3.2/14.6 MB 1.1 MB/s eta 0:00:11\n",
      "     ---------                                3.4/14.6 MB 1.1 MB/s eta 0:00:11\n",
      "     ---------                                3.4/14.6 MB 1.1 MB/s eta 0:00:10\n",
      "     ---------                                3.4/14.6 MB 1.1 MB/s eta 0:00:11\n",
      "     ---------                                3.5/14.6 MB 1.1 MB/s eta 0:00:11\n",
      "     ---------                                3.6/14.6 MB 1.1 MB/s eta 0:00:10\n",
      "     ---------                                3.6/14.6 MB 1.1 MB/s eta 0:00:10\n",
      "     ---------                                3.7/14.6 MB 1.1 MB/s eta 0:00:10\n",
      "     ----------                               3.7/14.6 MB 1.1 MB/s eta 0:00:10\n",
      "     ----------                               3.8/14.6 MB 1.1 MB/s eta 0:00:10\n",
      "     ----------                               3.9/14.6 MB 1.1 MB/s eta 0:00:10\n",
      "     ----------                               3.9/14.6 MB 1.1 MB/s eta 0:00:10\n",
      "     ----------                               4.0/14.6 MB 1.1 MB/s eta 0:00:10\n",
      "     ----------                               4.0/14.6 MB 1.1 MB/s eta 0:00:10\n",
      "     ----------                               4.0/14.6 MB 1.1 MB/s eta 0:00:10\n",
      "     -----------                              4.1/14.6 MB 1.1 MB/s eta 0:00:10\n",
      "     -----------                              4.1/14.6 MB 1.1 MB/s eta 0:00:10\n",
      "     -----------                              4.2/14.6 MB 1.1 MB/s eta 0:00:10\n",
      "     -----------                              4.2/14.6 MB 1.1 MB/s eta 0:00:10\n",
      "     -----------                              4.2/14.6 MB 1.1 MB/s eta 0:00:10\n",
      "     -----------                              4.3/14.6 MB 1.1 MB/s eta 0:00:10\n",
      "     -----------                              4.4/14.6 MB 1.1 MB/s eta 0:00:10\n",
      "     -----------                              4.4/14.6 MB 1.1 MB/s eta 0:00:10\n",
      "     -----------                              4.4/14.6 MB 1.1 MB/s eta 0:00:10\n",
      "     ------------                             4.5/14.6 MB 1.1 MB/s eta 0:00:10\n",
      "     ------------                             4.5/14.6 MB 1.1 MB/s eta 0:00:10\n",
      "     ------------                             4.6/14.6 MB 1.1 MB/s eta 0:00:10\n",
      "     ------------                             4.6/14.6 MB 1.1 MB/s eta 0:00:10\n",
      "     ------------                             4.7/14.6 MB 1.1 MB/s eta 0:00:10\n",
      "     ------------                             4.7/14.6 MB 1.1 MB/s eta 0:00:10\n",
      "     ------------                             4.8/14.6 MB 1.1 MB/s eta 0:00:10\n",
      "     -------------                            4.8/14.6 MB 1.1 MB/s eta 0:00:10\n",
      "     -------------                            4.8/14.6 MB 1.1 MB/s eta 0:00:10\n",
      "     -------------                            4.8/14.6 MB 1.1 MB/s eta 0:00:10\n",
      "     -------------                            4.8/14.6 MB 1.1 MB/s eta 0:00:10\n",
      "     -------------                            5.0/14.6 MB 1.1 MB/s eta 0:00:10\n",
      "     -------------                            5.0/14.6 MB 1.1 MB/s eta 0:00:10\n",
      "     -------------                            5.0/14.6 MB 1.1 MB/s eta 0:00:10\n",
      "     -------------                            5.1/14.6 MB 1.1 MB/s eta 0:00:09\n",
      "     --------------                           5.2/14.6 MB 1.1 MB/s eta 0:00:09\n",
      "     --------------                           5.2/14.6 MB 1.1 MB/s eta 0:00:09\n",
      "     --------------                           5.2/14.6 MB 1.1 MB/s eta 0:00:09\n",
      "     --------------                           5.2/14.6 MB 1.1 MB/s eta 0:00:09\n",
      "     --------------                           5.3/14.6 MB 1.1 MB/s eta 0:00:09\n",
      "     --------------                           5.4/14.6 MB 1.1 MB/s eta 0:00:09\n",
      "     --------------                           5.4/14.6 MB 1.1 MB/s eta 0:00:09\n",
      "     --------------                           5.4/14.6 MB 1.1 MB/s eta 0:00:09\n",
      "     ---------------                          5.5/14.6 MB 1.1 MB/s eta 0:00:09\n",
      "     ---------------                          5.6/14.6 MB 1.1 MB/s eta 0:00:09\n",
      "     ---------------                          5.6/14.6 MB 1.1 MB/s eta 0:00:09\n",
      "     ---------------                          5.6/14.6 MB 1.0 MB/s eta 0:00:09\n",
      "     ---------------                          5.6/14.6 MB 1.0 MB/s eta 0:00:09\n",
      "     ---------------                          5.7/14.6 MB 1.1 MB/s eta 0:00:09\n",
      "     ---------------                          5.7/14.6 MB 1.1 MB/s eta 0:00:09\n",
      "     ---------------                          5.7/14.6 MB 1.0 MB/s eta 0:00:09\n",
      "     ---------------                          5.8/14.6 MB 1.0 MB/s eta 0:00:09\n",
      "     ----------------                         5.9/14.6 MB 1.0 MB/s eta 0:00:09\n",
      "     ----------------                         5.9/14.6 MB 1.0 MB/s eta 0:00:09\n",
      "     ----------------                         5.9/14.6 MB 1.0 MB/s eta 0:00:09\n",
      "     ----------------                         6.0/14.6 MB 1.0 MB/s eta 0:00:09\n",
      "     ----------------                         6.1/14.6 MB 1.0 MB/s eta 0:00:09\n",
      "     ----------------                         6.1/14.6 MB 1.0 MB/s eta 0:00:09\n",
      "     ----------------                         6.1/14.6 MB 1.0 MB/s eta 0:00:09\n",
      "     ----------------                         6.2/14.6 MB 1.0 MB/s eta 0:00:09\n",
      "     ----------------                         6.2/14.6 MB 1.0 MB/s eta 0:00:09\n",
      "     -----------------                        6.3/14.6 MB 1.0 MB/s eta 0:00:09\n",
      "     -----------------                        6.3/14.6 MB 1.0 MB/s eta 0:00:09\n",
      "     -----------------                        6.3/14.6 MB 1.0 MB/s eta 0:00:09\n",
      "     -----------------                        6.4/14.6 MB 1.0 MB/s eta 0:00:08\n",
      "     -----------------                        6.5/14.6 MB 1.0 MB/s eta 0:00:08\n",
      "     -----------------                        6.6/14.6 MB 1.0 MB/s eta 0:00:08\n",
      "     -----------------                        6.6/14.6 MB 1.0 MB/s eta 0:00:08\n",
      "     ------------------                       6.6/14.6 MB 1.0 MB/s eta 0:00:08\n",
      "     ------------------                       6.7/14.6 MB 1.0 MB/s eta 0:00:08\n",
      "     ------------------                       6.7/14.6 MB 1.0 MB/s eta 0:00:08\n",
      "     ------------------                       6.8/14.6 MB 1.0 MB/s eta 0:00:08\n",
      "     ------------------                       6.8/14.6 MB 1.0 MB/s eta 0:00:08\n",
      "     ------------------                       6.9/14.6 MB 1.0 MB/s eta 0:00:08\n",
      "     ------------------                       6.9/14.6 MB 1.0 MB/s eta 0:00:08\n",
      "     ------------------                       6.9/14.6 MB 1.0 MB/s eta 0:00:08\n",
      "     -------------------                      7.0/14.6 MB 1.0 MB/s eta 0:00:08\n",
      "     -------------------                      7.0/14.6 MB 1.0 MB/s eta 0:00:08\n",
      "     -------------------                      7.1/14.6 MB 1.0 MB/s eta 0:00:08\n",
      "     -------------------                      7.1/14.6 MB 1.0 MB/s eta 0:00:08\n",
      "     -------------------                      7.1/14.6 MB 1.0 MB/s eta 0:00:08\n",
      "     -------------------                      7.2/14.6 MB 1.0 MB/s eta 0:00:08\n",
      "     -------------------                      7.2/14.6 MB 1.0 MB/s eta 0:00:08\n",
      "     -------------------                      7.2/14.6 MB 1.0 MB/s eta 0:00:08\n",
      "     --------------------                     7.3/14.6 MB 1.0 MB/s eta 0:00:08\n",
      "     --------------------                     7.4/14.6 MB 1.0 MB/s eta 0:00:08\n",
      "     --------------------                     7.4/14.6 MB 1.0 MB/s eta 0:00:07\n",
      "     --------------------                     7.5/14.6 MB 1.0 MB/s eta 0:00:07\n",
      "     --------------------                     7.5/14.6 MB 1.0 MB/s eta 0:00:07\n",
      "     --------------------                     7.5/14.6 MB 1.0 MB/s eta 0:00:07\n",
      "     --------------------                     7.5/14.6 MB 1.0 MB/s eta 0:00:07\n",
      "     --------------------                     7.6/14.6 MB 1.0 MB/s eta 0:00:07\n",
      "     --------------------                     7.7/14.6 MB 1.0 MB/s eta 0:00:07\n",
      "     --------------------                     7.7/14.6 MB 1.0 MB/s eta 0:00:07\n",
      "     ---------------------                    7.7/14.6 MB 1.0 MB/s eta 0:00:07\n",
      "     ---------------------                    7.8/14.6 MB 1.0 MB/s eta 0:00:07\n",
      "     ---------------------                    7.8/14.6 MB 1.0 MB/s eta 0:00:07\n",
      "     ---------------------                    7.9/14.6 MB 1.0 MB/s eta 0:00:07\n",
      "     ---------------------                    7.9/14.6 MB 1.0 MB/s eta 0:00:07\n",
      "     ---------------------                    7.9/14.6 MB 1.0 MB/s eta 0:00:07\n",
      "     ---------------------                    8.0/14.6 MB 1.0 MB/s eta 0:00:07\n",
      "     ---------------------                    8.0/14.6 MB 1.0 MB/s eta 0:00:07\n",
      "     ----------------------                   8.1/14.6 MB 1.0 MB/s eta 0:00:07\n",
      "     ----------------------                   8.1/14.6 MB 1.0 MB/s eta 0:00:07\n",
      "     ----------------------                   8.1/14.6 MB 1.0 MB/s eta 0:00:07\n",
      "     ----------------------                   8.2/14.6 MB 1.0 MB/s eta 0:00:07\n",
      "     ----------------------                   8.3/14.6 MB 1.0 MB/s eta 0:00:07\n",
      "     ----------------------                   8.3/14.6 MB 1.0 MB/s eta 0:00:07\n",
      "     ----------------------                   8.3/14.6 MB 1.0 MB/s eta 0:00:07\n",
      "     ----------------------                   8.4/14.6 MB 1.0 MB/s eta 0:00:07\n",
      "     ----------------------                   8.4/14.6 MB 1.0 MB/s eta 0:00:07\n",
      "     -----------------------                  8.4/14.6 MB 1.0 MB/s eta 0:00:07\n",
      "     -----------------------                  8.5/14.6 MB 1.0 MB/s eta 0:00:07\n",
      "     -----------------------                  8.5/14.6 MB 1.0 MB/s eta 0:00:07\n",
      "     -----------------------                  8.5/14.6 MB 1.0 MB/s eta 0:00:07\n",
      "     -----------------------                  8.6/14.6 MB 1.0 MB/s eta 0:00:07\n",
      "     -----------------------                  8.7/14.6 MB 1.0 MB/s eta 0:00:06\n",
      "     -----------------------                  8.7/14.6 MB 1.0 MB/s eta 0:00:06\n",
      "     -----------------------                  8.7/14.6 MB 1.0 MB/s eta 0:00:06\n",
      "     ------------------------                 8.8/14.6 MB 1.0 MB/s eta 0:00:06\n",
      "     ------------------------                 8.8/14.6 MB 1.0 MB/s eta 0:00:06\n",
      "     ------------------------                 8.9/14.6 MB 1.0 MB/s eta 0:00:06\n",
      "     ------------------------                 8.9/14.6 MB 1.0 MB/s eta 0:00:06\n",
      "     ------------------------                 9.0/14.6 MB 1.0 MB/s eta 0:00:06\n",
      "     ------------------------                 9.0/14.6 MB 1.0 MB/s eta 0:00:06\n",
      "     ------------------------                 9.1/14.6 MB 1.0 MB/s eta 0:00:06\n",
      "     ------------------------                 9.1/14.6 MB 1.0 MB/s eta 0:00:06\n",
      "     ------------------------                 9.1/14.6 MB 1.0 MB/s eta 0:00:06\n",
      "     -------------------------                9.2/14.6 MB 1.0 MB/s eta 0:00:06\n",
      "     -------------------------                9.2/14.6 MB 1.0 MB/s eta 0:00:06\n",
      "     -------------------------                9.2/14.6 MB 1.0 MB/s eta 0:00:06\n",
      "     ------------------------                9.2/14.6 MB 994.1 kB/s eta 0:00:06\n",
      "     ------------------------                9.3/14.6 MB 992.9 kB/s eta 0:00:06\n",
      "     -------------------------               9.4/14.6 MB 998.3 kB/s eta 0:00:06\n",
      "     -------------------------               9.4/14.6 MB 998.3 kB/s eta 0:00:06\n",
      "     -------------------------               9.4/14.6 MB 993.2 kB/s eta 0:00:06\n",
      "     -------------------------               9.5/14.6 MB 994.3 kB/s eta 0:00:06\n",
      "     -------------------------               9.5/14.6 MB 993.7 kB/s eta 0:00:06\n",
      "     -------------------------               9.6/14.6 MB 992.6 kB/s eta 0:00:06\n",
      "     -------------------------               9.6/14.6 MB 994.1 kB/s eta 0:00:06\n",
      "     -------------------------               9.6/14.6 MB 993.1 kB/s eta 0:00:06\n",
      "     -------------------------               9.6/14.6 MB 993.1 kB/s eta 0:00:06\n",
      "     -------------------------               9.7/14.6 MB 994.0 kB/s eta 0:00:05\n",
      "     --------------------------              9.8/14.6 MB 990.8 kB/s eta 0:00:05\n",
      "     --------------------------              9.8/14.6 MB 990.8 kB/s eta 0:00:05\n",
      "     --------------------------              9.8/14.6 MB 990.8 kB/s eta 0:00:05\n",
      "     --------------------------              9.9/14.6 MB 985.1 kB/s eta 0:00:05\n",
      "     --------------------------              9.9/14.6 MB 986.6 kB/s eta 0:00:05\n",
      "     -------------------------              10.0/14.6 MB 983.5 kB/s eta 0:00:05\n",
      "     --------------------------             10.0/14.6 MB 988.1 kB/s eta 0:00:05\n",
      "     --------------------------             10.1/14.6 MB 987.0 kB/s eta 0:00:05\n",
      "     --------------------------             10.1/14.6 MB 987.0 kB/s eta 0:00:05\n",
      "     --------------------------             10.2/14.6 MB 986.5 kB/s eta 0:00:05\n",
      "     --------------------------             10.2/14.6 MB 984.5 kB/s eta 0:00:05\n",
      "     --------------------------             10.3/14.6 MB 984.5 kB/s eta 0:00:05\n",
      "     --------------------------             10.3/14.6 MB 978.6 kB/s eta 0:00:05\n",
      "     --------------------------             10.3/14.6 MB 983.0 kB/s eta 0:00:05\n",
      "     --------------------------             10.4/14.6 MB 984.5 kB/s eta 0:00:05\n",
      "     --------------------------             10.4/14.6 MB 980.0 kB/s eta 0:00:05\n",
      "     --------------------------             10.4/14.6 MB 980.0 kB/s eta 0:00:05\n",
      "     ---------------------------            10.4/14.6 MB 974.3 kB/s eta 0:00:05\n",
      "     ---------------------------            10.5/14.6 MB 974.3 kB/s eta 0:00:05\n",
      "     ---------------------------            10.5/14.6 MB 972.9 kB/s eta 0:00:05\n",
      "     ---------------------------            10.5/14.6 MB 969.9 kB/s eta 0:00:05\n",
      "     ---------------------------            10.6/14.6 MB 975.7 kB/s eta 0:00:05\n",
      "     ---------------------------            10.6/14.6 MB 970.0 kB/s eta 0:00:05\n",
      "     ---------------------------            10.7/14.6 MB 964.3 kB/s eta 0:00:05\n",
      "     ---------------------------            10.7/14.6 MB 968.5 kB/s eta 0:00:05\n",
      "     ---------------------------            10.7/14.6 MB 962.8 kB/s eta 0:00:05\n",
      "     ---------------------------            10.8/14.6 MB 962.8 kB/s eta 0:00:05\n",
      "     ---------------------------            10.8/14.6 MB 958.6 kB/s eta 0:00:05\n",
      "     ----------------------------           10.8/14.6 MB 954.4 kB/s eta 0:00:05\n",
      "     ----------------------------           10.9/14.6 MB 954.4 kB/s eta 0:00:04\n",
      "     ----------------------------           10.9/14.6 MB 965.7 kB/s eta 0:00:04\n",
      "     ----------------------------           11.0/14.6 MB 958.6 kB/s eta 0:00:04\n",
      "     ----------------------------           11.0/14.6 MB 959.9 kB/s eta 0:00:04\n",
      "     ----------------------------           11.0/14.6 MB 952.9 kB/s eta 0:00:04\n",
      "     ----------------------------           11.1/14.6 MB 951.6 kB/s eta 0:00:04\n",
      "     ----------------------------           11.1/14.6 MB 946.1 kB/s eta 0:00:04\n",
      "     ----------------------------           11.2/14.6 MB 944.8 kB/s eta 0:00:04\n",
      "     -----------------------------          11.2/14.6 MB 947.5 kB/s eta 0:00:04\n",
      "     -----------------------------          11.2/14.6 MB 944.8 kB/s eta 0:00:04\n",
      "     -----------------------------          11.2/14.6 MB 939.3 kB/s eta 0:00:04\n",
      "     -----------------------------          11.2/14.6 MB 939.3 kB/s eta 0:00:04\n",
      "     -----------------------------          11.2/14.6 MB 939.3 kB/s eta 0:00:04\n",
      "     -----------------------------          11.4/14.6 MB 936.6 kB/s eta 0:00:04\n",
      "     -----------------------------          11.4/14.6 MB 934.0 kB/s eta 0:00:04\n",
      "     -----------------------------          11.4/14.6 MB 934.0 kB/s eta 0:00:04\n",
      "     -----------------------------          11.5/14.6 MB 930.0 kB/s eta 0:00:04\n",
      "     -----------------------------          11.5/14.6 MB 927.3 kB/s eta 0:00:04\n",
      "     ------------------------------         11.6/14.6 MB 928.6 kB/s eta 0:00:04\n",
      "     ------------------------------         11.6/14.6 MB 928.6 kB/s eta 0:00:04\n",
      "     ------------------------------         11.6/14.6 MB 928.6 kB/s eta 0:00:04\n",
      "     ------------------------------         11.6/14.6 MB 918.2 kB/s eta 0:00:04\n",
      "     ------------------------------         11.6/14.6 MB 918.2 kB/s eta 0:00:04\n",
      "     ------------------------------         11.7/14.6 MB 914.4 kB/s eta 0:00:04\n",
      "     ------------------------------         11.7/14.6 MB 914.4 kB/s eta 0:00:04\n",
      "     ------------------------------         11.8/14.6 MB 910.6 kB/s eta 0:00:04\n",
      "     ------------------------------         11.8/14.6 MB 910.5 kB/s eta 0:00:04\n",
      "     ------------------------------         11.8/14.6 MB 910.5 kB/s eta 0:00:04\n",
      "     ------------------------------         11.8/14.6 MB 910.5 kB/s eta 0:00:04\n",
      "     ------------------------------         11.9/14.6 MB 908.0 kB/s eta 0:00:04\n",
      "     ------------------------------         11.9/14.6 MB 908.0 kB/s eta 0:00:04\n",
      "     ------------------------------         11.9/14.6 MB 901.8 kB/s eta 0:00:03\n",
      "     -------------------------------        12.0/14.6 MB 900.5 kB/s eta 0:00:03\n",
      "     -------------------------------        12.0/14.6 MB 899.3 kB/s eta 0:00:03\n",
      "     -------------------------------        12.1/14.6 MB 898.1 kB/s eta 0:00:03\n",
      "     -------------------------------        12.1/14.6 MB 896.9 kB/s eta 0:00:03\n",
      "     -------------------------------        12.1/14.6 MB 896.9 kB/s eta 0:00:03\n",
      "     -------------------------------        12.1/14.6 MB 896.9 kB/s eta 0:00:03\n",
      "     -------------------------------        12.2/14.6 MB 894.4 kB/s eta 0:00:03\n",
      "     -------------------------------        12.2/14.6 MB 895.6 kB/s eta 0:00:03\n",
      "     -------------------------------        12.2/14.6 MB 895.6 kB/s eta 0:00:03\n",
      "     -------------------------------        12.2/14.6 MB 895.6 kB/s eta 0:00:03\n",
      "     -------------------------------        12.3/14.6 MB 890.8 kB/s eta 0:00:03\n",
      "     -------------------------------        12.3/14.6 MB 887.2 kB/s eta 0:00:03\n",
      "     --------------------------------       12.4/14.6 MB 883.6 kB/s eta 0:00:03\n",
      "     --------------------------------       12.4/14.6 MB 884.7 kB/s eta 0:00:03\n",
      "     --------------------------------       12.4/14.6 MB 882.3 kB/s eta 0:00:03\n",
      "     --------------------------------       12.4/14.6 MB 878.8 kB/s eta 0:00:03\n",
      "     --------------------------------       12.5/14.6 MB 880.0 kB/s eta 0:00:03\n",
      "     --------------------------------       12.5/14.6 MB 875.2 kB/s eta 0:00:03\n",
      "     --------------------------------       12.5/14.6 MB 875.2 kB/s eta 0:00:03\n",
      "     --------------------------------       12.5/14.6 MB 869.4 kB/s eta 0:00:03\n",
      "     --------------------------------       12.5/14.6 MB 867.1 kB/s eta 0:00:03\n",
      "     --------------------------------       12.6/14.6 MB 863.7 kB/s eta 0:00:03\n",
      "     --------------------------------       12.6/14.6 MB 866.0 kB/s eta 0:00:03\n",
      "     --------------------------------       12.6/14.6 MB 866.0 kB/s eta 0:00:03\n",
      "     --------------------------------       12.7/14.6 MB 870.6 kB/s eta 0:00:03\n",
      "     --------------------------------       12.7/14.6 MB 868.3 kB/s eta 0:00:03\n",
      "     ---------------------------------      12.8/14.6 MB 866.0 kB/s eta 0:00:03\n",
      "     ---------------------------------      12.8/14.6 MB 862.6 kB/s eta 0:00:03\n",
      "     ---------------------------------      12.8/14.6 MB 862.6 kB/s eta 0:00:03\n",
      "     ---------------------------------      12.9/14.6 MB 862.6 kB/s eta 0:00:03\n",
      "     ---------------------------------      12.9/14.6 MB 859.2 kB/s eta 0:00:03\n",
      "     ---------------------------------      13.0/14.6 MB 860.3 kB/s eta 0:00:02\n",
      "     ---------------------------------      13.0/14.6 MB 861.5 kB/s eta 0:00:02\n",
      "     ---------------------------------      13.0/14.6 MB 858.1 kB/s eta 0:00:02\n",
      "     ---------------------------------      13.0/14.6 MB 858.1 kB/s eta 0:00:02\n",
      "     ---------------------------------      13.1/14.6 MB 857.0 kB/s eta 0:00:02\n",
      "     ---------------------------------      13.1/14.6 MB 857.0 kB/s eta 0:00:02\n",
      "     ---------------------------------      13.1/14.6 MB 857.0 kB/s eta 0:00:02\n",
      "     ----------------------------------     13.1/14.6 MB 856.9 kB/s eta 0:00:02\n",
      "     ----------------------------------     13.2/14.6 MB 854.8 kB/s eta 0:00:02\n",
      "     ----------------------------------     13.3/14.6 MB 855.8 kB/s eta 0:00:02\n",
      "     ----------------------------------     13.3/14.6 MB 855.8 kB/s eta 0:00:02\n",
      "     ----------------------------------     13.4/14.6 MB 855.8 kB/s eta 0:00:02\n",
      "     ----------------------------------     13.4/14.6 MB 855.8 kB/s eta 0:00:02\n",
      "     ----------------------------------     13.4/14.6 MB 851.4 kB/s eta 0:00:02\n",
      "     ----------------------------------     13.4/14.6 MB 854.7 kB/s eta 0:00:02\n",
      "     -----------------------------------    13.5/14.6 MB 857.0 kB/s eta 0:00:02\n",
      "     -----------------------------------    13.5/14.6 MB 857.0 kB/s eta 0:00:02\n",
      "     -----------------------------------    13.6/14.6 MB 850.3 kB/s eta 0:00:02\n",
      "     -----------------------------------    13.6/14.6 MB 849.2 kB/s eta 0:00:02\n",
      "     -----------------------------------    13.6/14.6 MB 845.9 kB/s eta 0:00:02\n",
      "     -----------------------------------    13.7/14.6 MB 849.2 kB/s eta 0:00:02\n",
      "     -----------------------------------    13.7/14.6 MB 848.1 kB/s eta 0:00:02\n",
      "     -----------------------------------    13.7/14.6 MB 845.9 kB/s eta 0:00:02\n",
      "     -----------------------------------    13.7/14.6 MB 843.7 kB/s eta 0:00:02\n",
      "     -----------------------------------    13.8/14.6 MB 840.4 kB/s eta 0:00:02\n",
      "     -----------------------------------    13.8/14.6 MB 840.4 kB/s eta 0:00:02\n",
      "     -----------------------------------    13.8/14.6 MB 840.4 kB/s eta 0:00:01\n",
      "     -----------------------------------    13.8/14.6 MB 840.4 kB/s eta 0:00:01\n",
      "     -----------------------------------    13.8/14.6 MB 840.4 kB/s eta 0:00:01\n",
      "     -----------------------------------    13.8/14.6 MB 840.4 kB/s eta 0:00:01\n",
      "     -----------------------------------    13.8/14.6 MB 840.4 kB/s eta 0:00:01\n",
      "     -----------------------------------    13.8/14.6 MB 840.4 kB/s eta 0:00:01\n",
      "     ------------------------------------   14.0/14.6 MB 825.6 kB/s eta 0:00:01\n",
      "     ------------------------------------   14.0/14.6 MB 825.6 kB/s eta 0:00:01\n",
      "     ------------------------------------   14.1/14.6 MB 823.5 kB/s eta 0:00:01\n",
      "     ------------------------------------   14.1/14.6 MB 823.5 kB/s eta 0:00:01\n",
      "     ------------------------------------   14.1/14.6 MB 823.5 kB/s eta 0:00:01\n",
      "     ------------------------------------   14.1/14.6 MB 823.5 kB/s eta 0:00:01\n",
      "     ------------------------------------   14.2/14.6 MB 816.4 kB/s eta 0:00:01\n",
      "     ------------------------------------   14.2/14.6 MB 814.3 kB/s eta 0:00:01\n",
      "     ------------------------------------   14.2/14.6 MB 814.3 kB/s eta 0:00:01\n",
      "     -------------------------------------  14.3/14.6 MB 817.4 kB/s eta 0:00:01\n",
      "     -------------------------------------  14.3/14.6 MB 822.5 kB/s eta 0:00:01\n",
      "     -------------------------------------  14.3/14.6 MB 821.5 kB/s eta 0:00:01\n",
      "     -------------------------------------  14.4/14.6 MB 816.4 kB/s eta 0:00:01\n",
      "     -------------------------------------  14.4/14.6 MB 819.4 kB/s eta 0:00:01\n",
      "     -------------------------------------  14.4/14.6 MB 819.4 kB/s eta 0:00:01\n",
      "     -------------------------------------  14.4/14.6 MB 819.4 kB/s eta 0:00:01\n",
      "     -------------------------------------  14.4/14.6 MB 812.3 kB/s eta 0:00:01\n",
      "     -------------------------------------  14.5/14.6 MB 811.3 kB/s eta 0:00:01\n",
      "     -------------------------------------  14.6/14.6 MB 811.3 kB/s eta 0:00:01\n",
      "     -------------------------------------  14.6/14.6 MB 806.3 kB/s eta 0:00:01\n",
      "     -------------------------------------  14.6/14.6 MB 808.3 kB/s eta 0:00:01\n",
      "     -------------------------------------  14.6/14.6 MB 811.2 kB/s eta 0:00:01\n",
      "     -------------------------------------  14.6/14.6 MB 811.2 kB/s eta 0:00:01\n",
      "     -------------------------------------- 14.6/14.6 MB 802.0 kB/s eta 0:00:00\n",
      "Collecting opt-einsum>=2.3.2 (from tensorflow-intel==2.12.0->tensorflow)\n",
      "  Using cached opt_einsum-3.3.0-py3-none-any.whl (65 kB)\n",
      "Requirement already satisfied: packaging in c:\\users\\ducat\\appdata\\roaming\\python\\python311\\site-packages (from tensorflow-intel==2.12.0->tensorflow) (23.0)\n",
      "Collecting protobuf!=4.21.0,!=4.21.1,!=4.21.2,!=4.21.3,!=4.21.4,!=4.21.5,<5.0.0dev,>=3.20.3 (from tensorflow-intel==2.12.0->tensorflow)\n",
      "  Downloading protobuf-4.22.4-cp310-abi3-win_amd64.whl (420 kB)\n",
      "                                              0.0/420.6 kB ? eta -:--:--\n",
      "                                              0.0/420.6 kB ? eta -:--:--\n",
      "     ---                                      41.0/420.6 kB ? eta -:--:--\n",
      "     -----                                   61.4/420.6 kB 1.1 MB/s eta 0:00:01\n",
      "     ------                                71.7/420.6 kB 653.6 kB/s eta 0:00:01\n",
      "     -------                               81.9/420.6 kB 657.6 kB/s eta 0:00:01\n",
      "     ---------                            112.6/420.6 kB 544.7 kB/s eta 0:00:01\n",
      "     --------------                       174.1/420.6 kB 748.1 kB/s eta 0:00:01\n",
      "     -------------------                  225.3/420.6 kB 687.0 kB/s eta 0:00:01\n",
      "     -------------------                  225.3/420.6 kB 687.0 kB/s eta 0:00:01\n",
      "     -----------------------              276.5/420.6 kB 655.8 kB/s eta 0:00:01\n",
      "     --------------------------           307.2/420.6 kB 633.2 kB/s eta 0:00:01\n",
      "     ----------------------------         327.7/420.6 kB 655.9 kB/s eta 0:00:01\n",
      "     ----------------------------         337.9/420.6 kB 582.0 kB/s eta 0:00:01\n",
      "     -------------------------------      368.6/420.6 kB 588.5 kB/s eta 0:00:01\n",
      "     ------------------------------------ 420.6/420.6 kB 625.6 kB/s eta 0:00:00\n",
      "Requirement already satisfied: setuptools in c:\\users\\ducat\\appdata\\local\\programs\\python\\python311\\lib\\site-packages (from tensorflow-intel==2.12.0->tensorflow) (65.5.0)\n",
      "Requirement already satisfied: six>=1.12.0 in c:\\users\\ducat\\appdata\\roaming\\python\\python311\\site-packages (from tensorflow-intel==2.12.0->tensorflow) (1.16.0)\n",
      "Collecting termcolor>=1.1.0 (from tensorflow-intel==2.12.0->tensorflow)\n",
      "  Downloading termcolor-2.3.0-py3-none-any.whl (6.9 kB)\n",
      "Collecting typing-extensions>=3.6.6 (from tensorflow-intel==2.12.0->tensorflow)\n",
      "  Downloading typing_extensions-4.5.0-py3-none-any.whl (27 kB)\n",
      "Collecting wrapt<1.15,>=1.11.0 (from tensorflow-intel==2.12.0->tensorflow)\n",
      "  Downloading wrapt-1.14.1.tar.gz (50 kB)\n",
      "                                              0.0/50.9 kB ? eta -:--:--\n",
      "                                              0.0/50.9 kB ? eta -:--:--\n",
      "                                              0.0/50.9 kB ? eta -:--:--\n",
      "     --------                                 10.2/50.9 kB ? eta -:--:--\n",
      "     ------------------------------         41.0/50.9 kB 653.6 kB/s eta 0:00:01\n",
      "     -------------------------------------- 50.9/50.9 kB 655.6 kB/s eta 0:00:00\n",
      "  Installing build dependencies: started\n",
      "  Installing build dependencies: finished with status 'done'\n",
      "  Getting requirements to build wheel: started\n",
      "  Getting requirements to build wheel: finished with status 'done'\n",
      "  Preparing metadata (pyproject.toml): started\n",
      "  Preparing metadata (pyproject.toml): finished with status 'done'\n",
      "Collecting grpcio<2.0,>=1.24.3 (from tensorflow-intel==2.12.0->tensorflow)\n",
      "  Downloading grpcio-1.54.0-cp311-cp311-win_amd64.whl (4.1 MB)\n",
      "                                              0.0/4.1 MB ? eta -:--:--\n",
      "                                              0.0/4.1 MB ? eta -:--:--\n",
      "                                              0.0/4.1 MB ? eta -:--:--\n",
      "                                              0.0/4.1 MB 487.6 kB/s eta 0:00:09\n",
      "                                              0.1/4.1 MB 655.4 kB/s eta 0:00:07\n",
      "                                              0.1/4.1 MB 655.4 kB/s eta 0:00:07\n",
      "     -                                        0.1/4.1 MB 554.9 kB/s eta 0:00:08\n",
      "     -                                        0.1/4.1 MB 532.5 kB/s eta 0:00:08\n",
      "     -                                        0.1/4.1 MB 532.5 kB/s eta 0:00:08\n",
      "     -                                        0.2/4.1 MB 535.8 kB/s eta 0:00:08\n",
      "     --                                       0.2/4.1 MB 518.8 kB/s eta 0:00:08\n",
      "     --                                       0.2/4.1 MB 533.8 kB/s eta 0:00:08\n",
      "     --                                       0.3/4.1 MB 491.5 kB/s eta 0:00:08\n",
      "     --                                       0.3/4.1 MB 491.5 kB/s eta 0:00:08\n",
      "     ---                                      0.3/4.1 MB 499.9 kB/s eta 0:00:08\n",
      "     ---                                      0.3/4.1 MB 517.2 kB/s eta 0:00:08\n",
      "     ---                                      0.4/4.1 MB 529.9 kB/s eta 0:00:08\n",
      "     ---                                      0.4/4.1 MB 529.9 kB/s eta 0:00:08\n",
      "     ---                                      0.4/4.1 MB 505.2 kB/s eta 0:00:08\n",
      "     ---                                      0.4/4.1 MB 478.6 kB/s eta 0:00:08\n",
      "     ----                                     0.4/4.1 MB 494.7 kB/s eta 0:00:08\n",
      "     ----                                     0.4/4.1 MB 482.7 kB/s eta 0:00:08\n",
      "     ----                                     0.5/4.1 MB 494.3 kB/s eta 0:00:08\n",
      "     ----                                     0.5/4.1 MB 494.3 kB/s eta 0:00:08\n",
      "     ----                                     0.5/4.1 MB 494.3 kB/s eta 0:00:08\n",
      "     -----                                    0.5/4.1 MB 470.5 kB/s eta 0:00:08\n",
      "     -----                                    0.6/4.1 MB 475.7 kB/s eta 0:00:08\n",
      "     -----                                    0.6/4.1 MB 489.3 kB/s eta 0:00:08\n",
      "     ------                                   0.6/4.1 MB 499.7 kB/s eta 0:00:07\n",
      "     ------                                   0.6/4.1 MB 495.2 kB/s eta 0:00:07\n",
      "     ------                                   0.7/4.1 MB 508.9 kB/s eta 0:00:07\n",
      "     -------                                  0.7/4.1 MB 508.0 kB/s eta 0:00:07\n",
      "     -------                                  0.7/4.1 MB 505.6 kB/s eta 0:00:07\n",
      "     -------                                  0.8/4.1 MB 508.9 kB/s eta 0:00:07\n",
      "     -------                                  0.8/4.1 MB 508.0 kB/s eta 0:00:07\n",
      "     -------                                  0.8/4.1 MB 516.3 kB/s eta 0:00:07\n",
      "     --------                                 0.8/4.1 MB 512.6 kB/s eta 0:00:07\n",
      "     --------                                 0.8/4.1 MB 500.6 kB/s eta 0:00:07\n",
      "     --------                                 0.8/4.1 MB 500.6 kB/s eta 0:00:07\n",
      "     --------                                 0.9/4.1 MB 487.1 kB/s eta 0:00:07\n",
      "     --------                                 0.9/4.1 MB 494.2 kB/s eta 0:00:07\n",
      "     ---------                                0.9/4.1 MB 490.0 kB/s eta 0:00:07\n",
      "     ---------                                0.9/4.1 MB 490.0 kB/s eta 0:00:07\n",
      "     ---------                                0.9/4.1 MB 484.8 kB/s eta 0:00:07\n",
      "     ---------                                1.0/4.1 MB 486.4 kB/s eta 0:00:07\n",
      "     ---------                                1.0/4.1 MB 486.4 kB/s eta 0:00:07\n",
      "     ---------                                1.0/4.1 MB 486.4 kB/s eta 0:00:07\n",
      "     ----------                               1.0/4.1 MB 486.7 kB/s eta 0:00:07\n",
      "     ----------                               1.0/4.1 MB 486.7 kB/s eta 0:00:07\n",
      "     ----------                               1.0/4.1 MB 486.7 kB/s eta 0:00:07\n",
      "     ----------                               1.1/4.1 MB 480.1 kB/s eta 0:00:07\n",
      "     -----------                              1.1/4.1 MB 482.6 kB/s eta 0:00:07\n",
      "     -----------                              1.1/4.1 MB 482.6 kB/s eta 0:00:07\n",
      "     -----------                              1.2/4.1 MB 473.5 kB/s eta 0:00:07\n",
      "     -----------                              1.2/4.1 MB 473.5 kB/s eta 0:00:07\n",
      "     -----------                              1.2/4.1 MB 473.5 kB/s eta 0:00:07\n",
      "     -----------                              1.2/4.1 MB 459.5 kB/s eta 0:00:07\n",
      "     -----------                              1.2/4.1 MB 464.7 kB/s eta 0:00:07\n",
      "     -----------                              1.2/4.1 MB 464.7 kB/s eta 0:00:07\n",
      "     ------------                             1.3/4.1 MB 462.2 kB/s eta 0:00:07\n",
      "     ------------                             1.3/4.1 MB 462.2 kB/s eta 0:00:07\n",
      "     ------------                             1.3/4.1 MB 462.2 kB/s eta 0:00:07\n",
      "     ------------                             1.3/4.1 MB 453.7 kB/s eta 0:00:07\n",
      "     ------------                             1.3/4.1 MB 453.7 kB/s eta 0:00:07\n",
      "     ------------                             1.3/4.1 MB 453.7 kB/s eta 0:00:07\n",
      "     ------------                             1.3/4.1 MB 453.7 kB/s eta 0:00:07\n",
      "     ------------                             1.3/4.1 MB 428.9 kB/s eta 0:00:07\n",
      "     ------------                             1.3/4.1 MB 428.9 kB/s eta 0:00:07\n",
      "     -------------                            1.4/4.1 MB 441.2 kB/s eta 0:00:07\n",
      "     -------------                            1.4/4.1 MB 441.2 kB/s eta 0:00:07\n",
      "     -------------                            1.4/4.1 MB 441.2 kB/s eta 0:00:07\n",
      "     --------------                           1.4/4.1 MB 431.7 kB/s eta 0:00:07\n",
      "     --------------                           1.4/4.1 MB 431.7 kB/s eta 0:00:07\n",
      "     --------------                           1.5/4.1 MB 426.8 kB/s eta 0:00:07\n",
      "     --------------                           1.5/4.1 MB 428.0 kB/s eta 0:00:07\n",
      "     --------------                           1.5/4.1 MB 428.0 kB/s eta 0:00:07\n",
      "     --------------                           1.5/4.1 MB 429.1 kB/s eta 0:00:06\n",
      "     --------------                           1.5/4.1 MB 429.1 kB/s eta 0:00:06\n",
      "     ---------------                          1.5/4.1 MB 423.7 kB/s eta 0:00:07\n",
      "     ---------------                          1.5/4.1 MB 423.7 kB/s eta 0:00:07\n",
      "     ---------------                          1.5/4.1 MB 423.7 kB/s eta 0:00:07\n",
      "     ---------------                          1.6/4.1 MB 421.5 kB/s eta 0:00:06\n",
      "     ---------------                          1.6/4.1 MB 417.3 kB/s eta 0:00:06\n",
      "     ----------------                         1.6/4.1 MB 420.2 kB/s eta 0:00:06\n",
      "     ----------------                         1.6/4.1 MB 420.2 kB/s eta 0:00:06\n",
      "     ----------------                         1.7/4.1 MB 423.8 kB/s eta 0:00:06\n",
      "     ----------------                         1.7/4.1 MB 421.6 kB/s eta 0:00:06\n",
      "     ----------------                         1.7/4.1 MB 420.9 kB/s eta 0:00:06\n",
      "     -----------------                        1.7/4.1 MB 422.7 kB/s eta 0:00:06\n",
      "     -----------------                        1.7/4.1 MB 422.7 kB/s eta 0:00:06\n",
      "     -----------------                        1.8/4.1 MB 417.5 kB/s eta 0:00:06\n",
      "     -----------------                        1.8/4.1 MB 417.7 kB/s eta 0:00:06\n",
      "     -----------------                        1.8/4.1 MB 417.0 kB/s eta 0:00:06\n",
      "     -----------------                        1.8/4.1 MB 417.0 kB/s eta 0:00:06\n",
      "     -----------------                        1.8/4.1 MB 417.0 kB/s eta 0:00:06\n",
      "     ------------------                       1.9/4.1 MB 413.9 kB/s eta 0:00:06\n",
      "     ------------------                       1.9/4.1 MB 417.0 kB/s eta 0:00:06\n",
      "     ------------------                       1.9/4.1 MB 416.6 kB/s eta 0:00:06\n",
      "     ------------------                       1.9/4.1 MB 416.6 kB/s eta 0:00:06\n",
      "     ------------------                       1.9/4.1 MB 416.2 kB/s eta 0:00:06\n",
      "     ------------------                       1.9/4.1 MB 416.2 kB/s eta 0:00:06\n",
      "     -------------------                      2.0/4.1 MB 413.1 kB/s eta 0:00:06\n",
      "     -------------------                      2.0/4.1 MB 413.3 kB/s eta 0:00:06\n",
      "     -------------------                      2.0/4.1 MB 413.3 kB/s eta 0:00:06\n",
      "     -------------------                      2.0/4.1 MB 410.9 kB/s eta 0:00:06\n",
      "     -------------------                      2.0/4.1 MB 410.9 kB/s eta 0:00:06\n",
      "     --------------------                     2.0/4.1 MB 410.1 kB/s eta 0:00:05\n",
      "     --------------------                     2.0/4.1 MB 410.1 kB/s eta 0:00:05\n",
      "     --------------------                     2.1/4.1 MB 413.1 kB/s eta 0:00:05\n",
      "     --------------------                     2.1/4.1 MB 413.1 kB/s eta 0:00:05\n",
      "     --------------------                     2.1/4.1 MB 411.0 kB/s eta 0:00:05\n",
      "     --------------------                     2.1/4.1 MB 411.0 kB/s eta 0:00:05\n",
      "     ---------------------                    2.2/4.1 MB 409.6 kB/s eta 0:00:05\n",
      "     ---------------------                    2.2/4.1 MB 409.6 kB/s eta 0:00:05\n",
      "     ---------------------                    2.2/4.1 MB 409.4 kB/s eta 0:00:05\n",
      "     ---------------------                    2.2/4.1 MB 410.3 kB/s eta 0:00:05\n",
      "     ---------------------                    2.2/4.1 MB 409.4 kB/s eta 0:00:05\n",
      "     ----------------------                   2.3/4.1 MB 412.6 kB/s eta 0:00:05\n",
      "     ----------------------                   2.3/4.1 MB 414.0 kB/s eta 0:00:05\n",
      "     ----------------------                   2.3/4.1 MB 414.0 kB/s eta 0:00:05\n",
      "     ----------------------                   2.3/4.1 MB 413.2 kB/s eta 0:00:05\n",
      "     -----------------------                  2.4/4.1 MB 415.2 kB/s eta 0:00:05\n",
      "     -----------------------                  2.4/4.1 MB 415.2 kB/s eta 0:00:05\n",
      "     -----------------------                  2.4/4.1 MB 409.1 kB/s eta 0:00:05\n",
      "     -----------------------                  2.4/4.1 MB 410.4 kB/s eta 0:00:05\n",
      "     -----------------------                  2.4/4.1 MB 410.6 kB/s eta 0:00:05\n",
      "     -----------------------                  2.4/4.1 MB 410.6 kB/s eta 0:00:05\n",
      "     ------------------------                 2.5/4.1 MB 410.0 kB/s eta 0:00:04\n",
      "     ------------------------                 2.5/4.1 MB 411.3 kB/s eta 0:00:04\n",
      "     ------------------------                 2.5/4.1 MB 415.5 kB/s eta 0:00:04\n",
      "     ------------------------                 2.5/4.1 MB 414.0 kB/s eta 0:00:04\n",
      "     -------------------------                2.6/4.1 MB 416.3 kB/s eta 0:00:04\n",
      "     -------------------------                2.6/4.1 MB 414.4 kB/s eta 0:00:04\n",
      "     -------------------------                2.6/4.1 MB 412.9 kB/s eta 0:00:04\n",
      "     -------------------------                2.6/4.1 MB 413.0 kB/s eta 0:00:04\n",
      "     -------------------------                2.6/4.1 MB 413.6 kB/s eta 0:00:04\n",
      "     -------------------------                2.6/4.1 MB 413.8 kB/s eta 0:00:04\n",
      "     --------------------------               2.7/4.1 MB 413.0 kB/s eta 0:00:04\n",
      "     --------------------------               2.7/4.1 MB 414.7 kB/s eta 0:00:04\n",
      "     --------------------------               2.7/4.1 MB 415.4 kB/s eta 0:00:04\n",
      "     --------------------------               2.7/4.1 MB 415.6 kB/s eta 0:00:04\n",
      "     --------------------------               2.8/4.1 MB 415.2 kB/s eta 0:00:04\n",
      "     ---------------------------              2.8/4.1 MB 416.3 kB/s eta 0:00:04\n",
      "     ---------------------------              2.8/4.1 MB 416.1 kB/s eta 0:00:04\n",
      "     ---------------------------              2.8/4.1 MB 417.2 kB/s eta 0:00:04\n",
      "     ---------------------------              2.8/4.1 MB 416.7 kB/s eta 0:00:04\n",
      "     ---------------------------              2.9/4.1 MB 416.9 kB/s eta 0:00:03\n",
      "     ---------------------------              2.9/4.1 MB 416.9 kB/s eta 0:00:03\n",
      "     ----------------------------             2.9/4.1 MB 414.7 kB/s eta 0:00:03\n",
      "     ----------------------------             2.9/4.1 MB 414.7 kB/s eta 0:00:03\n",
      "     ----------------------------             2.9/4.1 MB 414.7 kB/s eta 0:00:03\n",
      "     ----------------------------             2.9/4.1 MB 414.3 kB/s eta 0:00:03\n",
      "     -----------------------------            3.0/4.1 MB 414.4 kB/s eta 0:00:03\n",
      "     -----------------------------            3.0/4.1 MB 414.4 kB/s eta 0:00:03\n",
      "     -----------------------------            3.0/4.1 MB 411.4 kB/s eta 0:00:03\n",
      "     -----------------------------            3.0/4.1 MB 410.6 kB/s eta 0:00:03\n",
      "     -----------------------------            3.0/4.1 MB 410.3 kB/s eta 0:00:03\n",
      "     -----------------------------            3.0/4.1 MB 409.6 kB/s eta 0:00:03\n",
      "     ------------------------------           3.1/4.1 MB 413.0 kB/s eta 0:00:03\n",
      "     ------------------------------           3.1/4.1 MB 413.0 kB/s eta 0:00:03\n",
      "     ------------------------------           3.1/4.1 MB 411.0 kB/s eta 0:00:03\n",
      "     ------------------------------           3.1/4.1 MB 412.1 kB/s eta 0:00:03\n",
      "     ------------------------------           3.1/4.1 MB 411.8 kB/s eta 0:00:03\n",
      "     ------------------------------           3.1/4.1 MB 411.8 kB/s eta 0:00:03\n",
      "     ------------------------------           3.2/4.1 MB 411.1 kB/s eta 0:00:03\n",
      "     -------------------------------          3.2/4.1 MB 409.9 kB/s eta 0:00:03\n",
      "     -------------------------------          3.2/4.1 MB 409.9 kB/s eta 0:00:03\n",
      "     -------------------------------          3.2/4.1 MB 406.8 kB/s eta 0:00:03\n",
      "     -------------------------------          3.2/4.1 MB 407.5 kB/s eta 0:00:03\n",
      "     -------------------------------          3.2/4.1 MB 409.2 kB/s eta 0:00:03\n",
      "     -------------------------------          3.2/4.1 MB 409.2 kB/s eta 0:00:03\n",
      "     --------------------------------         3.3/4.1 MB 409.2 kB/s eta 0:00:02\n",
      "     --------------------------------         3.3/4.1 MB 409.2 kB/s eta 0:00:02\n",
      "     --------------------------------         3.3/4.1 MB 407.5 kB/s eta 0:00:02\n",
      "     --------------------------------         3.3/4.1 MB 407.5 kB/s eta 0:00:02\n",
      "     --------------------------------         3.4/4.1 MB 405.9 kB/s eta 0:00:02\n",
      "     ---------------------------------        3.4/4.1 MB 408.0 kB/s eta 0:00:02\n",
      "     ---------------------------------        3.4/4.1 MB 408.0 kB/s eta 0:00:02\n",
      "     ---------------------------------        3.5/4.1 MB 409.0 kB/s eta 0:00:02\n",
      "     ---------------------------------        3.5/4.1 MB 407.9 kB/s eta 0:00:02\n",
      "     ---------------------------------        3.5/4.1 MB 407.9 kB/s eta 0:00:02\n",
      "     ----------------------------------       3.5/4.1 MB 406.6 kB/s eta 0:00:02\n",
      "     ----------------------------------       3.5/4.1 MB 406.6 kB/s eta 0:00:02\n",
      "     ----------------------------------       3.5/4.1 MB 408.1 kB/s eta 0:00:02\n",
      "     ----------------------------------       3.6/4.1 MB 408.0 kB/s eta 0:00:02\n",
      "     -----------------------------------      3.6/4.1 MB 408.1 kB/s eta 0:00:02\n",
      "     -----------------------------------      3.6/4.1 MB 408.1 kB/s eta 0:00:02\n",
      "     -----------------------------------      3.6/4.1 MB 408.1 kB/s eta 0:00:02\n",
      "     -----------------------------------      3.6/4.1 MB 408.1 kB/s eta 0:00:02\n",
      "     -----------------------------------      3.7/4.1 MB 409.5 kB/s eta 0:00:02\n",
      "     -----------------------------------      3.7/4.1 MB 409.5 kB/s eta 0:00:02\n",
      "     ------------------------------------     3.7/4.1 MB 408.6 kB/s eta 0:00:01\n",
      "     ------------------------------------     3.7/4.1 MB 411.0 kB/s eta 0:00:01\n",
      "     -------------------------------------    3.8/4.1 MB 412.6 kB/s eta 0:00:01\n",
      "     -------------------------------------    3.8/4.1 MB 416.1 kB/s eta 0:00:01\n",
      "     -------------------------------------    3.9/4.1 MB 417.7 kB/s eta 0:00:01\n",
      "     --------------------------------------   3.9/4.1 MB 421.1 kB/s eta 0:00:01\n",
      "     ---------------------------------------  4.0/4.1 MB 426.7 kB/s eta 0:00:01\n",
      "     ---------------------------------------  4.1/4.1 MB 432.6 kB/s eta 0:00:01\n",
      "     ---------------------------------------  4.1/4.1 MB 432.6 kB/s eta 0:00:01\n",
      "     ---------------------------------------- 4.1/4.1 MB 429.0 kB/s eta 0:00:00\n",
      "Collecting tensorboard<2.13,>=2.12 (from tensorflow-intel==2.12.0->tensorflow)\n",
      "  Downloading tensorboard-2.12.3-py3-none-any.whl (5.6 MB)\n",
      "                                              0.0/5.6 MB ? eta -:--:--\n",
      "                                              0.1/5.6 MB 1.1 MB/s eta 0:00:06\n",
      "     -                                        0.1/5.6 MB 1.4 MB/s eta 0:00:04\n",
      "     -                                        0.2/5.6 MB 1.3 MB/s eta 0:00:05\n",
      "     --                                       0.3/5.6 MB 1.5 MB/s eta 0:00:04\n",
      "     --                                       0.4/5.6 MB 1.5 MB/s eta 0:00:04\n",
      "     --                                       0.4/5.6 MB 1.6 MB/s eta 0:00:04\n",
      "     ---                                      0.5/5.6 MB 1.5 MB/s eta 0:00:04\n",
      "     ----                                     0.6/5.6 MB 1.6 MB/s eta 0:00:04\n",
      "     -----                                    0.7/5.6 MB 1.7 MB/s eta 0:00:03\n",
      "     -----                                    0.7/5.6 MB 1.7 MB/s eta 0:00:03\n",
      "     -----                                    0.7/5.6 MB 1.7 MB/s eta 0:00:03\n",
      "     ------                                   0.9/5.6 MB 1.7 MB/s eta 0:00:03\n",
      "     ------                                   1.0/5.6 MB 1.6 MB/s eta 0:00:03\n",
      "     --------                                 1.1/5.6 MB 1.7 MB/s eta 0:00:03\n",
      "     ---------                                1.3/5.6 MB 1.9 MB/s eta 0:00:03\n",
      "     ----------                               1.5/5.6 MB 1.9 MB/s eta 0:00:03\n",
      "     -----------                              1.6/5.6 MB 2.0 MB/s eta 0:00:03\n",
      "     ------------                             1.7/5.6 MB 2.0 MB/s eta 0:00:02\n",
      "     -------------                            1.8/5.6 MB 2.1 MB/s eta 0:00:02\n",
      "     --------------                           2.0/5.6 MB 2.1 MB/s eta 0:00:02\n",
      "     --------------                           2.0/5.6 MB 2.1 MB/s eta 0:00:02\n",
      "     ---------------                          2.2/5.6 MB 2.1 MB/s eta 0:00:02\n",
      "     ----------------                         2.3/5.6 MB 2.1 MB/s eta 0:00:02\n",
      "     ----------------                         2.4/5.6 MB 2.1 MB/s eta 0:00:02\n",
      "     ----------------                         2.4/5.6 MB 2.1 MB/s eta 0:00:02\n",
      "     ------------------                       2.6/5.6 MB 2.1 MB/s eta 0:00:02\n",
      "     ------------------                       2.7/5.6 MB 2.1 MB/s eta 0:00:02\n",
      "     --------------------                     2.9/5.6 MB 2.2 MB/s eta 0:00:02\n",
      "     ---------------------                    3.0/5.6 MB 2.2 MB/s eta 0:00:02\n",
      "     ---------------------                    3.1/5.6 MB 2.2 MB/s eta 0:00:02\n",
      "     ----------------------                   3.2/5.6 MB 2.2 MB/s eta 0:00:02\n",
      "     ------------------------                 3.4/5.6 MB 2.3 MB/s eta 0:00:01\n",
      "     -------------------------                3.5/5.6 MB 2.3 MB/s eta 0:00:01\n",
      "     -------------------------                3.7/5.6 MB 2.3 MB/s eta 0:00:01\n",
      "     --------------------------               3.8/5.6 MB 2.3 MB/s eta 0:00:01\n",
      "     ---------------------------              3.9/5.6 MB 2.3 MB/s eta 0:00:01\n",
      "     ----------------------------             4.0/5.6 MB 2.3 MB/s eta 0:00:01\n",
      "     -----------------------------            4.2/5.6 MB 2.3 MB/s eta 0:00:01\n",
      "     ------------------------------           4.3/5.6 MB 2.3 MB/s eta 0:00:01\n",
      "     -------------------------------          4.4/5.6 MB 2.3 MB/s eta 0:00:01\n",
      "     --------------------------------         4.5/5.6 MB 2.3 MB/s eta 0:00:01\n",
      "     --------------------------------         4.6/5.6 MB 2.4 MB/s eta 0:00:01\n",
      "     ---------------------------------        4.8/5.6 MB 2.3 MB/s eta 0:00:01\n",
      "     ----------------------------------       4.9/5.6 MB 2.4 MB/s eta 0:00:01\n",
      "     -----------------------------------      5.0/5.6 MB 2.4 MB/s eta 0:00:01\n",
      "     ------------------------------------     5.2/5.6 MB 2.4 MB/s eta 0:00:01\n",
      "     -------------------------------------    5.2/5.6 MB 2.4 MB/s eta 0:00:01\n",
      "     -------------------------------------    5.3/5.6 MB 2.3 MB/s eta 0:00:01\n",
      "     -------------------------------------    5.3/5.6 MB 2.3 MB/s eta 0:00:01\n",
      "     --------------------------------------   5.5/5.6 MB 2.3 MB/s eta 0:00:01\n",
      "     ---------------------------------------  5.6/5.6 MB 2.3 MB/s eta 0:00:01\n",
      "     ---------------------------------------  5.6/5.6 MB 2.3 MB/s eta 0:00:01\n",
      "     ---------------------------------------- 5.6/5.6 MB 2.3 MB/s eta 0:00:00\n",
      "Collecting tensorflow-estimator<2.13,>=2.12.0 (from tensorflow-intel==2.12.0->tensorflow)\n",
      "  Using cached tensorflow_estimator-2.12.0-py2.py3-none-any.whl (440 kB)\n",
      "Collecting keras<2.13,>=2.12.0 (from tensorflow-intel==2.12.0->tensorflow)\n",
      "  Using cached keras-2.12.0-py2.py3-none-any.whl (1.7 MB)\n",
      "Collecting tensorflow-io-gcs-filesystem>=0.23.1 (from tensorflow-intel==2.12.0->tensorflow)\n",
      "  Downloading tensorflow_io_gcs_filesystem-0.31.0-cp311-cp311-win_amd64.whl (1.5 MB)\n",
      "                                              0.0/1.5 MB ? eta -:--:--\n",
      "     -                                        0.0/1.5 MB ? eta -:--:--\n",
      "     ---                                      0.1/1.5 MB 2.4 MB/s eta 0:00:01\n",
      "     ----                                     0.2/1.5 MB 2.4 MB/s eta 0:00:01\n",
      "     ------                                   0.3/1.5 MB 2.0 MB/s eta 0:00:01\n",
      "     ---------                                0.4/1.5 MB 1.9 MB/s eta 0:00:01\n",
      "     -----------                              0.4/1.5 MB 2.0 MB/s eta 0:00:01\n",
      "     -------------                            0.5/1.5 MB 1.8 MB/s eta 0:00:01\n",
      "     ---------------                          0.6/1.5 MB 1.8 MB/s eta 0:00:01\n",
      "     -------------------                      0.7/1.5 MB 1.9 MB/s eta 0:00:01\n",
      "     ---------------------                    0.8/1.5 MB 2.0 MB/s eta 0:00:01\n",
      "     -----------------------                  0.9/1.5 MB 1.9 MB/s eta 0:00:01\n",
      "     ---------------------------              1.0/1.5 MB 1.9 MB/s eta 0:00:01\n",
      "     ----------------------------             1.1/1.5 MB 1.9 MB/s eta 0:00:01\n",
      "     ------------------------------           1.1/1.5 MB 1.8 MB/s eta 0:00:01\n",
      "     -----------------------------------      1.3/1.5 MB 2.0 MB/s eta 0:00:01\n",
      "     ------------------------------------     1.4/1.5 MB 1.9 MB/s eta 0:00:01\n",
      "     --------------------------------------   1.4/1.5 MB 1.9 MB/s eta 0:00:01\n",
      "     ---------------------------------------- 1.5/1.5 MB 1.9 MB/s eta 0:00:00\n",
      "Collecting wheel<1.0,>=0.23.0 (from astunparse>=1.6.0->tensorflow-intel==2.12.0->tensorflow)\n",
      "  Using cached wheel-0.40.0-py3-none-any.whl (64 kB)\n",
      "Collecting ml-dtypes>=0.0.3 (from jax>=0.3.15->tensorflow-intel==2.12.0->tensorflow)\n",
      "  Downloading ml_dtypes-0.1.0-cp311-cp311-win_amd64.whl (120 kB)\n",
      "                                              0.0/120.7 kB ? eta -:--:--\n",
      "                                              0.0/120.7 kB ? eta -:--:--\n",
      "                                              0.0/120.7 kB ? eta -:--:--\n",
      "     ---                                      10.2/120.7 kB ? eta -:--:--\n",
      "     -----------------------------------    112.6/120.7 kB 2.2 MB/s eta 0:00:01\n",
      "     -------------------------------------- 120.7/120.7 kB 1.8 MB/s eta 0:00:00\n",
      "Requirement already satisfied: scipy>=1.7 in c:\\users\\ducat\\appdata\\local\\programs\\python\\python311\\lib\\site-packages (from jax>=0.3.15->tensorflow-intel==2.12.0->tensorflow) (1.10.0)\n",
      "Collecting google-auth<3,>=1.6.3 (from tensorboard<2.13,>=2.12->tensorflow-intel==2.12.0->tensorflow)\n",
      "  Using cached google_auth-2.17.3-py2.py3-none-any.whl (178 kB)\n",
      "Collecting google-auth-oauthlib<1.1,>=0.5 (from tensorboard<2.13,>=2.12->tensorflow-intel==2.12.0->tensorflow)\n",
      "  Using cached google_auth_oauthlib-1.0.0-py2.py3-none-any.whl (18 kB)\n",
      "Collecting markdown>=2.6.8 (from tensorboard<2.13,>=2.12->tensorflow-intel==2.12.0->tensorflow)\n",
      "  Downloading Markdown-3.4.3-py3-none-any.whl (93 kB)\n",
      "                                              0.0/93.9 kB ? eta -:--:--\n",
      "     -------------                            30.7/93.9 kB ? eta -:--:--\n",
      "     ---------------------------------------- 93.9/93.9 kB 1.8 MB/s eta 0:00:00\n",
      "Requirement already satisfied: requests<3,>=2.21.0 in c:\\users\\ducat\\appdata\\local\\programs\\python\\python311\\lib\\site-packages (from tensorboard<2.13,>=2.12->tensorflow-intel==2.12.0->tensorflow) (2.28.2)\n",
      "Collecting tensorboard-data-server<0.8.0,>=0.7.0 (from tensorboard<2.13,>=2.12->tensorflow-intel==2.12.0->tensorflow)\n",
      "  Using cached tensorboard_data_server-0.7.0-py3-none-any.whl (2.4 kB)\n",
      "Collecting werkzeug>=1.0.1 (from tensorboard<2.13,>=2.12->tensorflow-intel==2.12.0->tensorflow)\n",
      "  Downloading Werkzeug-2.3.3-py3-none-any.whl (242 kB)\n",
      "                                              0.0/242.3 kB ? eta -:--:--\n",
      "     ----                                    30.7/242.3 kB 1.4 MB/s eta 0:00:01\n",
      "     ----                                    30.7/242.3 kB 1.4 MB/s eta 0:00:01\n",
      "     --------------                        92.2/242.3 kB 751.6 kB/s eta 0:00:01\n",
      "     ----------------                     112.6/242.3 kB 819.2 kB/s eta 0:00:01\n",
      "     -------------------------------------- 242.3/242.3 kB 1.1 MB/s eta 0:00:00\n",
      "Collecting cachetools<6.0,>=2.0.0 (from google-auth<3,>=1.6.3->tensorboard<2.13,>=2.12->tensorflow-intel==2.12.0->tensorflow)\n",
      "  Using cached cachetools-5.3.0-py3-none-any.whl (9.3 kB)\n",
      "Collecting pyasn1-modules>=0.2.1 (from google-auth<3,>=1.6.3->tensorboard<2.13,>=2.12->tensorflow-intel==2.12.0->tensorflow)\n",
      "  Downloading pyasn1_modules-0.3.0-py2.py3-none-any.whl (181 kB)\n",
      "                                              0.0/181.3 kB ? eta -:--:--\n",
      "     --                                       10.2/181.3 kB ? eta -:--:--\n",
      "     ------                                30.7/181.3 kB 262.6 kB/s eta 0:00:01\n",
      "     -------------------                     92.2/181.3 kB 1.1 MB/s eta 0:00:01\n",
      "     ----------------------------         143.4/181.3 kB 778.5 kB/s eta 0:00:01\n",
      "     ----------------------------         143.4/181.3 kB 778.5 kB/s eta 0:00:01\n",
      "     ------------------------------------ 181.3/181.3 kB 731.1 kB/s eta 0:00:00\n",
      "Collecting rsa<5,>=3.1.4 (from google-auth<3,>=1.6.3->tensorboard<2.13,>=2.12->tensorflow-intel==2.12.0->tensorflow)\n",
      "  Using cached rsa-4.9-py3-none-any.whl (34 kB)\n",
      "Collecting requests-oauthlib>=0.7.0 (from google-auth-oauthlib<1.1,>=0.5->tensorboard<2.13,>=2.12->tensorflow-intel==2.12.0->tensorflow)\n",
      "  Using cached requests_oauthlib-1.3.1-py2.py3-none-any.whl (23 kB)\n",
      "Requirement already satisfied: charset-normalizer<4,>=2 in c:\\users\\ducat\\appdata\\local\\programs\\python\\python311\\lib\\site-packages (from requests<3,>=2.21.0->tensorboard<2.13,>=2.12->tensorflow-intel==2.12.0->tensorflow) (3.1.0)\n",
      "Requirement already satisfied: idna<4,>=2.5 in c:\\users\\ducat\\appdata\\local\\programs\\python\\python311\\lib\\site-packages (from requests<3,>=2.21.0->tensorboard<2.13,>=2.12->tensorflow-intel==2.12.0->tensorflow) (3.4)\n",
      "Requirement already satisfied: urllib3<1.27,>=1.21.1 in c:\\users\\ducat\\appdata\\local\\programs\\python\\python311\\lib\\site-packages (from requests<3,>=2.21.0->tensorboard<2.13,>=2.12->tensorflow-intel==2.12.0->tensorflow) (1.26.15)\n",
      "Requirement already satisfied: certifi>=2017.4.17 in c:\\users\\ducat\\appdata\\local\\programs\\python\\python311\\lib\\site-packages (from requests<3,>=2.21.0->tensorboard<2.13,>=2.12->tensorflow-intel==2.12.0->tensorflow) (2022.12.7)\n",
      "Collecting MarkupSafe>=2.1.1 (from werkzeug>=1.0.1->tensorboard<2.13,>=2.12->tensorflow-intel==2.12.0->tensorflow)\n",
      "  Downloading MarkupSafe-2.1.2-cp311-cp311-win_amd64.whl (16 kB)\n",
      "Collecting pyasn1<0.6.0,>=0.4.6 (from pyasn1-modules>=0.2.1->google-auth<3,>=1.6.3->tensorboard<2.13,>=2.12->tensorflow-intel==2.12.0->tensorflow)\n",
      "  Downloading pyasn1-0.5.0-py2.py3-none-any.whl (83 kB)\n",
      "                                              0.0/83.9 kB ? eta -:--:--\n",
      "     --------------                           30.7/83.9 kB 1.4 MB/s eta 0:00:01\n",
      "     -----------------------------            61.4/83.9 kB 1.7 MB/s eta 0:00:01\n",
      "     -----------------------------            61.4/83.9 kB 1.7 MB/s eta 0:00:01\n",
      "     -----------------------------            61.4/83.9 kB 1.7 MB/s eta 0:00:01\n",
      "     -----------------------------            61.4/83.9 kB 1.7 MB/s eta 0:00:01\n",
      "     -----------------------------            61.4/83.9 kB 1.7 MB/s eta 0:00:01\n",
      "     -----------------------------            61.4/83.9 kB 1.7 MB/s eta 0:00:01\n",
      "     -------------------------------------- 83.9/83.9 kB 236.0 kB/s eta 0:00:00\n",
      "Collecting oauthlib>=3.0.0 (from requests-oauthlib>=0.7.0->google-auth-oauthlib<1.1,>=0.5->tensorboard<2.13,>=2.12->tensorflow-intel==2.12.0->tensorflow)\n",
      "  Using cached oauthlib-3.2.2-py3-none-any.whl (151 kB)\n",
      "Building wheels for collected packages: jax, wrapt\n",
      "  Building wheel for jax (pyproject.toml): started\n",
      "  Building wheel for jax (pyproject.toml): finished with status 'done'\n",
      "  Created wheel for jax: filename=jax-0.4.8-py3-none-any.whl size=1439795 sha256=a26bbdeb3cf4872bed91f3b29d254a5c3a5fbc8fb8017a333497bcab00474c05\n",
      "  Stored in directory: c:\\users\\ducat\\appdata\\local\\pip\\cache\\wheels\\49\\7b\\93\\abd8e629d0adac97a89065c1bb8e0733ad77f0aa076c20f416\n",
      "  Building wheel for wrapt (pyproject.toml): started\n",
      "  Building wheel for wrapt (pyproject.toml): finished with status 'done'\n",
      "  Created wheel for wrapt: filename=wrapt-1.14.1-cp311-cp311-win_amd64.whl size=21667 sha256=4ba5053371b86923194387b40e95e229e08856787cbf66d10924c688275b8e79\n",
      "  Stored in directory: c:\\users\\ducat\\appdata\\local\\pip\\cache\\wheels\\eb\\b6\\fa\\5ab6f4107cad63fa04c54ad78d75bb7035119bdd4f751df5ae\n",
      "Successfully built jax wrapt\n",
      "Installing collected packages: libclang, flatbuffers, wrapt, wheel, typing-extensions, termcolor, tensorflow-io-gcs-filesystem, tensorflow-estimator, tensorboard-data-server, pyasn1, protobuf, oauthlib, numpy, MarkupSafe, markdown, keras, grpcio, google-pasta, gast, cachetools, absl-py, werkzeug, rsa, requests-oauthlib, pyasn1-modules, opt-einsum, ml-dtypes, h5py, astunparse, jax, google-auth, google-auth-oauthlib, tensorboard, tensorflow-intel, tensorflow\n",
      "  Attempting uninstall: numpy\n",
      "    Found existing installation: numpy 1.24.3\n",
      "    Uninstalling numpy-1.24.3:\n",
      "      Successfully uninstalled numpy-1.24.3\n",
      "Successfully installed MarkupSafe-2.1.2 absl-py-1.4.0 astunparse-1.6.3 cachetools-5.3.0 flatbuffers-23.3.3 gast-0.4.0 google-auth-2.17.3 google-auth-oauthlib-1.0.0 google-pasta-0.2.0 grpcio-1.54.0 h5py-3.8.0 jax-0.4.8 keras-2.12.0 libclang-16.0.0 markdown-3.4.3 ml-dtypes-0.1.0 numpy-1.23.5 oauthlib-3.2.2 opt-einsum-3.3.0 protobuf-4.22.4 pyasn1-0.5.0 pyasn1-modules-0.3.0 requests-oauthlib-1.3.1 rsa-4.9 tensorboard-2.12.3 tensorboard-data-server-0.7.0 tensorflow-2.12.0 tensorflow-estimator-2.12.0 tensorflow-intel-2.12.0 tensorflow-io-gcs-filesystem-0.31.0 termcolor-2.3.0 typing-extensions-4.5.0 werkzeug-2.3.3 wheel-0.40.0 wrapt-1.14.1\n"
     ]
    }
   ],
   "source": [
    "pip install tensorflow"
   ]
  },
  {
   "cell_type": "code",
   "execution_count": 3,
   "metadata": {},
   "outputs": [],
   "source": [
    "import tensorflow as tf"
   ]
  },
  {
   "cell_type": "code",
   "execution_count": 8,
   "metadata": {},
   "outputs": [
    {
     "name": "stdout",
     "output_type": "stream",
     "text": [
      "tf.Tensor([1 3 4 5], shape=(4,), dtype=int32)\n"
     ]
    }
   ],
   "source": [
    "a=tf.constant([1,3,4,5])  # immutable array\n",
    "print(a)\n"
   ]
  },
  {
   "cell_type": "code",
   "execution_count": 15,
   "metadata": {},
   "outputs": [
    {
     "name": "stdout",
     "output_type": "stream",
     "text": [
      "<tf.Variable 'Variable:0' shape=(4,) dtype=int32, numpy=array([1, 2, 3, 4])>\n",
      "<tf.Variable 'Variable:0' shape=(4,) dtype=int32, numpy=array([2, 4, 6, 8])>\n",
      "<tf.Variable 'Variable:0' shape=(4,) dtype=int32, numpy=array([-1,  0,  1,  2])>\n"
     ]
    }
   ],
   "source": [
    "b=tf.Variable([1,2,3,4,])  #mutable array\n",
    "print(b)\n",
    "b.assign_add([1,2,3,4])\n",
    "print(b)\n",
    "b.assign_sub([3,4,5,6])\n",
    "print(b)"
   ]
  },
  {
   "cell_type": "code",
   "execution_count": 14,
   "metadata": {},
   "outputs": [
    {
     "name": "stdout",
     "output_type": "stream",
     "text": [
      "<tf.Variable 'Variable:0' shape=(4,) dtype=int32, numpy=array([2, 4, 6, 8])>\n"
     ]
    }
   ],
   "source": [
    "print(b)"
   ]
  },
  {
   "cell_type": "code",
   "execution_count": 16,
   "metadata": {},
   "outputs": [
    {
     "data": {
      "text/plain": [
       "<tf.Tensor: shape=(4,), dtype=int32, numpy=array([0, 3, 5, 7])>"
      ]
     },
     "execution_count": 16,
     "metadata": {},
     "output_type": "execute_result"
    }
   ],
   "source": [
    "a+b"
   ]
  },
  {
   "cell_type": "code",
   "execution_count": 17,
   "metadata": {},
   "outputs": [
    {
     "data": {
      "text/plain": [
       "<tf.Tensor: shape=(4,), dtype=int32, numpy=array([1, 3, 4, 5])>"
      ]
     },
     "execution_count": 17,
     "metadata": {},
     "output_type": "execute_result"
    }
   ],
   "source": [
    "a"
   ]
  },
  {
   "cell_type": "code",
   "execution_count": 18,
   "metadata": {},
   "outputs": [
    {
     "data": {
      "text/plain": [
       "<tf.Variable 'Variable:0' shape=(4,) dtype=int32, numpy=array([-1,  0,  1,  2])>"
      ]
     },
     "execution_count": 18,
     "metadata": {},
     "output_type": "execute_result"
    }
   ],
   "source": [
    "b"
   ]
  },
  {
   "cell_type": "code",
   "execution_count": 19,
   "metadata": {},
   "outputs": [
    {
     "data": {
      "text/plain": [
       "<tf.Variable 'UnreadVariable' shape=(4,) dtype=int32, numpy=array([1, 3, 4, 5])>"
      ]
     },
     "execution_count": 19,
     "metadata": {},
     "output_type": "execute_result"
    }
   ],
   "source": [
    "b.assign(a)"
   ]
  },
  {
   "cell_type": "code",
   "execution_count": 20,
   "metadata": {},
   "outputs": [
    {
     "name": "stdout",
     "output_type": "stream",
     "text": [
      "<tf.Variable 'Variable:0' shape=(4,) dtype=int32, numpy=array([1, 3, 4, 5])>\n"
     ]
    }
   ],
   "source": [
    "print(b)"
   ]
  },
  {
   "cell_type": "code",
   "execution_count": 1,
   "metadata": {},
   "outputs": [],
   "source": [
    "# Date: 9/5/2023"
   ]
  },
  {
   "cell_type": "code",
   "execution_count": 2,
   "metadata": {},
   "outputs": [],
   "source": [
    "import numpy as np"
   ]
  },
  {
   "cell_type": "code",
   "execution_count": 4,
   "metadata": {},
   "outputs": [
    {
     "name": "stdout",
     "output_type": "stream",
     "text": [
      "[1 2 3 4 5]\n"
     ]
    }
   ],
   "source": [
    "a=np.array([1,2,3,4,5])\n",
    "print(a)"
   ]
  },
  {
   "cell_type": "code",
   "execution_count": 6,
   "metadata": {},
   "outputs": [
    {
     "name": "stdout",
     "output_type": "stream",
     "text": [
      "15\n"
     ]
    }
   ],
   "source": [
    "new=0\n",
    "for i in a:\n",
    "    new=new+i\n",
    "print(new)"
   ]
  },
  {
   "cell_type": "code",
   "execution_count": 7,
   "metadata": {},
   "outputs": [
    {
     "data": {
      "text/plain": [
       "15"
      ]
     },
     "execution_count": 7,
     "metadata": {},
     "output_type": "execute_result"
    }
   ],
   "source": [
    "sum(a)"
   ]
  },
  {
   "cell_type": "code",
   "execution_count": 11,
   "metadata": {},
   "outputs": [
    {
     "data": {
      "text/plain": [
       "15"
      ]
     },
     "execution_count": 11,
     "metadata": {},
     "output_type": "execute_result"
    }
   ],
   "source": [
    "np.sum(a)"
   ]
  },
  {
   "cell_type": "code",
   "execution_count": 14,
   "metadata": {},
   "outputs": [
    {
     "name": "stdout",
     "output_type": "stream",
     "text": [
      "[[6 6 4]\n",
      " [6 5 6]]\n"
     ]
    }
   ],
   "source": [
    "b=np.random.randint(1,10,(2,3))\n",
    "print(b)"
   ]
  },
  {
   "cell_type": "code",
   "execution_count": 15,
   "metadata": {},
   "outputs": [
    {
     "data": {
      "text/plain": [
       "33"
      ]
     },
     "execution_count": 15,
     "metadata": {},
     "output_type": "execute_result"
    }
   ],
   "source": [
    "np.sum(b)"
   ]
  },
  {
   "cell_type": "code",
   "execution_count": 20,
   "metadata": {},
   "outputs": [
    {
     "data": {
      "text/plain": [
       "array([12, 11, 10])"
      ]
     },
     "execution_count": 20,
     "metadata": {},
     "output_type": "execute_result"
    }
   ],
   "source": [
    "np.sum(b,axis=0)   # axis =0 means it will add all the value column wise "
   ]
  },
  {
   "cell_type": "code",
   "execution_count": 21,
   "metadata": {},
   "outputs": [
    {
     "data": {
      "text/plain": [
       "array([16, 17])"
      ]
     },
     "execution_count": 21,
     "metadata": {},
     "output_type": "execute_result"
    }
   ],
   "source": [
    "np.sum(b,axis=1) # axis=1 means it will add all the value row wise"
   ]
  },
  {
   "cell_type": "code",
   "execution_count": 22,
   "metadata": {},
   "outputs": [
    {
     "data": {
      "text/plain": [
       "array([[6, 6, 4],\n",
       "       [6, 5, 6]])"
      ]
     },
     "execution_count": 22,
     "metadata": {},
     "output_type": "execute_result"
    }
   ],
   "source": [
    "b"
   ]
  },
  {
   "cell_type": "code",
   "execution_count": 23,
   "metadata": {},
   "outputs": [
    {
     "data": {
      "text/plain": [
       "5.5"
      ]
     },
     "execution_count": 23,
     "metadata": {},
     "output_type": "execute_result"
    }
   ],
   "source": [
    "np.mean(b)"
   ]
  },
  {
   "cell_type": "code",
   "execution_count": 32,
   "metadata": {},
   "outputs": [
    {
     "data": {
      "text/plain": [
       "array([6, 6, 6, 5, 4, 6])"
      ]
     },
     "execution_count": 32,
     "metadata": {},
     "output_type": "execute_result"
    }
   ],
   "source": [
    "c=b.flatten(order=\"F\")\n",
    "c"
   ]
  },
  {
   "cell_type": "code",
   "execution_count": 38,
   "metadata": {},
   "outputs": [
    {
     "data": {
      "text/plain": [
       "5.5"
      ]
     },
     "execution_count": 38,
     "metadata": {},
     "output_type": "execute_result"
    }
   ],
   "source": [
    "np.sum(b.flatten())/len(b.flatten())"
   ]
  },
  {
   "cell_type": "code",
   "execution_count": 41,
   "metadata": {},
   "outputs": [],
   "source": [
    "# np.sum(b.flatten())/len(b.flatten())"
   ]
  },
  {
   "cell_type": "code",
   "execution_count": 42,
   "metadata": {},
   "outputs": [
    {
     "data": {
      "text/plain": [
       "array([[6, 6, 4],\n",
       "       [6, 5, 6]])"
      ]
     },
     "execution_count": 42,
     "metadata": {},
     "output_type": "execute_result"
    }
   ],
   "source": [
    "b"
   ]
  },
  {
   "cell_type": "code",
   "execution_count": 43,
   "metadata": {},
   "outputs": [
    {
     "data": {
      "text/plain": [
       "array([6. , 5.5, 5. ])"
      ]
     },
     "execution_count": 43,
     "metadata": {},
     "output_type": "execute_result"
    }
   ],
   "source": [
    "np.mean(b,axis=0)"
   ]
  },
  {
   "cell_type": "code",
   "execution_count": 44,
   "metadata": {},
   "outputs": [
    {
     "data": {
      "text/plain": [
       "array([5.33333333, 5.66666667])"
      ]
     },
     "execution_count": 44,
     "metadata": {},
     "output_type": "execute_result"
    }
   ],
   "source": [
    "np.mean(b,axis=1)"
   ]
  },
  {
   "cell_type": "code",
   "execution_count": 45,
   "metadata": {},
   "outputs": [
    {
     "data": {
      "text/plain": [
       "array([[6, 6, 4],\n",
       "       [6, 5, 6]])"
      ]
     },
     "execution_count": 45,
     "metadata": {},
     "output_type": "execute_result"
    }
   ],
   "source": [
    "b"
   ]
  },
  {
   "cell_type": "code",
   "execution_count": 46,
   "metadata": {},
   "outputs": [
    {
     "data": {
      "text/plain": [
       "4"
      ]
     },
     "execution_count": 46,
     "metadata": {},
     "output_type": "execute_result"
    }
   ],
   "source": [
    "np.min(b)"
   ]
  },
  {
   "cell_type": "code",
   "execution_count": 47,
   "metadata": {},
   "outputs": [
    {
     "data": {
      "text/plain": [
       "array([6, 5, 4])"
      ]
     },
     "execution_count": 47,
     "metadata": {},
     "output_type": "execute_result"
    }
   ],
   "source": [
    "np.min(b,axis=0)"
   ]
  },
  {
   "cell_type": "code",
   "execution_count": 48,
   "metadata": {},
   "outputs": [
    {
     "data": {
      "text/plain": [
       "array([4, 5])"
      ]
     },
     "execution_count": 48,
     "metadata": {},
     "output_type": "execute_result"
    }
   ],
   "source": [
    "np.min(b,axis=1)"
   ]
  },
  {
   "cell_type": "code",
   "execution_count": 49,
   "metadata": {},
   "outputs": [
    {
     "data": {
      "text/plain": [
       "6"
      ]
     },
     "execution_count": 49,
     "metadata": {},
     "output_type": "execute_result"
    }
   ],
   "source": [
    "np.max(b)"
   ]
  },
  {
   "cell_type": "code",
   "execution_count": 50,
   "metadata": {},
   "outputs": [
    {
     "data": {
      "text/plain": [
       "array([6, 6, 6])"
      ]
     },
     "execution_count": 50,
     "metadata": {},
     "output_type": "execute_result"
    }
   ],
   "source": [
    "np.max(b,axis=0)"
   ]
  },
  {
   "cell_type": "code",
   "execution_count": 51,
   "metadata": {},
   "outputs": [
    {
     "data": {
      "text/plain": [
       "array([6, 6])"
      ]
     },
     "execution_count": 51,
     "metadata": {},
     "output_type": "execute_result"
    }
   ],
   "source": [
    "np.max(b,axis=1)"
   ]
  },
  {
   "cell_type": "code",
   "execution_count": 52,
   "metadata": {},
   "outputs": [
    {
     "data": {
      "text/plain": [
       "6.0"
      ]
     },
     "execution_count": 52,
     "metadata": {},
     "output_type": "execute_result"
    }
   ],
   "source": [
    "np.median(b)"
   ]
  },
  {
   "cell_type": "code",
   "execution_count": 53,
   "metadata": {},
   "outputs": [
    {
     "data": {
      "text/plain": [
       "array([6., 6.])"
      ]
     },
     "execution_count": 53,
     "metadata": {},
     "output_type": "execute_result"
    }
   ],
   "source": [
    "np.median(b,axis=1)"
   ]
  },
  {
   "cell_type": "code",
   "execution_count": 54,
   "metadata": {},
   "outputs": [
    {
     "data": {
      "text/plain": [
       "array([6. , 5.5, 5. ])"
      ]
     },
     "execution_count": 54,
     "metadata": {},
     "output_type": "execute_result"
    }
   ],
   "source": [
    "np.median(b,axis=0)"
   ]
  },
  {
   "cell_type": "code",
   "execution_count": 58,
   "metadata": {},
   "outputs": [],
   "source": [
    "c=np.random.randint(1,100,(3,3))"
   ]
  },
  {
   "cell_type": "code",
   "execution_count": 59,
   "metadata": {},
   "outputs": [
    {
     "data": {
      "text/plain": [
       "array([[ 6, 22, 37],\n",
       "       [92,  1, 58],\n",
       "       [74, 64, 47]])"
      ]
     },
     "execution_count": 59,
     "metadata": {},
     "output_type": "execute_result"
    }
   ],
   "source": [
    "c"
   ]
  },
  {
   "cell_type": "code",
   "execution_count": 60,
   "metadata": {},
   "outputs": [
    {
     "data": {
      "text/plain": [
       "3"
      ]
     },
     "execution_count": 60,
     "metadata": {},
     "output_type": "execute_result"
    }
   ],
   "source": [
    "np.argmax(c)"
   ]
  },
  {
   "cell_type": "code",
   "execution_count": 65,
   "metadata": {},
   "outputs": [
    {
     "data": {
      "text/plain": [
       "array([ 6, 92, 74, 22,  1, 64, 37, 58, 47])"
      ]
     },
     "execution_count": 65,
     "metadata": {},
     "output_type": "execute_result"
    }
   ],
   "source": [
    "c.flatten(order=\"F\")"
   ]
  },
  {
   "cell_type": "code",
   "execution_count": 67,
   "metadata": {},
   "outputs": [
    {
     "data": {
      "text/plain": [
       "4"
      ]
     },
     "execution_count": 67,
     "metadata": {},
     "output_type": "execute_result"
    }
   ],
   "source": [
    "np.argmin(c)"
   ]
  },
  {
   "cell_type": "code",
   "execution_count": 68,
   "metadata": {},
   "outputs": [
    {
     "data": {
      "text/plain": [
       "4"
      ]
     },
     "execution_count": 68,
     "metadata": {},
     "output_type": "execute_result"
    }
   ],
   "source": [
    "np.argmin(c.flatten(order=\"F\"))"
   ]
  },
  {
   "cell_type": "code",
   "execution_count": 69,
   "metadata": {},
   "outputs": [
    {
     "data": {
      "text/plain": [
       "array([ 6, 92, 74, 22,  1, 64, 37, 58, 47])"
      ]
     },
     "execution_count": 69,
     "metadata": {},
     "output_type": "execute_result"
    }
   ],
   "source": [
    "c.flatten(order=\"F\")"
   ]
  },
  {
   "cell_type": "code",
   "execution_count": 70,
   "metadata": {},
   "outputs": [
    {
     "data": {
      "text/plain": [
       "array([ 6, 22, 37, 92,  1, 58, 74, 64, 47])"
      ]
     },
     "execution_count": 70,
     "metadata": {},
     "output_type": "execute_result"
    }
   ],
   "source": [
    "c.flatten()"
   ]
  },
  {
   "cell_type": "code",
   "execution_count": 73,
   "metadata": {},
   "outputs": [
    {
     "data": {
      "text/plain": [
       "array([[ 6, 22, 37],\n",
       "       [ 1, 58, 92],\n",
       "       [47, 64, 74]])"
      ]
     },
     "execution_count": 73,
     "metadata": {},
     "output_type": "execute_result"
    }
   ],
   "source": [
    "np.sort(c)"
   ]
  },
  {
   "cell_type": "code",
   "execution_count": 85,
   "metadata": {},
   "outputs": [],
   "source": [
    "a=np.sort(c.flatten())"
   ]
  },
  {
   "cell_type": "code",
   "execution_count": 91,
   "metadata": {},
   "outputs": [
    {
     "data": {
      "text/plain": [
       "array([92, 74, 64, 58, 47, 37, 22,  6,  1])"
      ]
     },
     "execution_count": 91,
     "metadata": {},
     "output_type": "execute_result"
    }
   ],
   "source": [
    "np.array(list(reversed(a)))"
   ]
  },
  {
   "cell_type": "code",
   "execution_count": 92,
   "metadata": {},
   "outputs": [],
   "source": [
    "a=[1,2,3,4,5,6]"
   ]
  },
  {
   "cell_type": "code",
   "execution_count": 93,
   "metadata": {},
   "outputs": [
    {
     "name": "stdout",
     "output_type": "stream",
     "text": [
      "[1, 4, 9, 16, 25, 36]\n"
     ]
    }
   ],
   "source": [
    "cont=[]\n",
    "for i in a:\n",
    "    cont.append(i*i)\n",
    "print(cont)"
   ]
  },
  {
   "cell_type": "code",
   "execution_count": 94,
   "metadata": {},
   "outputs": [
    {
     "data": {
      "text/plain": [
       "array([ 1,  4,  9, 16, 25, 36])"
      ]
     },
     "execution_count": 94,
     "metadata": {},
     "output_type": "execute_result"
    }
   ],
   "source": [
    "np.square(a)"
   ]
  },
  {
   "cell_type": "code",
   "execution_count": 95,
   "metadata": {},
   "outputs": [
    {
     "data": {
      "text/plain": [
       "array([ 1,  4,  9, 16, 25, 36])"
      ]
     },
     "execution_count": 95,
     "metadata": {},
     "output_type": "execute_result"
    }
   ],
   "source": [
    "c=np.array([1,2,3,4,5,6])\n",
    "np.square(c)"
   ]
  },
  {
   "cell_type": "code",
   "execution_count": 105,
   "metadata": {},
   "outputs": [],
   "source": [
    "c=np.linspace(1,2,10)"
   ]
  },
  {
   "cell_type": "code",
   "execution_count": 106,
   "metadata": {},
   "outputs": [
    {
     "data": {
      "text/plain": [
       "array([1.        , 1.11111111, 1.22222222, 1.33333333, 1.44444444,\n",
       "       1.55555556, 1.66666667, 1.77777778, 1.88888889, 2.        ])"
      ]
     },
     "execution_count": 106,
     "metadata": {},
     "output_type": "execute_result"
    }
   ],
   "source": [
    "c"
   ]
  },
  {
   "cell_type": "code",
   "execution_count": 107,
   "metadata": {},
   "outputs": [
    {
     "data": {
      "text/plain": [
       "array([1.  , 1.11, 1.22, 1.33, 1.44, 1.56, 1.67, 1.78, 1.89, 2.  ])"
      ]
     },
     "execution_count": 107,
     "metadata": {},
     "output_type": "execute_result"
    }
   ],
   "source": [
    "np.round(c,decimals=2)"
   ]
  },
  {
   "cell_type": "code",
   "execution_count": 115,
   "metadata": {},
   "outputs": [
    {
     "data": {
      "text/plain": [
       "2.0"
      ]
     },
     "execution_count": 115,
     "metadata": {},
     "output_type": "execute_result"
    }
   ],
   "source": [
    "np.log10(100)"
   ]
  },
  {
   "cell_type": "code",
   "execution_count": 117,
   "metadata": {},
   "outputs": [],
   "source": [
    "a=np.random.randint(1,10,(2,3))"
   ]
  },
  {
   "cell_type": "code",
   "execution_count": 118,
   "metadata": {},
   "outputs": [
    {
     "data": {
      "text/plain": [
       "array([[4, 2, 4],\n",
       "       [7, 7, 3]])"
      ]
     },
     "execution_count": 118,
     "metadata": {},
     "output_type": "execute_result"
    }
   ],
   "source": [
    "a"
   ]
  },
  {
   "cell_type": "code",
   "execution_count": 119,
   "metadata": {},
   "outputs": [
    {
     "data": {
      "text/plain": [
       "array([[4, 7],\n",
       "       [2, 7],\n",
       "       [4, 3]])"
      ]
     },
     "execution_count": 119,
     "metadata": {},
     "output_type": "execute_result"
    }
   ],
   "source": [
    "a.transpose()  #it is basically transposing the matrix"
   ]
  },
  {
   "cell_type": "code",
   "execution_count": 121,
   "metadata": {},
   "outputs": [
    {
     "data": {
      "text/plain": [
       "array([[4, 7],\n",
       "       [2, 7],\n",
       "       [4, 3]])"
      ]
     },
     "execution_count": 121,
     "metadata": {},
     "output_type": "execute_result"
    }
   ],
   "source": [
    "a.T      #it is basically transposing the matrix"
   ]
  },
  {
   "cell_type": "code",
   "execution_count": 122,
   "metadata": {},
   "outputs": [],
   "source": [
    "a=np.random.randint(1,10,(2,3))"
   ]
  },
  {
   "cell_type": "code",
   "execution_count": 123,
   "metadata": {},
   "outputs": [
    {
     "data": {
      "text/plain": [
       "array([[5, 4, 7],\n",
       "       [7, 1, 8]])"
      ]
     },
     "execution_count": 123,
     "metadata": {},
     "output_type": "execute_result"
    }
   ],
   "source": [
    "a"
   ]
  },
  {
   "cell_type": "code",
   "execution_count": 124,
   "metadata": {},
   "outputs": [],
   "source": [
    "b=np.random.randint(1,10,(3,2))"
   ]
  },
  {
   "cell_type": "code",
   "execution_count": 125,
   "metadata": {},
   "outputs": [
    {
     "data": {
      "text/plain": [
       "array([[4, 1],\n",
       "       [8, 9],\n",
       "       [7, 1]])"
      ]
     },
     "execution_count": 125,
     "metadata": {},
     "output_type": "execute_result"
    }
   ],
   "source": [
    "b"
   ]
  },
  {
   "cell_type": "code",
   "execution_count": 126,
   "metadata": {},
   "outputs": [
    {
     "data": {
      "text/plain": [
       "array([[101,  48],\n",
       "       [ 92,  24]])"
      ]
     },
     "execution_count": 126,
     "metadata": {},
     "output_type": "execute_result"
    }
   ],
   "source": [
    "a.dot(b)"
   ]
  },
  {
   "cell_type": "code",
   "execution_count": 132,
   "metadata": {},
   "outputs": [],
   "source": [
    "d=np.random.randint(1,10,(2,4))"
   ]
  },
  {
   "cell_type": "code",
   "execution_count": 133,
   "metadata": {},
   "outputs": [
    {
     "data": {
      "text/plain": [
       "array([[9, 6, 9, 2],\n",
       "       [8, 7, 9, 7]])"
      ]
     },
     "execution_count": 133,
     "metadata": {},
     "output_type": "execute_result"
    }
   ],
   "source": [
    "d"
   ]
  },
  {
   "cell_type": "code",
   "execution_count": 134,
   "metadata": {},
   "outputs": [],
   "source": [
    "e=np.random.randint(1,10,(4,2))"
   ]
  },
  {
   "cell_type": "code",
   "execution_count": 135,
   "metadata": {},
   "outputs": [
    {
     "data": {
      "text/plain": [
       "array([[9, 6],\n",
       "       [3, 8],\n",
       "       [2, 4],\n",
       "       [4, 7]])"
      ]
     },
     "execution_count": 135,
     "metadata": {},
     "output_type": "execute_result"
    }
   ],
   "source": [
    "e"
   ]
  },
  {
   "cell_type": "code",
   "execution_count": 136,
   "metadata": {},
   "outputs": [
    {
     "data": {
      "text/plain": [
       "array([[125, 152],\n",
       "       [139, 189]])"
      ]
     },
     "execution_count": 136,
     "metadata": {},
     "output_type": "execute_result"
    }
   ],
   "source": [
    "d.dot(e)"
   ]
  },
  {
   "cell_type": "code",
   "execution_count": 137,
   "metadata": {},
   "outputs": [
    {
     "ename": "SyntaxError",
     "evalue": "cannot assign to expression here. Maybe you meant '==' instead of '='? (2390348405.py, line 1)",
     "output_type": "error",
     "traceback": [
      "\u001b[1;36m  Cell \u001b[1;32mIn[137], line 1\u001b[1;36m\u001b[0m\n\u001b[1;33m    a&1=10\u001b[0m\n\u001b[1;37m    ^\u001b[0m\n\u001b[1;31mSyntaxError\u001b[0m\u001b[1;31m:\u001b[0m cannot assign to expression here. Maybe you meant '==' instead of '='?\n"
     ]
    }
   ],
   "source": [
    "a&1=10"
   ]
  },
  {
   "cell_type": "code",
   "execution_count": 139,
   "metadata": {},
   "outputs": [
    {
     "data": {
      "text/plain": [
       "array([[125, 152],\n",
       "       [139, 189]])"
      ]
     },
     "execution_count": 139,
     "metadata": {},
     "output_type": "execute_result"
    }
   ],
   "source": [
    "d@e"
   ]
  },
  {
   "cell_type": "code",
   "execution_count": 144,
   "metadata": {},
   "outputs": [
    {
     "data": {
      "text/plain": [
       "array([2, 4, 2, 3, 2, 4, 4, 4, 4, 4, 4, 2, 2, 2, 4, 3, 2, 4, 1, 4])"
      ]
     },
     "execution_count": 144,
     "metadata": {},
     "output_type": "execute_result"
    }
   ],
   "source": [
    "np.random.choice([1,2,3,4],p=[0.2,0.4,0.1,0.3],size=(20))"
   ]
  },
  {
   "cell_type": "code",
   "execution_count": null,
   "metadata": {},
   "outputs": [],
   "source": []
  }
 ],
 "metadata": {
  "kernelspec": {
   "display_name": "Python 3",
   "language": "python",
   "name": "python3"
  },
  "language_info": {
   "codemirror_mode": {
    "name": "ipython",
    "version": 3
   },
   "file_extension": ".py",
   "mimetype": "text/x-python",
   "name": "python",
   "nbconvert_exporter": "python",
   "pygments_lexer": "ipython3",
   "version": "3.11.3"
  },
  "orig_nbformat": 4
 },
 "nbformat": 4,
 "nbformat_minor": 2
}
